{
 "cells": [
  {
   "cell_type": "markdown",
   "metadata": {},
   "source": [
    "# Twitter Sentiment Analysis of ICC 2019\n",
    "\n",
    "The [ICC](https://en.wikipedia.org/wiki/International_Champions_Cup) is an annual club association football exhibition competition in which some of the world's top soccer clubs take part. This year, games will be played in several cities around the globe - of which Singapore is one. \n",
    "\n",
    "One of the teams that will be playing here in Singapore is [Manchester United FC](https://en.wikipedia.org/wiki/Manchester_United_F.C.), one of the most well-known, highest-earning and accomplished football teams of all time. The [Manchester United twitter account](https://twitter.com/ManUtd) has a staggering 20 million followers, at the time of this project. This extremely large Twitter following is why this team will be focused on in this project.\n",
    "\n",
    "With the mounting excitement and anticipation around the games among football fans, I decided to use the Twitter API to extract tweets pertaining specifically to Manchester United, and also to ICC 2019 overall to gain information on fan sentiments surrounding the games. \n",
    "\n",
    "This analysis will be performed using R (Jupyter Notebook environment will be used to run an R-kernel). We'll start by loading the libraries we'll be using."
   ]
  },
  {
   "cell_type": "code",
   "execution_count": 165,
   "metadata": {},
   "outputs": [
    {
     "name": "stderr",
     "output_type": "stream",
     "text": [
      "Warning message:\n",
      "\"package 'caret' was built under R version 3.6.1\"Loading required package: lattice\n",
      "\n",
      "Attaching package: 'caret'\n",
      "\n",
      "The following object is masked from 'package:purrr':\n",
      "\n",
      "    lift\n",
      "\n"
     ]
    }
   ],
   "source": [
    "library(e1071)\n",
    "library(wordcloud)\n",
    "library(dplyr)\n",
    "library(ggplot2)\n",
    "library(stringr)\n",
    "library(tm)\n",
    "library(tidyr)\n",
    "library(qdap)\n",
    "library(caret)\n",
    "library(purrr)\n",
    "library(syuzhet)\n",
    "library(readr)\n",
    "library(twitteR)\n",
    "library(plotly)\n",
    "library(SnowballC)"
   ]
  },
  {
   "cell_type": "markdown",
   "metadata": {},
   "source": [
    "## Connecting to the Twitter API \n",
    "\n",
    "We'll connect to the Twitter API. Let's start by setting the variables for the Twitter Call authorization. \n",
    "\n",
    "Note that the token and key values below have been redacted to prevent unauthorized access to the APIs:"
   ]
  },
  {
   "cell_type": "code",
   "execution_count": 2,
   "metadata": {},
   "outputs": [],
   "source": [
    "consumer_key <- \"redacted key\"\n",
    "consumer_secret <- \"redacted consumer\"\n",
    "access_token <- \"redacted token\"\n",
    "access_secret <- \"redacted secret\"\n",
    "options(httr_oauth_cache=T) "
   ]
  },
  {
   "cell_type": "markdown",
   "metadata": {},
   "source": [
    "We'll now use the following command to enable the use of a local file to cache OAuth access credentials between R sessions."
   ]
  },
  {
   "cell_type": "code",
   "execution_count": 3,
   "metadata": {},
   "outputs": [
    {
     "name": "stdout",
     "output_type": "stream",
     "text": [
      "[1] \"Using direct authentication\"\n"
     ]
    },
    {
     "name": "stderr",
     "output_type": "stream",
     "text": [
      "Registered S3 method overwritten by 'openssl':\n",
      "  method      from\n",
      "  print.bytes Rcpp\n"
     ]
    }
   ],
   "source": [
    "setup_twitter_oauth(consumer_key, consumer_secret, access_token, access_secret)"
   ]
  },
  {
   "cell_type": "markdown",
   "metadata": {},
   "source": [
    "## Searching the Twitter API using relevant Hashtags\n",
    "\n",
    "Because we're interested in Fan sentiments surrounding Manchester United and the ICC 2019 matches we'll extract tweets with the following Hashtags:\n",
    "1. #ManUtd\n",
    "2. #ICC2019\n",
    "\n",
    "We'll only look at tweets from July 2019 onwards, and collect 2000 tweets for each hashtag."
   ]
  },
  {
   "cell_type": "code",
   "execution_count": 4,
   "metadata": {},
   "outputs": [],
   "source": [
    "manu_search <- searchTwitter('#ManUtd', n=2000, since='2019-07-01')"
   ]
  },
  {
   "cell_type": "code",
   "execution_count": 5,
   "metadata": {},
   "outputs": [],
   "source": [
    "icc_search <- searchTwitter('#ICC2019', n=2000, since='2019-07-01')"
   ]
  },
  {
   "cell_type": "markdown",
   "metadata": {},
   "source": [
    "We'll store the tweet data above as RDS files. "
   ]
  },
  {
   "cell_type": "code",
   "execution_count": 6,
   "metadata": {},
   "outputs": [],
   "source": [
    "saveRDS(manu_search, 'manutd.rds')\n",
    "saveRDS(icc_search, 'icc2019.rds')"
   ]
  },
  {
   "cell_type": "markdown",
   "metadata": {},
   "source": [
    "The `manutd.rds` and `icc2019.rds` files above will be read, and then converted into a dataframe (which will be more easily manipulated and worked with)."
   ]
  },
  {
   "cell_type": "code",
   "execution_count": 7,
   "metadata": {},
   "outputs": [],
   "source": [
    "manu_rds <- readRDS('manutd.rds')\n",
    "manu_tweets <- twListToDF(manu_rds)\n",
    "\n",
    "icc_rds <- readRDS('icc2019.rds')\n",
    "icc_tweets <- twListToDF(icc_rds)"
   ]
  },
  {
   "cell_type": "markdown",
   "metadata": {},
   "source": [
    "## Cleaning the tweets\n",
    "\n",
    "Let's preview the above `manu_tweets` and `icc_tweets` dataframe."
   ]
  },
  {
   "cell_type": "code",
   "execution_count": 9,
   "metadata": {},
   "outputs": [
    {
     "data": {
      "text/html": [
       "<table>\n",
       "<thead><tr><th scope=col>text</th><th scope=col>favorited</th><th scope=col>favoriteCount</th><th scope=col>replyToSN</th><th scope=col>created</th><th scope=col>truncated</th><th scope=col>replyToSID</th><th scope=col>id</th><th scope=col>replyToUID</th><th scope=col>statusSource</th><th scope=col>screenName</th><th scope=col>retweetCount</th><th scope=col>isRetweet</th><th scope=col>retweeted</th><th scope=col>longitude</th><th scope=col>latitude</th></tr></thead>\n",
       "<tbody>\n",
       "\t<tr><td><span style=white-space:pre-wrap>A clear choice! &lt;U+0001F62F&gt;\n",
       "\n",
       "Reports suggest @paulpogba has his heart set on a @realmadrid move for one key reason. \n",
       "\n",
       "#Pogba… https://t.co/KGioo2e93M                                        </span></td><td>FALSE                                                                                                                                                                                                                                           </td><td>0                                                                                                                                                                                                                                               </td><td>NA                                                                                                                                                                                                                                              </td><td>2019-07-20 02:59:44                                                                                                                                                                                                                             </td><td> TRUE                                                                                                                                                                                                                                           </td><td>NA                                                                                                                                                                                                                                              </td><td>1152412747155431424                                                                                                                                                                                                                             </td><td>NA                                                                                                                                                                                                                                              </td><td>&lt;a href=\"https://about.twitter.com/products/tweetdeck\" rel=\"nofollow\"&gt;TweetDeck&lt;/a&gt;                                                                                                                                                 </td><td>FOXSportsAsia                                                                                                                                                                                                                                   </td><td>0                                                                                                                                                                                                                                               </td><td>FALSE                                                                                                                                                                                                                                           </td><td>FALSE                                                                                                                                                                                                                                           </td><td>NA                                                                                                                                                                                                                                              </td><td>NA                                                                                                                                                                                                                                              </td></tr>\n",
       "\t<tr><td>What #Manchester United want from Fred this season\n",
       "#ManUtd &lt;U+0001F3F4&gt;&lt;U+000E0067&gt;&lt;U+000E0062&gt;&lt;U+000E0065&gt;&lt;U+000E006E&gt;&lt;U+000E0067&gt;&lt;U+000E007F&gt; #Premier_League \n",
       "Pls RT\n",
       "https://t.co/TgNfVy0vYO</td><td>FALSE                                                                                                                                                                                                                                       </td><td>0                                                                                                                                                                                                                                           </td><td>NA                                                                                                                                                                                                                                          </td><td>2019-07-20 02:58:41                                                                                                                                                                                                                         </td><td>FALSE                                                                                                                                                                                                                                       </td><td>NA                                                                                                                                                                                                                                          </td><td>1152412481475796994                                                                                                                                                                                                                         </td><td>NA                                                                                                                                                                                                                                          </td><td><span style=white-space:pre-wrap>&lt;a href=\"https://footy90.com\" rel=\"nofollow\"&gt;footy90.com - News&lt;/a&gt;                </span>                                                                                                     </td><td><span style=white-space:pre-wrap>footy90com   </span>                                                                                                                                                                                       </td><td>0                                                                                                                                                                                                                                           </td><td>FALSE                                                                                                                                                                                                                                       </td><td>FALSE                                                                                                                                                                                                                                       </td><td>NA                                                                                                                                                                                                                                          </td><td>NA                                                                                                                                                                                                                                          </td></tr>\n",
       "\t<tr><td><span style=white-space:pre-wrap>Betting Odds #football #ChampionsLeague\n",
       "#EuropaLeague #LeedsUnited #ManUtd #freebets \n",
       "#Betfair #Bet365 #Golf \n",
       "£100… https://t.co/WmtIPcfdDn                                                    </span></td><td>FALSE                                                                                                                                                                                                                                     </td><td>0                                                                                                                                                                                                                                         </td><td>NA                                                                                                                                                                                                                                        </td><td>2019-07-20 02:42:05                                                                                                                                                                                                                       </td><td> TRUE                                                                                                                                                                                                                                     </td><td>NA                                                                                                                                                                                                                                        </td><td>1152408304368439296                                                                                                                                                                                                                       </td><td>NA                                                                                                                                                                                                                                        </td><td><span style=white-space:pre-wrap>&lt;a href=\"https://postcron.com\" rel=\"nofollow\"&gt;Postcron App&lt;/a&gt;                     </span>                                                                                                   </td><td>SuperLeague77                                                                                                                                                                                                                             </td><td>0                                                                                                                                                                                                                                         </td><td>FALSE                                                                                                                                                                                                                                     </td><td>FALSE                                                                                                                                                                                                                                     </td><td>NA                                                                                                                                                                                                                                        </td><td>NA                                                                                                                                                                                                                                        </td></tr>\n",
       "</tbody>\n",
       "</table>\n"
      ],
      "text/latex": [
       "\\begin{tabular}{r|llllllllllllllll}\n",
       " text & favorited & favoriteCount & replyToSN & created & truncated & replyToSID & id & replyToUID & statusSource & screenName & retweetCount & isRetweet & retweeted & longitude & latitude\\\\\n",
       "\\hline\n",
       "\t A clear choice! <U+0001F62F>\n",
       "\n",
       "Reports suggest @paulpogba has his heart set on a @realmadrid move for one key reason. \n",
       "\n",
       "\\#Pogba… https://t.co/KGioo2e93M                                         & FALSE                                                                                                                                                                                                & 0                                                                                                                                                                                                    & NA                                                                                                                                                                                                   & 2019-07-20 02:59:44                                                                                                                                                                                  &  TRUE                                                                                                                                                                                                & NA                                                                                                                                                                                                   & 1152412747155431424                                                                                                                                                                                  & NA                                                                                                                                                                                                   & <a href=\"https://about.twitter.com/products/tweetdeck\" rel=\"nofollow\">TweetDeck</a>                                                                                                                  & FOXSportsAsia                                                                                                                                                                                        & 0                                                                                                                                                                                                    & FALSE                                                                                                                                                                                                & FALSE                                                                                                                                                                                                & NA                                                                                                                                                                                                   & NA                                                                                                                                                                                                  \\\\\n",
       "\t What \\#Manchester United want from Fred this season\n",
       "\\#ManUtd <U+0001F3F4><U+000E0067><U+000E0062><U+000E0065><U+000E006E><U+000E0067><U+000E007F> \\#Premier\\_League \n",
       "Pls RT\n",
       "https://t.co/TgNfVy0vYO & FALSE                                                                                                                                                                                                      & 0                                                                                                                                                                                                          & NA                                                                                                                                                                                                         & 2019-07-20 02:58:41                                                                                                                                                                                        & FALSE                                                                                                                                                                                                      & NA                                                                                                                                                                                                         & 1152412481475796994                                                                                                                                                                                        & NA                                                                                                                                                                                                         & <a href=\"https://footy90.com\" rel=\"nofollow\">footy90.com - News</a>                                                                                                                                        & footy90com                                                                                                                                                                                                 & 0                                                                                                                                                                                                          & FALSE                                                                                                                                                                                                      & FALSE                                                                                                                                                                                                      & NA                                                                                                                                                                                                         & NA                                                                                                                                                                                                        \\\\\n",
       "\t Betting Odds \\#football \\#ChampionsLeague\n",
       "\\#EuropaLeague \\#LeedsUnited \\#ManUtd \\#freebets \n",
       "\\#Betfair \\#Bet365 \\#Golf \n",
       "£100… https://t.co/WmtIPcfdDn                                                     & FALSE                                                                                                                                                                                                                & 0                                                                                                                                                                                                                    & NA                                                                                                                                                                                                                   & 2019-07-20 02:42:05                                                                                                                                                                                                  &  TRUE                                                                                                                                                                                                                & NA                                                                                                                                                                                                                   & 1152408304368439296                                                                                                                                                                                                  & NA                                                                                                                                                                                                                   & <a href=\"https://postcron.com\" rel=\"nofollow\">Postcron App</a>                                                                                                                                                       & SuperLeague77                                                                                                                                                                                                        & 0                                                                                                                                                                                                                    & FALSE                                                                                                                                                                                                                & FALSE                                                                                                                                                                                                                & NA                                                                                                                                                                                                                   & NA                                                                                                                                                                                                                  \\\\\n",
       "\\end{tabular}\n"
      ],
      "text/markdown": [
       "\n",
       "| text | favorited | favoriteCount | replyToSN | created | truncated | replyToSID | id | replyToUID | statusSource | screenName | retweetCount | isRetweet | retweeted | longitude | latitude |\n",
       "|---|---|---|---|---|---|---|---|---|---|---|---|---|---|---|---|\n",
       "| A clear choice! <U+0001F62F>\n",
       "\n",
       "Reports suggest @paulpogba has his heart set on a @realmadrid move for one key reason. \n",
       "\n",
       "#Pogba… https://t.co/KGioo2e93M                                         | FALSE                                                                                                                                                                                              | 0                                                                                                                                                                                                  | NA                                                                                                                                                                                                 | 2019-07-20 02:59:44                                                                                                                                                                                |  TRUE                                                                                                                                                                                              | NA                                                                                                                                                                                                 | 1152412747155431424                                                                                                                                                                                | NA                                                                                                                                                                                                 | <a href=\"https://about.twitter.com/products/tweetdeck\" rel=\"nofollow\">TweetDeck</a>                                                                                                                | FOXSportsAsia                                                                                                                                                                                      | 0                                                                                                                                                                                                  | FALSE                                                                                                                                                                                              | FALSE                                                                                                                                                                                              | NA                                                                                                                                                                                                 | NA                                                                                                                                                                                                 |\n",
       "| What #Manchester United want from Fred this season\n",
       "#ManUtd <U+0001F3F4><U+000E0067><U+000E0062><U+000E0065><U+000E006E><U+000E0067><U+000E007F> #Premier_League \n",
       "Pls RT\n",
       "https://t.co/TgNfVy0vYO | FALSE                                                                                                                                                                                              | 0                                                                                                                                                                                                  | NA                                                                                                                                                                                                 | 2019-07-20 02:58:41                                                                                                                                                                                | FALSE                                                                                                                                                                                              | NA                                                                                                                                                                                                 | 1152412481475796994                                                                                                                                                                                | NA                                                                                                                                                                                                 | <a href=\"https://footy90.com\" rel=\"nofollow\">footy90.com - News</a>                                                                                                                                | footy90com                                                                                                                                                                                         | 0                                                                                                                                                                                                  | FALSE                                                                                                                                                                                              | FALSE                                                                                                                                                                                              | NA                                                                                                                                                                                                 | NA                                                                                                                                                                                                 |\n",
       "| Betting Odds #football #ChampionsLeague\n",
       "#EuropaLeague #LeedsUnited #ManUtd #freebets \n",
       "#Betfair #Bet365 #Golf \n",
       "£100… https://t.co/WmtIPcfdDn                                                     | FALSE                                                                                                                                                                                              | 0                                                                                                                                                                                                  | NA                                                                                                                                                                                                 | 2019-07-20 02:42:05                                                                                                                                                                                |  TRUE                                                                                                                                                                                              | NA                                                                                                                                                                                                 | 1152408304368439296                                                                                                                                                                                | NA                                                                                                                                                                                                 | <a href=\"https://postcron.com\" rel=\"nofollow\">Postcron App</a>                                                                                                                                     | SuperLeague77                                                                                                                                                                                      | 0                                                                                                                                                                                                  | FALSE                                                                                                                                                                                              | FALSE                                                                                                                                                                                              | NA                                                                                                                                                                                                 | NA                                                                                                                                                                                                 |\n",
       "\n"
      ],
      "text/plain": [
       "  text                                                                                                                                                                                              \n",
       "1 A clear choice! <U+0001F62F>\\n\\nReports suggest @paulpogba has his heart set on a @realmadrid move for one key reason. \\n\\n#Pogba… https://t.co/KGioo2e93M                                        \n",
       "2 What #Manchester United want from Fred this season\\n#ManUtd <U+0001F3F4><U+000E0067><U+000E0062><U+000E0065><U+000E006E><U+000E0067><U+000E007F> #Premier_League \\nPls RT\\nhttps://t.co/TgNfVy0vYO\n",
       "3 Betting Odds #football #ChampionsLeague\\n#EuropaLeague #LeedsUnited #ManUtd #freebets \\n#Betfair #Bet365 #Golf \\n£100… https://t.co/WmtIPcfdDn                                                    \n",
       "  favorited favoriteCount replyToSN created             truncated replyToSID\n",
       "1 FALSE     0             NA        2019-07-20 02:59:44  TRUE     NA        \n",
       "2 FALSE     0             NA        2019-07-20 02:58:41 FALSE     NA        \n",
       "3 FALSE     0             NA        2019-07-20 02:42:05  TRUE     NA        \n",
       "  id                  replyToUID\n",
       "1 1152412747155431424 NA        \n",
       "2 1152412481475796994 NA        \n",
       "3 1152408304368439296 NA        \n",
       "  statusSource                                                                       \n",
       "1 <a href=\"https://about.twitter.com/products/tweetdeck\" rel=\"nofollow\">TweetDeck</a>\n",
       "2 <a href=\"https://footy90.com\" rel=\"nofollow\">footy90.com - News</a>                \n",
       "3 <a href=\"https://postcron.com\" rel=\"nofollow\">Postcron App</a>                     \n",
       "  screenName    retweetCount isRetweet retweeted longitude latitude\n",
       "1 FOXSportsAsia 0            FALSE     FALSE     NA        NA      \n",
       "2 footy90com    0            FALSE     FALSE     NA        NA      \n",
       "3 SuperLeague77 0            FALSE     FALSE     NA        NA      "
      ]
     },
     "metadata": {},
     "output_type": "display_data"
    },
    {
     "data": {
      "text/html": [
       "<table>\n",
       "<thead><tr><th scope=col>text</th><th scope=col>favorited</th><th scope=col>favoriteCount</th><th scope=col>replyToSN</th><th scope=col>created</th><th scope=col>truncated</th><th scope=col>replyToSID</th><th scope=col>id</th><th scope=col>replyToUID</th><th scope=col>statusSource</th><th scope=col>screenName</th><th scope=col>retweetCount</th><th scope=col>isRetweet</th><th scope=col>retweeted</th><th scope=col>longitude</th><th scope=col>latitude</th></tr></thead>\n",
       "<tbody>\n",
       "\t<tr><td><span style=white-space:pre-wrap>RT @SGSportsHub: Coooooool shot, @ManUtd &lt;U+0001F609&gt; Welcome to #sgsportshub! \n",
       "\n",
       "#ICCSG #ICC2019 https://t.co/78DbPWAqkA                  </span></td><td>FALSE                                                                                                                                                                                     </td><td>0                                                                                                                                                                                         </td><td>NA                                                                                                                                                                                        </td><td>2019-07-20 03:03:04                                                                                                                                                                       </td><td>FALSE                                                                                                                                                                                     </td><td>NA                                                                                                                                                                                        </td><td>1152413586167193601                                                                                                                                                                       </td><td>NA                                                                                                                                                                                        </td><td>&lt;a href=\"http://twitter.com/download/iphone\" rel=\"nofollow\"&gt;Twitter for iPhone&lt;/a&gt;                                                                                            </td><td>PremLovesMusic                                                                                                                                                                            </td><td><span style=white-space:pre-wrap>  1</span>                                                                                                                                               </td><td> TRUE                                                                                                                                                                                     </td><td>FALSE                                                                                                                                                                                     </td><td>NA                                                                                                                                                                                        </td><td>NA                                                                                                                                                                                        </td></tr>\n",
       "\t<tr><td>RT @SpursOfficial: &lt;U+0001F605&gt; \"You trying to show off your muscles?\" \n",
       " \n",
       "#SpursTour2019 &lt;U+26AA&gt;&lt;U+FE0F&gt; #ICC2019 https://t.co/vJn0ddNH85</td><td>FALSE                                                                                                                                                         </td><td>0                                                                                                                                                             </td><td>NA                                                                                                                                                            </td><td>2019-07-20 03:02:59                                                                                                                                           </td><td>FALSE                                                                                                                                                         </td><td>NA                                                                                                                                                            </td><td>1152413566298759169                                                                                                                                           </td><td>NA                                                                                                                                                            </td><td>&lt;a href=\"http://twitter.com/download/iphone\" rel=\"nofollow\"&gt;Twitter for iPhone&lt;/a&gt;                                                                </td><td><span style=white-space:pre-wrap>mzs_mn_11     </span>                                                                                                        </td><td>204                                                                                                                                                           </td><td> TRUE                                                                                                                                                         </td><td>FALSE                                                                                                                                                         </td><td>NA                                                                                                                                                            </td><td>NA                                                                                                                                                            </td></tr>\n",
       "\t<tr><td><span style=white-space:pre-wrap>Coooooool shot, @ManUtd &lt;U+0001F609&gt; Welcome to #sgsportshub! \n",
       "\n",
       "#ICCSG #ICC2019 https://t.co/78DbPWAqkA                                   </span></td><td>FALSE                                                                                                                                                                                     </td><td>0                                                                                                                                                                                         </td><td>NA                                                                                                                                                                                        </td><td>2019-07-20 03:02:54                                                                                                                                                                       </td><td>FALSE                                                                                                                                                                                     </td><td>NA                                                                                                                                                                                        </td><td>1152413544194822144                                                                                                                                                                       </td><td>NA                                                                                                                                                                                        </td><td>&lt;a href=\"http://twitter.com/download/iphone\" rel=\"nofollow\"&gt;Twitter for iPhone&lt;/a&gt;                                                                                            </td><td><span style=white-space:pre-wrap>SGSportsHub   </span>                                                                                                                                    </td><td><span style=white-space:pre-wrap>  1</span>                                                                                                                                               </td><td>FALSE                                                                                                                                                                                     </td><td>FALSE                                                                                                                                                                                     </td><td>NA                                                                                                                                                                                        </td><td>NA                                                                                                                                                                                        </td></tr>\n",
       "</tbody>\n",
       "</table>\n"
      ],
      "text/latex": [
       "\\begin{tabular}{r|llllllllllllllll}\n",
       " text & favorited & favoriteCount & replyToSN & created & truncated & replyToSID & id & replyToUID & statusSource & screenName & retweetCount & isRetweet & retweeted & longitude & latitude\\\\\n",
       "\\hline\n",
       "\t RT @SGSportsHub: Coooooool shot, @ManUtd <U+0001F609> Welcome to \\#sgsportshub! \n",
       "\n",
       "\\#ICCSG \\#ICC2019 https://t.co/78DbPWAqkA                   & FALSE                                                                                                                                              & 0                                                                                                                                                  & NA                                                                                                                                                 & 2019-07-20 03:03:04                                                                                                                                & FALSE                                                                                                                                              & NA                                                                                                                                                 & 1152413586167193601                                                                                                                                & NA                                                                                                                                                 & <a href=\"http://twitter.com/download/iphone\" rel=\"nofollow\">Twitter for iPhone</a>                                                                 & PremLovesMusic                                                                                                                                     &   1                                                                                                                                                &  TRUE                                                                                                                                              & FALSE                                                                                                                                              & NA                                                                                                                                                 & NA                                                                                                                                                \\\\\n",
       "\t RT @SpursOfficial: <U+0001F605> \"You trying to show off your muscles?\" \n",
       " \n",
       "\\#SpursTour2019 <U+26AA><U+FE0F> \\#ICC2019 https://t.co/vJn0ddNH85 & FALSE                                                                                                                                            & 0                                                                                                                                                & NA                                                                                                                                               & 2019-07-20 03:02:59                                                                                                                              & FALSE                                                                                                                                            & NA                                                                                                                                               & 1152413566298759169                                                                                                                              & NA                                                                                                                                               & <a href=\"http://twitter.com/download/iphone\" rel=\"nofollow\">Twitter for iPhone</a>                                                               & mzs\\_mn\\_11                                                                                                                                    & 204                                                                                                                                              &  TRUE                                                                                                                                            & FALSE                                                                                                                                            & NA                                                                                                                                               & NA                                                                                                                                              \\\\\n",
       "\t Coooooool shot, @ManUtd <U+0001F609> Welcome to \\#sgsportshub! \n",
       "\n",
       "\\#ICCSG \\#ICC2019 https://t.co/78DbPWAqkA                                    & FALSE                                                                                                                                              & 0                                                                                                                                                  & NA                                                                                                                                                 & 2019-07-20 03:02:54                                                                                                                                & FALSE                                                                                                                                              & NA                                                                                                                                                 & 1152413544194822144                                                                                                                                & NA                                                                                                                                                 & <a href=\"http://twitter.com/download/iphone\" rel=\"nofollow\">Twitter for iPhone</a>                                                                 & SGSportsHub                                                                                                                                        &   1                                                                                                                                                & FALSE                                                                                                                                              & FALSE                                                                                                                                              & NA                                                                                                                                                 & NA                                                                                                                                                \\\\\n",
       "\\end{tabular}\n"
      ],
      "text/markdown": [
       "\n",
       "| text | favorited | favoriteCount | replyToSN | created | truncated | replyToSID | id | replyToUID | statusSource | screenName | retweetCount | isRetweet | retweeted | longitude | latitude |\n",
       "|---|---|---|---|---|---|---|---|---|---|---|---|---|---|---|---|\n",
       "| RT @SGSportsHub: Coooooool shot, @ManUtd <U+0001F609> Welcome to #sgsportshub! \n",
       "\n",
       "#ICCSG #ICC2019 https://t.co/78DbPWAqkA                   | FALSE                                                                                                                                        | 0                                                                                                                                            | NA                                                                                                                                           | 2019-07-20 03:03:04                                                                                                                          | FALSE                                                                                                                                        | NA                                                                                                                                           | 1152413586167193601                                                                                                                          | NA                                                                                                                                           | <a href=\"http://twitter.com/download/iphone\" rel=\"nofollow\">Twitter for iPhone</a>                                                           | PremLovesMusic                                                                                                                               |   1                                                                                                                                          |  TRUE                                                                                                                                        | FALSE                                                                                                                                        | NA                                                                                                                                           | NA                                                                                                                                           |\n",
       "| RT @SpursOfficial: <U+0001F605> \"You trying to show off your muscles?\" \n",
       " \n",
       "#SpursTour2019 <U+26AA><U+FE0F> #ICC2019 https://t.co/vJn0ddNH85 | FALSE                                                                                                                                        | 0                                                                                                                                            | NA                                                                                                                                           | 2019-07-20 03:02:59                                                                                                                          | FALSE                                                                                                                                        | NA                                                                                                                                           | 1152413566298759169                                                                                                                          | NA                                                                                                                                           | <a href=\"http://twitter.com/download/iphone\" rel=\"nofollow\">Twitter for iPhone</a>                                                           | mzs_mn_11                                                                                                                                    | 204                                                                                                                                          |  TRUE                                                                                                                                        | FALSE                                                                                                                                        | NA                                                                                                                                           | NA                                                                                                                                           |\n",
       "| Coooooool shot, @ManUtd <U+0001F609> Welcome to #sgsportshub! \n",
       "\n",
       "#ICCSG #ICC2019 https://t.co/78DbPWAqkA                                    | FALSE                                                                                                                                        | 0                                                                                                                                            | NA                                                                                                                                           | 2019-07-20 03:02:54                                                                                                                          | FALSE                                                                                                                                        | NA                                                                                                                                           | 1152413544194822144                                                                                                                          | NA                                                                                                                                           | <a href=\"http://twitter.com/download/iphone\" rel=\"nofollow\">Twitter for iPhone</a>                                                           | SGSportsHub                                                                                                                                  |   1                                                                                                                                          | FALSE                                                                                                                                        | FALSE                                                                                                                                        | NA                                                                                                                                           | NA                                                                                                                                           |\n",
       "\n"
      ],
      "text/plain": [
       "  text                                                                                                                                        \n",
       "1 RT @SGSportsHub: Coooooool shot, @ManUtd <U+0001F609> Welcome to #sgsportshub! \\n\\n#ICCSG #ICC2019 https://t.co/78DbPWAqkA                  \n",
       "2 RT @SpursOfficial: <U+0001F605> \"You trying to show off your muscles?\" \\n \\n#SpursTour2019 <U+26AA><U+FE0F> #ICC2019 https://t.co/vJn0ddNH85\n",
       "3 Coooooool shot, @ManUtd <U+0001F609> Welcome to #sgsportshub! \\n\\n#ICCSG #ICC2019 https://t.co/78DbPWAqkA                                   \n",
       "  favorited favoriteCount replyToSN created             truncated replyToSID\n",
       "1 FALSE     0             NA        2019-07-20 03:03:04 FALSE     NA        \n",
       "2 FALSE     0             NA        2019-07-20 03:02:59 FALSE     NA        \n",
       "3 FALSE     0             NA        2019-07-20 03:02:54 FALSE     NA        \n",
       "  id                  replyToUID\n",
       "1 1152413586167193601 NA        \n",
       "2 1152413566298759169 NA        \n",
       "3 1152413544194822144 NA        \n",
       "  statusSource                                                                      \n",
       "1 <a href=\"http://twitter.com/download/iphone\" rel=\"nofollow\">Twitter for iPhone</a>\n",
       "2 <a href=\"http://twitter.com/download/iphone\" rel=\"nofollow\">Twitter for iPhone</a>\n",
       "3 <a href=\"http://twitter.com/download/iphone\" rel=\"nofollow\">Twitter for iPhone</a>\n",
       "  screenName     retweetCount isRetweet retweeted longitude latitude\n",
       "1 PremLovesMusic   1           TRUE     FALSE     NA        NA      \n",
       "2 mzs_mn_11      204           TRUE     FALSE     NA        NA      \n",
       "3 SGSportsHub      1          FALSE     FALSE     NA        NA      "
      ]
     },
     "metadata": {},
     "output_type": "display_data"
    }
   ],
   "source": [
    "head(manu_tweets, 3)\n",
    "\n",
    "head(icc_tweets, 3)"
   ]
  },
  {
   "cell_type": "markdown",
   "metadata": {},
   "source": [
    "Because both dataframes were mined using Twitter APIs, they have the same data structure and thus can both be cleaned the same way.\n",
    "\n",
    "### Removing Special Characters\n",
    "\n",
    "\n",
    "We see that the `text` columns have many special characters. We will remove these special characters and emojis from our `manu_tweets` and `icc_tweets` dataframes by using the [sapply()](https://www.rdocumentation.org/packages/memisc/versions/0.99.17.2/topics/Sapply), and the [iconv()](https://www.rdocumentation.org/packages/base/versions/3.6.0/topics/iconv) functions.\n",
    "\n",
    "We will follow this action with even further data-cleaning in a later step."
   ]
  },
  {
   "cell_type": "code",
   "execution_count": 10,
   "metadata": {},
   "outputs": [],
   "source": [
    "manu_tweets$text <- sapply(manu_tweets$text,function(row) iconv(row, \"latin1\", \"ASCII\", sub=\"\"))\n",
    "icc_tweets$text <- sapply(icc_tweets$text,function(row) iconv(row, \"latin1\", \"ASCII\", sub=\"\"))"
   ]
  },
  {
   "cell_type": "markdown",
   "metadata": {},
   "source": [
    "Let's preview the dataframes again."
   ]
  },
  {
   "cell_type": "code",
   "execution_count": 11,
   "metadata": {},
   "outputs": [
    {
     "data": {
      "text/html": [
       "<table>\n",
       "<thead><tr><th scope=col>text</th><th scope=col>favorited</th><th scope=col>favoriteCount</th><th scope=col>replyToSN</th><th scope=col>created</th><th scope=col>truncated</th><th scope=col>replyToSID</th><th scope=col>id</th><th scope=col>replyToUID</th><th scope=col>statusSource</th><th scope=col>screenName</th><th scope=col>retweetCount</th><th scope=col>isRetweet</th><th scope=col>retweeted</th><th scope=col>longitude</th><th scope=col>latitude</th></tr></thead>\n",
       "<tbody>\n",
       "\t<tr><td>A clear choice! \n",
       "\n",
       "Reports suggest @paulpogba has his heart set on a @realmadrid move for one key reason. \n",
       "\n",
       "#Pogba https://t.co/KGioo2e93M</td><td>FALSE                                                                                                                                        </td><td>0                                                                                                                                            </td><td>NA                                                                                                                                           </td><td>2019-07-20 02:59:44                                                                                                                          </td><td> TRUE                                                                                                                                        </td><td>NA                                                                                                                                           </td><td>1152412747155431424                                                                                                                          </td><td>NA                                                                                                                                           </td><td>&lt;a href=\"https://about.twitter.com/products/tweetdeck\" rel=\"nofollow\"&gt;TweetDeck&lt;/a&gt;                                              </td><td>FOXSportsAsia                                                                                                                                </td><td>0                                                                                                                                            </td><td>FALSE                                                                                                                                        </td><td>FALSE                                                                                                                                        </td><td>NA                                                                                                                                           </td><td>NA                                                                                                                                           </td></tr>\n",
       "\t<tr><td><span style=white-space:pre-wrap>What #Manchester United want from Fred this season\n",
       "#ManUtd  #Premier_League \n",
       "Pls RT\n",
       "https://t.co/TgNfVy0vYO                               </span></td><td>FALSE                                                                                                                                                                                </td><td>0                                                                                                                                                                                    </td><td>NA                                                                                                                                                                                   </td><td>2019-07-20 02:58:41                                                                                                                                                                  </td><td>FALSE                                                                                                                                                                                </td><td>NA                                                                                                                                                                                   </td><td>1152412481475796994                                                                                                                                                                  </td><td>NA                                                                                                                                                                                   </td><td><span style=white-space:pre-wrap>&lt;a href=\"https://footy90.com\" rel=\"nofollow\"&gt;footy90.com - News&lt;/a&gt;                </span>                                              </td><td><span style=white-space:pre-wrap>footy90com   </span>                                                                                                                                </td><td>0                                                                                                                                                                                    </td><td>FALSE                                                                                                                                                                                </td><td>FALSE                                                                                                                                                                                </td><td>NA                                                                                                                                                                                   </td><td>NA                                                                                                                                                                                   </td></tr>\n",
       "\t<tr><td><span style=white-space:pre-wrap>Betting Odds #football #ChampionsLeague\n",
       "#EuropaLeague #LeedsUnited #ManUtd #freebets\n",
       "#Betfair #Bet365 #Golf\n",
       "100 https://t.co/WmtIPcfdDn   </span></td><td>FALSE                                                                                                                                                                                </td><td>0                                                                                                                                                                                    </td><td>NA                                                                                                                                                                                   </td><td>2019-07-20 02:42:05                                                                                                                                                                  </td><td> TRUE                                                                                                                                                                                </td><td>NA                                                                                                                                                                                   </td><td>1152408304368439296                                                                                                                                                                  </td><td>NA                                                                                                                                                                                   </td><td><span style=white-space:pre-wrap>&lt;a href=\"https://postcron.com\" rel=\"nofollow\"&gt;Postcron App&lt;/a&gt;                     </span>                                              </td><td>SuperLeague77                                                                                                                                                                        </td><td>0                                                                                                                                                                                    </td><td>FALSE                                                                                                                                                                                </td><td>FALSE                                                                                                                                                                                </td><td>NA                                                                                                                                                                                   </td><td>NA                                                                                                                                                                                   </td></tr>\n",
       "</tbody>\n",
       "</table>\n"
      ],
      "text/latex": [
       "\\begin{tabular}{r|llllllllllllllll}\n",
       " text & favorited & favoriteCount & replyToSN & created & truncated & replyToSID & id & replyToUID & statusSource & screenName & retweetCount & isRetweet & retweeted & longitude & latitude\\\\\n",
       "\\hline\n",
       "\t A clear choice! \n",
       "\n",
       "Reports suggest @paulpogba has his heart set on a @realmadrid move for one key reason. \n",
       "\n",
       "\\#Pogba https://t.co/KGioo2e93M & FALSE                                                                                                                                           & 0                                                                                                                                               & NA                                                                                                                                              & 2019-07-20 02:59:44                                                                                                                             &  TRUE                                                                                                                                           & NA                                                                                                                                              & 1152412747155431424                                                                                                                             & NA                                                                                                                                              & <a href=\"https://about.twitter.com/products/tweetdeck\" rel=\"nofollow\">TweetDeck</a>                                                             & FOXSportsAsia                                                                                                                                   & 0                                                                                                                                               & FALSE                                                                                                                                           & FALSE                                                                                                                                           & NA                                                                                                                                              & NA                                                                                                                                             \\\\\n",
       "\t What \\#Manchester United want from Fred this season\n",
       "\\#ManUtd  \\#Premier\\_League \n",
       "Pls RT\n",
       "https://t.co/TgNfVy0vYO                                & FALSE                                                                                                                                                 & 0                                                                                                                                                     & NA                                                                                                                                                    & 2019-07-20 02:58:41                                                                                                                                   & FALSE                                                                                                                                                 & NA                                                                                                                                                    & 1152412481475796994                                                                                                                                   & NA                                                                                                                                                    & <a href=\"https://footy90.com\" rel=\"nofollow\">footy90.com - News</a>                                                                                   & footy90com                                                                                                                                            & 0                                                                                                                                                     & FALSE                                                                                                                                                 & FALSE                                                                                                                                                 & NA                                                                                                                                                    & NA                                                                                                                                                   \\\\\n",
       "\t Betting Odds \\#football \\#ChampionsLeague\n",
       "\\#EuropaLeague \\#LeedsUnited \\#ManUtd \\#freebets\n",
       "\\#Betfair \\#Bet365 \\#Golf\n",
       "100 https://t.co/WmtIPcfdDn    & FALSE                                                                                                                                                           & 0                                                                                                                                                               & NA                                                                                                                                                              & 2019-07-20 02:42:05                                                                                                                                             &  TRUE                                                                                                                                                           & NA                                                                                                                                                              & 1152408304368439296                                                                                                                                             & NA                                                                                                                                                              & <a href=\"https://postcron.com\" rel=\"nofollow\">Postcron App</a>                                                                                                  & SuperLeague77                                                                                                                                                   & 0                                                                                                                                                               & FALSE                                                                                                                                                           & FALSE                                                                                                                                                           & NA                                                                                                                                                              & NA                                                                                                                                                             \\\\\n",
       "\\end{tabular}\n"
      ],
      "text/markdown": [
       "\n",
       "| text | favorited | favoriteCount | replyToSN | created | truncated | replyToSID | id | replyToUID | statusSource | screenName | retweetCount | isRetweet | retweeted | longitude | latitude |\n",
       "|---|---|---|---|---|---|---|---|---|---|---|---|---|---|---|---|\n",
       "| A clear choice! \n",
       "\n",
       "Reports suggest @paulpogba has his heart set on a @realmadrid move for one key reason. \n",
       "\n",
       "#Pogba https://t.co/KGioo2e93M | FALSE                                                                                                                                         | 0                                                                                                                                             | NA                                                                                                                                            | 2019-07-20 02:59:44                                                                                                                           |  TRUE                                                                                                                                         | NA                                                                                                                                            | 1152412747155431424                                                                                                                           | NA                                                                                                                                            | <a href=\"https://about.twitter.com/products/tweetdeck\" rel=\"nofollow\">TweetDeck</a>                                                           | FOXSportsAsia                                                                                                                                 | 0                                                                                                                                             | FALSE                                                                                                                                         | FALSE                                                                                                                                         | NA                                                                                                                                            | NA                                                                                                                                            |\n",
       "| What #Manchester United want from Fred this season\n",
       "#ManUtd  #Premier_League \n",
       "Pls RT\n",
       "https://t.co/TgNfVy0vYO                                | FALSE                                                                                                                                         | 0                                                                                                                                             | NA                                                                                                                                            | 2019-07-20 02:58:41                                                                                                                           | FALSE                                                                                                                                         | NA                                                                                                                                            | 1152412481475796994                                                                                                                           | NA                                                                                                                                            | <a href=\"https://footy90.com\" rel=\"nofollow\">footy90.com - News</a>                                                                           | footy90com                                                                                                                                    | 0                                                                                                                                             | FALSE                                                                                                                                         | FALSE                                                                                                                                         | NA                                                                                                                                            | NA                                                                                                                                            |\n",
       "| Betting Odds #football #ChampionsLeague\n",
       "#EuropaLeague #LeedsUnited #ManUtd #freebets\n",
       "#Betfair #Bet365 #Golf\n",
       "100 https://t.co/WmtIPcfdDn    | FALSE                                                                                                                                         | 0                                                                                                                                             | NA                                                                                                                                            | 2019-07-20 02:42:05                                                                                                                           |  TRUE                                                                                                                                         | NA                                                                                                                                            | 1152408304368439296                                                                                                                           | NA                                                                                                                                            | <a href=\"https://postcron.com\" rel=\"nofollow\">Postcron App</a>                                                                                | SuperLeague77                                                                                                                                 | 0                                                                                                                                             | FALSE                                                                                                                                         | FALSE                                                                                                                                         | NA                                                                                                                                            | NA                                                                                                                                            |\n",
       "\n"
      ],
      "text/plain": [
       "  text                                                                                                                                         \n",
       "1 A clear choice! \\n\\nReports suggest @paulpogba has his heart set on a @realmadrid move for one key reason. \\n\\n#Pogba https://t.co/KGioo2e93M\n",
       "2 What #Manchester United want from Fred this season\\n#ManUtd  #Premier_League \\nPls RT\\nhttps://t.co/TgNfVy0vYO                               \n",
       "3 Betting Odds #football #ChampionsLeague\\n#EuropaLeague #LeedsUnited #ManUtd #freebets\\n#Betfair #Bet365 #Golf\\n100 https://t.co/WmtIPcfdDn   \n",
       "  favorited favoriteCount replyToSN created             truncated replyToSID\n",
       "1 FALSE     0             NA        2019-07-20 02:59:44  TRUE     NA        \n",
       "2 FALSE     0             NA        2019-07-20 02:58:41 FALSE     NA        \n",
       "3 FALSE     0             NA        2019-07-20 02:42:05  TRUE     NA        \n",
       "  id                  replyToUID\n",
       "1 1152412747155431424 NA        \n",
       "2 1152412481475796994 NA        \n",
       "3 1152408304368439296 NA        \n",
       "  statusSource                                                                       \n",
       "1 <a href=\"https://about.twitter.com/products/tweetdeck\" rel=\"nofollow\">TweetDeck</a>\n",
       "2 <a href=\"https://footy90.com\" rel=\"nofollow\">footy90.com - News</a>                \n",
       "3 <a href=\"https://postcron.com\" rel=\"nofollow\">Postcron App</a>                     \n",
       "  screenName    retweetCount isRetweet retweeted longitude latitude\n",
       "1 FOXSportsAsia 0            FALSE     FALSE     NA        NA      \n",
       "2 footy90com    0            FALSE     FALSE     NA        NA      \n",
       "3 SuperLeague77 0            FALSE     FALSE     NA        NA      "
      ]
     },
     "metadata": {},
     "output_type": "display_data"
    },
    {
     "data": {
      "text/html": [
       "<table>\n",
       "<thead><tr><th scope=col>text</th><th scope=col>favorited</th><th scope=col>favoriteCount</th><th scope=col>replyToSN</th><th scope=col>created</th><th scope=col>truncated</th><th scope=col>replyToSID</th><th scope=col>id</th><th scope=col>replyToUID</th><th scope=col>statusSource</th><th scope=col>screenName</th><th scope=col>retweetCount</th><th scope=col>isRetweet</th><th scope=col>retweeted</th><th scope=col>longitude</th><th scope=col>latitude</th></tr></thead>\n",
       "<tbody>\n",
       "\t<tr><td><span style=white-space:pre-wrap>RT @SGSportsHub: Coooooool shot, @ManUtd  Welcome to #sgsportshub! \n",
       "\n",
       "#ICCSG #ICC2019 https://t.co/78DbPWAqkA </span></td><td>FALSE                                                                                                                                                  </td><td>0                                                                                                                                                      </td><td>NA                                                                                                                                                     </td><td>2019-07-20 03:03:04                                                                                                                                    </td><td>FALSE                                                                                                                                                  </td><td>NA                                                                                                                                                     </td><td>1152413586167193601                                                                                                                                    </td><td>NA                                                                                                                                                     </td><td>&lt;a href=\"http://twitter.com/download/iphone\" rel=\"nofollow\"&gt;Twitter for iPhone&lt;/a&gt;                                                         </td><td>PremLovesMusic                                                                                                                                         </td><td><span style=white-space:pre-wrap>  1</span>                                                                                                            </td><td> TRUE                                                                                                                                                  </td><td>FALSE                                                                                                                                                  </td><td>NA                                                                                                                                                     </td><td>NA                                                                                                                                                     </td></tr>\n",
       "\t<tr><td><span style=white-space:pre-wrap>RT @SpursOfficial: \"You trying to show off your muscles?\" \n",
       " \n",
       "#SpursTour2019  #ICC2019 https://t.co/vJn0ddNH85</span></td><td>FALSE                                                                                                                                                  </td><td>0                                                                                                                                                      </td><td>NA                                                                                                                                                     </td><td>2019-07-20 03:02:59                                                                                                                                    </td><td>FALSE                                                                                                                                                  </td><td>NA                                                                                                                                                     </td><td>1152413566298759169                                                                                                                                    </td><td>NA                                                                                                                                                     </td><td>&lt;a href=\"http://twitter.com/download/iphone\" rel=\"nofollow\"&gt;Twitter for iPhone&lt;/a&gt;                                                         </td><td><span style=white-space:pre-wrap>mzs_mn_11     </span>                                                                                                 </td><td>204                                                                                                                                                    </td><td> TRUE                                                                                                                                                  </td><td>FALSE                                                                                                                                                  </td><td>NA                                                                                                                                                     </td><td>NA                                                                                                                                                     </td></tr>\n",
       "\t<tr><td><span style=white-space:pre-wrap>Coooooool shot, @ManUtd  Welcome to #sgsportshub! \n",
       "\n",
       "#ICCSG #ICC2019 https://t.co/78DbPWAqkA                  </span></td><td>FALSE                                                                                                                                                  </td><td>0                                                                                                                                                      </td><td>NA                                                                                                                                                     </td><td>2019-07-20 03:02:54                                                                                                                                    </td><td>FALSE                                                                                                                                                  </td><td>NA                                                                                                                                                     </td><td>1152413544194822144                                                                                                                                    </td><td>NA                                                                                                                                                     </td><td>&lt;a href=\"http://twitter.com/download/iphone\" rel=\"nofollow\"&gt;Twitter for iPhone&lt;/a&gt;                                                         </td><td><span style=white-space:pre-wrap>SGSportsHub   </span>                                                                                                 </td><td><span style=white-space:pre-wrap>  1</span>                                                                                                            </td><td>FALSE                                                                                                                                                  </td><td>FALSE                                                                                                                                                  </td><td>NA                                                                                                                                                     </td><td>NA                                                                                                                                                     </td></tr>\n",
       "</tbody>\n",
       "</table>\n"
      ],
      "text/latex": [
       "\\begin{tabular}{r|llllllllllllllll}\n",
       " text & favorited & favoriteCount & replyToSN & created & truncated & replyToSID & id & replyToUID & statusSource & screenName & retweetCount & isRetweet & retweeted & longitude & latitude\\\\\n",
       "\\hline\n",
       "\t RT @SGSportsHub: Coooooool shot, @ManUtd  Welcome to \\#sgsportshub! \n",
       "\n",
       "\\#ICCSG \\#ICC2019 https://t.co/78DbPWAqkA  & FALSE                                                                                                                 & 0                                                                                                                     & NA                                                                                                                    & 2019-07-20 03:03:04                                                                                                   & FALSE                                                                                                                 & NA                                                                                                                    & 1152413586167193601                                                                                                   & NA                                                                                                                    & <a href=\"http://twitter.com/download/iphone\" rel=\"nofollow\">Twitter for iPhone</a>                                    & PremLovesMusic                                                                                                        &   1                                                                                                                   &  TRUE                                                                                                                 & FALSE                                                                                                                 & NA                                                                                                                    & NA                                                                                                                   \\\\\n",
       "\t RT @SpursOfficial: \"You trying to show off your muscles?\" \n",
       " \n",
       "\\#SpursTour2019  \\#ICC2019 https://t.co/vJn0ddNH85 & FALSE                                                                                                               & 0                                                                                                                   & NA                                                                                                                  & 2019-07-20 03:02:59                                                                                                 & FALSE                                                                                                               & NA                                                                                                                  & 1152413566298759169                                                                                                 & NA                                                                                                                  & <a href=\"http://twitter.com/download/iphone\" rel=\"nofollow\">Twitter for iPhone</a>                                  & mzs\\_mn\\_11                                                                                                       & 204                                                                                                                 &  TRUE                                                                                                               & FALSE                                                                                                               & NA                                                                                                                  & NA                                                                                                                 \\\\\n",
       "\t Coooooool shot, @ManUtd  Welcome to \\#sgsportshub! \n",
       "\n",
       "\\#ICCSG \\#ICC2019 https://t.co/78DbPWAqkA                   & FALSE                                                                                                                 & 0                                                                                                                     & NA                                                                                                                    & 2019-07-20 03:02:54                                                                                                   & FALSE                                                                                                                 & NA                                                                                                                    & 1152413544194822144                                                                                                   & NA                                                                                                                    & <a href=\"http://twitter.com/download/iphone\" rel=\"nofollow\">Twitter for iPhone</a>                                    & SGSportsHub                                                                                                           &   1                                                                                                                   & FALSE                                                                                                                 & FALSE                                                                                                                 & NA                                                                                                                    & NA                                                                                                                   \\\\\n",
       "\\end{tabular}\n"
      ],
      "text/markdown": [
       "\n",
       "| text | favorited | favoriteCount | replyToSN | created | truncated | replyToSID | id | replyToUID | statusSource | screenName | retweetCount | isRetweet | retweeted | longitude | latitude |\n",
       "|---|---|---|---|---|---|---|---|---|---|---|---|---|---|---|---|\n",
       "| RT @SGSportsHub: Coooooool shot, @ManUtd  Welcome to #sgsportshub! \n",
       "\n",
       "#ICCSG #ICC2019 https://t.co/78DbPWAqkA  | FALSE                                                                                                           | 0                                                                                                               | NA                                                                                                              | 2019-07-20 03:03:04                                                                                             | FALSE                                                                                                           | NA                                                                                                              | 1152413586167193601                                                                                             | NA                                                                                                              | <a href=\"http://twitter.com/download/iphone\" rel=\"nofollow\">Twitter for iPhone</a>                              | PremLovesMusic                                                                                                  |   1                                                                                                             |  TRUE                                                                                                           | FALSE                                                                                                           | NA                                                                                                              | NA                                                                                                              |\n",
       "| RT @SpursOfficial: \"You trying to show off your muscles?\" \n",
       " \n",
       "#SpursTour2019  #ICC2019 https://t.co/vJn0ddNH85 | FALSE                                                                                                           | 0                                                                                                               | NA                                                                                                              | 2019-07-20 03:02:59                                                                                             | FALSE                                                                                                           | NA                                                                                                              | 1152413566298759169                                                                                             | NA                                                                                                              | <a href=\"http://twitter.com/download/iphone\" rel=\"nofollow\">Twitter for iPhone</a>                              | mzs_mn_11                                                                                                       | 204                                                                                                             |  TRUE                                                                                                           | FALSE                                                                                                           | NA                                                                                                              | NA                                                                                                              |\n",
       "| Coooooool shot, @ManUtd  Welcome to #sgsportshub! \n",
       "\n",
       "#ICCSG #ICC2019 https://t.co/78DbPWAqkA                   | FALSE                                                                                                           | 0                                                                                                               | NA                                                                                                              | 2019-07-20 03:02:54                                                                                             | FALSE                                                                                                           | NA                                                                                                              | 1152413544194822144                                                                                             | NA                                                                                                              | <a href=\"http://twitter.com/download/iphone\" rel=\"nofollow\">Twitter for iPhone</a>                              | SGSportsHub                                                                                                     |   1                                                                                                             | FALSE                                                                                                           | FALSE                                                                                                           | NA                                                                                                              | NA                                                                                                              |\n",
       "\n"
      ],
      "text/plain": [
       "  text                                                                                                           \n",
       "1 RT @SGSportsHub: Coooooool shot, @ManUtd  Welcome to #sgsportshub! \\n\\n#ICCSG #ICC2019 https://t.co/78DbPWAqkA \n",
       "2 RT @SpursOfficial: \"You trying to show off your muscles?\" \\n \\n#SpursTour2019  #ICC2019 https://t.co/vJn0ddNH85\n",
       "3 Coooooool shot, @ManUtd  Welcome to #sgsportshub! \\n\\n#ICCSG #ICC2019 https://t.co/78DbPWAqkA                  \n",
       "  favorited favoriteCount replyToSN created             truncated replyToSID\n",
       "1 FALSE     0             NA        2019-07-20 03:03:04 FALSE     NA        \n",
       "2 FALSE     0             NA        2019-07-20 03:02:59 FALSE     NA        \n",
       "3 FALSE     0             NA        2019-07-20 03:02:54 FALSE     NA        \n",
       "  id                  replyToUID\n",
       "1 1152413586167193601 NA        \n",
       "2 1152413566298759169 NA        \n",
       "3 1152413544194822144 NA        \n",
       "  statusSource                                                                      \n",
       "1 <a href=\"http://twitter.com/download/iphone\" rel=\"nofollow\">Twitter for iPhone</a>\n",
       "2 <a href=\"http://twitter.com/download/iphone\" rel=\"nofollow\">Twitter for iPhone</a>\n",
       "3 <a href=\"http://twitter.com/download/iphone\" rel=\"nofollow\">Twitter for iPhone</a>\n",
       "  screenName     retweetCount isRetweet retweeted longitude latitude\n",
       "1 PremLovesMusic   1           TRUE     FALSE     NA        NA      \n",
       "2 mzs_mn_11      204           TRUE     FALSE     NA        NA      \n",
       "3 SGSportsHub      1          FALSE     FALSE     NA        NA      "
      ]
     },
     "metadata": {},
     "output_type": "display_data"
    }
   ],
   "source": [
    "head(manu_tweets,3)\n",
    "\n",
    "head(icc_tweets,3)"
   ]
  },
  {
   "cell_type": "markdown",
   "metadata": {},
   "source": [
    "### Determining Device Type\n",
    "\n",
    "We'll also visualize the frequency with which each Device (Android, iPhone, Web Client, etc) was used to make a tweet.\n",
    "\n",
    "The `statusSource` columns contain this information. Let's review the `statusSource` columns a little closer:"
   ]
  },
  {
   "cell_type": "code",
   "execution_count": 12,
   "metadata": {},
   "outputs": [
    {
     "data": {
      "text/html": [
       "<table>\n",
       "<thead><tr><th scope=col>statusSource</th></tr></thead>\n",
       "<tbody>\n",
       "\t<tr><td>&lt;a href=\"https://about.twitter.com/products/tweetdeck\" rel=\"nofollow\"&gt;TweetDeck&lt;/a&gt; </td></tr>\n",
       "\t<tr><td><span style=white-space:pre-wrap>&lt;a href=\"https://footy90.com\" rel=\"nofollow\"&gt;footy90.com - News&lt;/a&gt;                 </span></td></tr>\n",
       "\t<tr><td><span style=white-space:pre-wrap>&lt;a href=\"https://postcron.com\" rel=\"nofollow\"&gt;Postcron App&lt;/a&gt;                      </span></td></tr>\n",
       "\t<tr><td><span style=white-space:pre-wrap>&lt;a href=\"http://twitter.com\" rel=\"nofollow\"&gt;Twitter Web Client&lt;/a&gt;                  </span></td></tr>\n",
       "\t<tr><td>&lt;a href=\"https://about.twitter.com/products/tweetdeck\" rel=\"nofollow\"&gt;TweetDeck&lt;/a&gt; </td></tr>\n",
       "\t<tr><td><span style=white-space:pre-wrap>&lt;a href=\"http://instagram.com\" rel=\"nofollow\"&gt;Instagram&lt;/a&gt;                         </span></td></tr>\n",
       "\t<tr><td><span style=white-space:pre-wrap>&lt;a href=\"https://mobile.twitter.com\" rel=\"nofollow\"&gt;Twitter Web App&lt;/a&gt;             </span></td></tr>\n",
       "\t<tr><td><span style=white-space:pre-wrap>&lt;a href=\"https://www.botlivepsg.com\" rel=\"nofollow\"&gt;PSGBotLive&lt;/a&gt;                  </span></td></tr>\n",
       "\t<tr><td>&lt;a href=\"http://twitter.com/download/android\" rel=\"nofollow\"&gt;Twitter for Android&lt;/a&gt;</td></tr>\n",
       "\t<tr><td><span style=white-space:pre-wrap>&lt;a href=\"https://footyzone.net/\" rel=\"nofollow\"&gt;Footy News&lt;/a&gt;                      </span></td></tr>\n",
       "</tbody>\n",
       "</table>\n"
      ],
      "text/latex": [
       "\\begin{tabular}{r|l}\n",
       " statusSource\\\\\n",
       "\\hline\n",
       "\t <a href=\"https://about.twitter.com/products/tweetdeck\" rel=\"nofollow\">TweetDeck</a> \\\\\n",
       "\t <a href=\"https://footy90.com\" rel=\"nofollow\">footy90.com - News</a>                 \\\\\n",
       "\t <a href=\"https://postcron.com\" rel=\"nofollow\">Postcron App</a>                      \\\\\n",
       "\t <a href=\"http://twitter.com\" rel=\"nofollow\">Twitter Web Client</a>                  \\\\\n",
       "\t <a href=\"https://about.twitter.com/products/tweetdeck\" rel=\"nofollow\">TweetDeck</a> \\\\\n",
       "\t <a href=\"http://instagram.com\" rel=\"nofollow\">Instagram</a>                         \\\\\n",
       "\t <a href=\"https://mobile.twitter.com\" rel=\"nofollow\">Twitter Web App</a>             \\\\\n",
       "\t <a href=\"https://www.botlivepsg.com\" rel=\"nofollow\">PSGBotLive</a>                  \\\\\n",
       "\t <a href=\"http://twitter.com/download/android\" rel=\"nofollow\">Twitter for Android</a>\\\\\n",
       "\t <a href=\"https://footyzone.net/\" rel=\"nofollow\">Footy News</a>                      \\\\\n",
       "\\end{tabular}\n"
      ],
      "text/markdown": [
       "\n",
       "| statusSource |\n",
       "|---|\n",
       "| <a href=\"https://about.twitter.com/products/tweetdeck\" rel=\"nofollow\">TweetDeck</a>  |\n",
       "| <a href=\"https://footy90.com\" rel=\"nofollow\">footy90.com - News</a>                  |\n",
       "| <a href=\"https://postcron.com\" rel=\"nofollow\">Postcron App</a>                       |\n",
       "| <a href=\"http://twitter.com\" rel=\"nofollow\">Twitter Web Client</a>                   |\n",
       "| <a href=\"https://about.twitter.com/products/tweetdeck\" rel=\"nofollow\">TweetDeck</a>  |\n",
       "| <a href=\"http://instagram.com\" rel=\"nofollow\">Instagram</a>                          |\n",
       "| <a href=\"https://mobile.twitter.com\" rel=\"nofollow\">Twitter Web App</a>              |\n",
       "| <a href=\"https://www.botlivepsg.com\" rel=\"nofollow\">PSGBotLive</a>                   |\n",
       "| <a href=\"http://twitter.com/download/android\" rel=\"nofollow\">Twitter for Android</a> |\n",
       "| <a href=\"https://footyzone.net/\" rel=\"nofollow\">Footy News</a>                       |\n",
       "\n"
      ],
      "text/plain": [
       "   statusSource                                                                        \n",
       "1  <a href=\"https://about.twitter.com/products/tweetdeck\" rel=\"nofollow\">TweetDeck</a> \n",
       "2  <a href=\"https://footy90.com\" rel=\"nofollow\">footy90.com - News</a>                 \n",
       "3  <a href=\"https://postcron.com\" rel=\"nofollow\">Postcron App</a>                      \n",
       "4  <a href=\"http://twitter.com\" rel=\"nofollow\">Twitter Web Client</a>                  \n",
       "5  <a href=\"https://about.twitter.com/products/tweetdeck\" rel=\"nofollow\">TweetDeck</a> \n",
       "6  <a href=\"http://instagram.com\" rel=\"nofollow\">Instagram</a>                         \n",
       "7  <a href=\"https://mobile.twitter.com\" rel=\"nofollow\">Twitter Web App</a>             \n",
       "8  <a href=\"https://www.botlivepsg.com\" rel=\"nofollow\">PSGBotLive</a>                  \n",
       "9  <a href=\"http://twitter.com/download/android\" rel=\"nofollow\">Twitter for Android</a>\n",
       "10 <a href=\"https://footyzone.net/\" rel=\"nofollow\">Footy News</a>                      "
      ]
     },
     "metadata": {},
     "output_type": "display_data"
    },
    {
     "data": {
      "text/html": [
       "<table>\n",
       "<thead><tr><th scope=col>statusSource</th></tr></thead>\n",
       "<tbody>\n",
       "\t<tr><td><span style=white-space:pre-wrap>&lt;a href=\"http://twitter.com/download/iphone\" rel=\"nofollow\"&gt;Twitter for iPhone&lt;/a&gt;  </span></td></tr>\n",
       "\t<tr><td><span style=white-space:pre-wrap>&lt;a href=\"http://twitter.com/download/iphone\" rel=\"nofollow\"&gt;Twitter for iPhone&lt;/a&gt;  </span></td></tr>\n",
       "\t<tr><td><span style=white-space:pre-wrap>&lt;a href=\"http://twitter.com/download/iphone\" rel=\"nofollow\"&gt;Twitter for iPhone&lt;/a&gt;  </span></td></tr>\n",
       "\t<tr><td><span style=white-space:pre-wrap>&lt;a href=\"https://mobile.twitter.com\" rel=\"nofollow\"&gt;Twitter Web App&lt;/a&gt;             </span></td></tr>\n",
       "\t<tr><td>&lt;a href=\"http://twitter.com/download/android\" rel=\"nofollow\"&gt;Twitter for Android&lt;/a&gt;</td></tr>\n",
       "\t<tr><td>&lt;a href=\"http://twitter.com/download/android\" rel=\"nofollow\"&gt;Twitter for Android&lt;/a&gt;</td></tr>\n",
       "\t<tr><td>&lt;a href=\"http://twitter.com/download/android\" rel=\"nofollow\"&gt;Twitter for Android&lt;/a&gt;</td></tr>\n",
       "\t<tr><td><span style=white-space:pre-wrap>&lt;a href=\"http://twitter.com/download/iphone\" rel=\"nofollow\"&gt;Twitter for iPhone&lt;/a&gt;  </span></td></tr>\n",
       "\t<tr><td>&lt;a href=\"http://twitter.com/download/android\" rel=\"nofollow\"&gt;Twitter for Android&lt;/a&gt;</td></tr>\n",
       "\t<tr><td><span style=white-space:pre-wrap>&lt;a href=\"http://twitter.com/download/iphone\" rel=\"nofollow\"&gt;Twitter for iPhone&lt;/a&gt;  </span></td></tr>\n",
       "</tbody>\n",
       "</table>\n"
      ],
      "text/latex": [
       "\\begin{tabular}{r|l}\n",
       " statusSource\\\\\n",
       "\\hline\n",
       "\t <a href=\"http://twitter.com/download/iphone\" rel=\"nofollow\">Twitter for iPhone</a>  \\\\\n",
       "\t <a href=\"http://twitter.com/download/iphone\" rel=\"nofollow\">Twitter for iPhone</a>  \\\\\n",
       "\t <a href=\"http://twitter.com/download/iphone\" rel=\"nofollow\">Twitter for iPhone</a>  \\\\\n",
       "\t <a href=\"https://mobile.twitter.com\" rel=\"nofollow\">Twitter Web App</a>             \\\\\n",
       "\t <a href=\"http://twitter.com/download/android\" rel=\"nofollow\">Twitter for Android</a>\\\\\n",
       "\t <a href=\"http://twitter.com/download/android\" rel=\"nofollow\">Twitter for Android</a>\\\\\n",
       "\t <a href=\"http://twitter.com/download/android\" rel=\"nofollow\">Twitter for Android</a>\\\\\n",
       "\t <a href=\"http://twitter.com/download/iphone\" rel=\"nofollow\">Twitter for iPhone</a>  \\\\\n",
       "\t <a href=\"http://twitter.com/download/android\" rel=\"nofollow\">Twitter for Android</a>\\\\\n",
       "\t <a href=\"http://twitter.com/download/iphone\" rel=\"nofollow\">Twitter for iPhone</a>  \\\\\n",
       "\\end{tabular}\n"
      ],
      "text/markdown": [
       "\n",
       "| statusSource |\n",
       "|---|\n",
       "| <a href=\"http://twitter.com/download/iphone\" rel=\"nofollow\">Twitter for iPhone</a>   |\n",
       "| <a href=\"http://twitter.com/download/iphone\" rel=\"nofollow\">Twitter for iPhone</a>   |\n",
       "| <a href=\"http://twitter.com/download/iphone\" rel=\"nofollow\">Twitter for iPhone</a>   |\n",
       "| <a href=\"https://mobile.twitter.com\" rel=\"nofollow\">Twitter Web App</a>              |\n",
       "| <a href=\"http://twitter.com/download/android\" rel=\"nofollow\">Twitter for Android</a> |\n",
       "| <a href=\"http://twitter.com/download/android\" rel=\"nofollow\">Twitter for Android</a> |\n",
       "| <a href=\"http://twitter.com/download/android\" rel=\"nofollow\">Twitter for Android</a> |\n",
       "| <a href=\"http://twitter.com/download/iphone\" rel=\"nofollow\">Twitter for iPhone</a>   |\n",
       "| <a href=\"http://twitter.com/download/android\" rel=\"nofollow\">Twitter for Android</a> |\n",
       "| <a href=\"http://twitter.com/download/iphone\" rel=\"nofollow\">Twitter for iPhone</a>   |\n",
       "\n"
      ],
      "text/plain": [
       "   statusSource                                                                        \n",
       "1  <a href=\"http://twitter.com/download/iphone\" rel=\"nofollow\">Twitter for iPhone</a>  \n",
       "2  <a href=\"http://twitter.com/download/iphone\" rel=\"nofollow\">Twitter for iPhone</a>  \n",
       "3  <a href=\"http://twitter.com/download/iphone\" rel=\"nofollow\">Twitter for iPhone</a>  \n",
       "4  <a href=\"https://mobile.twitter.com\" rel=\"nofollow\">Twitter Web App</a>             \n",
       "5  <a href=\"http://twitter.com/download/android\" rel=\"nofollow\">Twitter for Android</a>\n",
       "6  <a href=\"http://twitter.com/download/android\" rel=\"nofollow\">Twitter for Android</a>\n",
       "7  <a href=\"http://twitter.com/download/android\" rel=\"nofollow\">Twitter for Android</a>\n",
       "8  <a href=\"http://twitter.com/download/iphone\" rel=\"nofollow\">Twitter for iPhone</a>  \n",
       "9  <a href=\"http://twitter.com/download/android\" rel=\"nofollow\">Twitter for Android</a>\n",
       "10 <a href=\"http://twitter.com/download/iphone\" rel=\"nofollow\">Twitter for iPhone</a>  "
      ]
     },
     "metadata": {},
     "output_type": "display_data"
    }
   ],
   "source": [
    "head(manu_tweets[,\"statusSource\", drop=FALSE],10)\n",
    "head(icc_tweets[,\"statusSource\", drop=FALSE],10)"
   ]
  },
  {
   "cell_type": "markdown",
   "metadata": {},
   "source": [
    "We see that the Device type is always enveloped by HTML code, beginning with `<a href = \"url here\">`, and then with `</a>` at the end. Let's clean these columns, and assign the cleaned result to a new column, `statusSource_clean`, in each of our two dataframes."
   ]
  },
  {
   "cell_type": "code",
   "execution_count": 13,
   "metadata": {},
   "outputs": [
    {
     "data": {
      "text/html": [
       "<table>\n",
       "<thead><tr><th scope=col>statusSource_clean</th></tr></thead>\n",
       "<tbody>\n",
       "\t<tr><td>TweetDeck         </td></tr>\n",
       "\t<tr><td>footy90.com - News</td></tr>\n",
       "\t<tr><td>Postcron App      </td></tr>\n",
       "\t<tr><td>Twitter Web Client</td></tr>\n",
       "\t<tr><td>TweetDeck         </td></tr>\n",
       "\t<tr><td>Instagram         </td></tr>\n",
       "</tbody>\n",
       "</table>\n"
      ],
      "text/latex": [
       "\\begin{tabular}{r|l}\n",
       " statusSource\\_clean\\\\\n",
       "\\hline\n",
       "\t TweetDeck         \\\\\n",
       "\t footy90.com - News\\\\\n",
       "\t Postcron App      \\\\\n",
       "\t Twitter Web Client\\\\\n",
       "\t TweetDeck         \\\\\n",
       "\t Instagram         \\\\\n",
       "\\end{tabular}\n"
      ],
      "text/markdown": [
       "\n",
       "| statusSource_clean |\n",
       "|---|\n",
       "| TweetDeck          |\n",
       "| footy90.com - News |\n",
       "| Postcron App       |\n",
       "| Twitter Web Client |\n",
       "| TweetDeck          |\n",
       "| Instagram          |\n",
       "\n"
      ],
      "text/plain": [
       "  statusSource_clean\n",
       "1 TweetDeck         \n",
       "2 footy90.com - News\n",
       "3 Postcron App      \n",
       "4 Twitter Web Client\n",
       "5 TweetDeck         \n",
       "6 Instagram         "
      ]
     },
     "metadata": {},
     "output_type": "display_data"
    },
    {
     "data": {
      "text/html": [
       "<table>\n",
       "<thead><tr><th scope=col>statusSource_clean</th></tr></thead>\n",
       "<tbody>\n",
       "\t<tr><td>Twitter for iPhone </td></tr>\n",
       "\t<tr><td>Twitter for iPhone </td></tr>\n",
       "\t<tr><td>Twitter for iPhone </td></tr>\n",
       "\t<tr><td>Twitter Web App    </td></tr>\n",
       "\t<tr><td>Twitter for Android</td></tr>\n",
       "\t<tr><td>Twitter for Android</td></tr>\n",
       "</tbody>\n",
       "</table>\n"
      ],
      "text/latex": [
       "\\begin{tabular}{r|l}\n",
       " statusSource\\_clean\\\\\n",
       "\\hline\n",
       "\t Twitter for iPhone \\\\\n",
       "\t Twitter for iPhone \\\\\n",
       "\t Twitter for iPhone \\\\\n",
       "\t Twitter Web App    \\\\\n",
       "\t Twitter for Android\\\\\n",
       "\t Twitter for Android\\\\\n",
       "\\end{tabular}\n"
      ],
      "text/markdown": [
       "\n",
       "| statusSource_clean |\n",
       "|---|\n",
       "| Twitter for iPhone  |\n",
       "| Twitter for iPhone  |\n",
       "| Twitter for iPhone  |\n",
       "| Twitter Web App     |\n",
       "| Twitter for Android |\n",
       "| Twitter for Android |\n",
       "\n"
      ],
      "text/plain": [
       "  statusSource_clean \n",
       "1 Twitter for iPhone \n",
       "2 Twitter for iPhone \n",
       "3 Twitter for iPhone \n",
       "4 Twitter Web App    \n",
       "5 Twitter for Android\n",
       "6 Twitter for Android"
      ]
     },
     "metadata": {},
     "output_type": "display_data"
    }
   ],
   "source": [
    "# 'manu_tweets' cleaning:\n",
    "\n",
    "isolated_device_col <- manu_tweets[\"statusSource\"]\n",
    "\n",
    "split_device <- str_split_fixed(isolated_device_col$statusSource, \">\", n = 2)\n",
    "\n",
    "device_types <- str_split_fixed((split_device[,2]),\"<\",n=2)\n",
    "\n",
    "manu_tweets$statusSource_clean <- device_types[,1]\n",
    "\n",
    "head(manu_tweets['statusSource_clean'])\n",
    "\n",
    "\n",
    "# 'icc_tweets' cleaning:\n",
    "\n",
    "isolated_device_col_2 <- icc_tweets[\"statusSource\"]\n",
    "\n",
    "split_device2 <- str_split_fixed(isolated_device_col_2$statusSource, \">\", n = 2)\n",
    "\n",
    "device_types <- str_split_fixed((split_device2[,2]),\"<\",n=2)\n",
    "\n",
    "icc_tweets$statusSource_clean <- device_types[,1]\n",
    "\n",
    "head(icc_tweets['statusSource_clean'])"
   ]
  },
  {
   "cell_type": "markdown",
   "metadata": {},
   "source": [
    "We see above that the newly made `statusSource_clean` columns look just as we want them to. \n",
    "\n",
    "This concludes most of the data cleaning that was necesary for now (although we will still perform more data-cleaning when creating the word corpuses later). "
   ]
  },
  {
   "cell_type": "markdown",
   "metadata": {},
   "source": [
    "## Tweet visualization\n",
    "\n",
    "With the data cleaning out of the way, we can proceed to visualize some of the columns we worked on cleaning before.\n",
    "\n",
    "### Tweets by Device Type\n",
    "\n",
    "Let's have a look at the Tweets by device type."
   ]
  },
  {
   "cell_type": "code",
   "execution_count": 9,
   "metadata": {},
   "outputs": [],
   "source": [
    "par(mar = c(3, 3, 2, 2))"
   ]
  },
  {
   "cell_type": "markdown",
   "metadata": {},
   "source": [
    "Depending on the number of Device Types there are, we might have to filter some out to have a more useful visualization. Let's look at the unique device types:"
   ]
  },
  {
   "cell_type": "code",
   "execution_count": 14,
   "metadata": {},
   "outputs": [
    {
     "name": "stdout",
     "output_type": "stream",
     "text": [
      "[1] 48\n"
     ]
    },
    {
     "data": {
      "text/html": [
       "<ol class=list-inline>\n",
       "\t<li>'TweetDeck'</li>\n",
       "\t<li>'footy90.com - News'</li>\n",
       "\t<li>'Postcron App'</li>\n",
       "\t<li>'Twitter Web Client'</li>\n",
       "\t<li>'Instagram'</li>\n",
       "\t<li>'Twitter Web App'</li>\n",
       "\t<li>'PSGBotLive'</li>\n",
       "\t<li>'Twitter for Android'</li>\n",
       "\t<li>'Footy News'</li>\n",
       "\t<li>'Twitter for iPhone'</li>\n",
       "\t<li>'twittbot.net'</li>\n",
       "\t<li>'sportpeda'</li>\n",
       "\t<li>'ManUtd_PL'</li>\n",
       "\t<li>'Hootsuite Inc.'</li>\n",
       "\t<li>'Twitter for iPad'</li>\n",
       "\t<li>'Zapier.com'</li>\n",
       "\t<li>'IFTTT'</li>\n",
       "\t<li>'The Kitman Football Shirts'</li>\n",
       "\t<li>'dlvr.it'</li>\n",
       "\t<li>'ManchesterUnited442'</li>\n",
       "\t<li>'Buffer'</li>\n",
       "\t<li>'TweetCaster for Android'</li>\n",
       "\t<li>'Red Devils Chat'</li>\n",
       "\t<li>'Sprout Social'</li>\n",
       "\t<li>'The Social Jukebox'</li>\n",
       "\t<li>'VIC Pro'</li>\n",
       "\t<li>'Article Tweetbot'</li>\n",
       "\t<li>'AgoraPulse Manager'</li>\n",
       "\t<li>'Echofon'</li>\n",
       "\t<li>'SoccernewsNL'</li>\n",
       "\t<li>'Info fifa'</li>\n",
       "\t<li>'Twitter Ads Composer'</li>\n",
       "\t<li><span style=white-space:pre-wrap>'Echofon  Android'</span></li>\n",
       "\t<li>'PullStatistics'</li>\n",
       "\t<li>'Send a retweet'</li>\n",
       "\t<li>'Twitter for BlackBerry'</li>\n",
       "\t<li>'Tweetbot for Mac'</li>\n",
       "\t<li>'Blog2Social APP'</li>\n",
       "\t<li>'T7 App'</li>\n",
       "\t<li>'Wp Tweet Machine Femeskit.com'</li>\n",
       "\t<li>'Plume for Android'</li>\n",
       "\t<li>'first ever test'</li>\n",
       "\t<li>'Tweetbot for iΟS'</li>\n",
       "\t<li>'Mobile Web (M2)'</li>\n",
       "\t<li>'Twitter Mobile App v8.09.81'</li>\n",
       "\t<li>'Bot Libre!'</li>\n",
       "\t<li>'Mention '</li>\n",
       "\t<li>'Bananarama007'</li>\n",
       "</ol>\n"
      ],
      "text/latex": [
       "\\begin{enumerate*}\n",
       "\\item 'TweetDeck'\n",
       "\\item 'footy90.com - News'\n",
       "\\item 'Postcron App'\n",
       "\\item 'Twitter Web Client'\n",
       "\\item 'Instagram'\n",
       "\\item 'Twitter Web App'\n",
       "\\item 'PSGBotLive'\n",
       "\\item 'Twitter for Android'\n",
       "\\item 'Footy News'\n",
       "\\item 'Twitter for iPhone'\n",
       "\\item 'twittbot.net'\n",
       "\\item 'sportpeda'\n",
       "\\item 'ManUtd\\_PL'\n",
       "\\item 'Hootsuite Inc.'\n",
       "\\item 'Twitter for iPad'\n",
       "\\item 'Zapier.com'\n",
       "\\item 'IFTTT'\n",
       "\\item 'The Kitman Football Shirts'\n",
       "\\item 'dlvr.it'\n",
       "\\item 'ManchesterUnited442'\n",
       "\\item 'Buffer'\n",
       "\\item 'TweetCaster for Android'\n",
       "\\item 'Red Devils Chat'\n",
       "\\item 'Sprout Social'\n",
       "\\item 'The Social Jukebox'\n",
       "\\item 'VIC Pro'\n",
       "\\item 'Article Tweetbot'\n",
       "\\item 'AgoraPulse Manager'\n",
       "\\item 'Echofon'\n",
       "\\item 'SoccernewsNL'\n",
       "\\item 'Info fifa'\n",
       "\\item 'Twitter Ads Composer'\n",
       "\\item 'Echofon  Android'\n",
       "\\item 'PullStatistics'\n",
       "\\item 'Send a retweet'\n",
       "\\item 'Twitter for BlackBerry'\n",
       "\\item 'Tweetbot for Mac'\n",
       "\\item 'Blog2Social APP'\n",
       "\\item 'T7 App'\n",
       "\\item 'Wp Tweet Machine Femeskit.com'\n",
       "\\item 'Plume for Android'\n",
       "\\item 'first ever test'\n",
       "\\item 'Tweetbot for iΟS'\n",
       "\\item 'Mobile Web (M2)'\n",
       "\\item 'Twitter Mobile App v8.09.81'\n",
       "\\item 'Bot Libre!'\n",
       "\\item 'Mention '\n",
       "\\item 'Bananarama007'\n",
       "\\end{enumerate*}\n"
      ],
      "text/markdown": [
       "1. 'TweetDeck'\n",
       "2. 'footy90.com - News'\n",
       "3. 'Postcron App'\n",
       "4. 'Twitter Web Client'\n",
       "5. 'Instagram'\n",
       "6. 'Twitter Web App'\n",
       "7. 'PSGBotLive'\n",
       "8. 'Twitter for Android'\n",
       "9. 'Footy News'\n",
       "10. 'Twitter for iPhone'\n",
       "11. 'twittbot.net'\n",
       "12. 'sportpeda'\n",
       "13. 'ManUtd_PL'\n",
       "14. 'Hootsuite Inc.'\n",
       "15. 'Twitter for iPad'\n",
       "16. 'Zapier.com'\n",
       "17. 'IFTTT'\n",
       "18. 'The Kitman Football Shirts'\n",
       "19. 'dlvr.it'\n",
       "20. 'ManchesterUnited442'\n",
       "21. 'Buffer'\n",
       "22. 'TweetCaster for Android'\n",
       "23. 'Red Devils Chat'\n",
       "24. 'Sprout Social'\n",
       "25. 'The Social Jukebox'\n",
       "26. 'VIC Pro'\n",
       "27. 'Article Tweetbot'\n",
       "28. 'AgoraPulse Manager'\n",
       "29. 'Echofon'\n",
       "30. 'SoccernewsNL'\n",
       "31. 'Info fifa'\n",
       "32. 'Twitter Ads Composer'\n",
       "33. <span style=white-space:pre-wrap>'Echofon  Android'</span>\n",
       "34. 'PullStatistics'\n",
       "35. 'Send a retweet'\n",
       "36. 'Twitter for BlackBerry'\n",
       "37. 'Tweetbot for Mac'\n",
       "38. 'Blog2Social APP'\n",
       "39. 'T7 App'\n",
       "40. 'Wp Tweet Machine Femeskit.com'\n",
       "41. 'Plume for Android'\n",
       "42. 'first ever test'\n",
       "43. 'Tweetbot for iΟS'\n",
       "44. 'Mobile Web (M2)'\n",
       "45. 'Twitter Mobile App v8.09.81'\n",
       "46. 'Bot Libre!'\n",
       "47. 'Mention '\n",
       "48. 'Bananarama007'\n",
       "\n",
       "\n"
      ],
      "text/plain": [
       " [1] \"TweetDeck\"                     \"footy90.com - News\"           \n",
       " [3] \"Postcron App\"                  \"Twitter Web Client\"           \n",
       " [5] \"Instagram\"                     \"Twitter Web App\"              \n",
       " [7] \"PSGBotLive\"                    \"Twitter for Android\"          \n",
       " [9] \"Footy News\"                    \"Twitter for iPhone\"           \n",
       "[11] \"twittbot.net\"                  \"sportpeda\"                    \n",
       "[13] \"ManUtd_PL\"                     \"Hootsuite Inc.\"               \n",
       "[15] \"Twitter for iPad\"              \"Zapier.com\"                   \n",
       "[17] \"IFTTT\"                         \"The Kitman Football Shirts\"   \n",
       "[19] \"dlvr.it\"                       \"ManchesterUnited442\"          \n",
       "[21] \"Buffer\"                        \"TweetCaster for Android\"      \n",
       "[23] \"Red Devils Chat\"               \"Sprout Social\"                \n",
       "[25] \"The Social Jukebox\"            \"VIC Pro\"                      \n",
       "[27] \"Article Tweetbot\"              \"AgoraPulse Manager\"           \n",
       "[29] \"Echofon\"                       \"SoccernewsNL\"                 \n",
       "[31] \"Info fifa\"                     \"Twitter Ads Composer\"         \n",
       "[33] \"Echofon  Android\"              \"PullStatistics\"               \n",
       "[35] \"Send a retweet\"                \"Twitter for BlackBerry\"       \n",
       "[37] \"Tweetbot for Mac\"              \"Blog2Social APP\"              \n",
       "[39] \"T7 App\"                        \"Wp Tweet Machine Femeskit.com\"\n",
       "[41] \"Plume for Android\"             \"first ever test\"              \n",
       "[43] \"Tweetbot for i<U+039F>S\"       \"Mobile Web (M2)\"              \n",
       "[45] \"Twitter Mobile App v8.09.81\"   \"Bot Libre!\"                   \n",
       "[47] \"Mention \"                      \"Bananarama007\"                "
      ]
     },
     "metadata": {},
     "output_type": "display_data"
    },
    {
     "name": "stdout",
     "output_type": "stream",
     "text": [
      "[1] 24\n"
     ]
    },
    {
     "data": {
      "text/html": [
       "<ol class=list-inline>\n",
       "\t<li>'Twitter for iPhone'</li>\n",
       "\t<li>'Twitter Web App'</li>\n",
       "\t<li>'Twitter for Android'</li>\n",
       "\t<li>'Hootsuite Inc.'</li>\n",
       "\t<li>'Twitter Web Client'</li>\n",
       "\t<li>'Twitter for iPad'</li>\n",
       "\t<li>'Mobile Web (M2)'</li>\n",
       "\t<li>'Echobox Social'</li>\n",
       "\t<li>'Sprout Social'</li>\n",
       "\t<li>'TweetDeck'</li>\n",
       "\t<li>'Falcon Social Media Management '</li>\n",
       "\t<li>'T7 App'</li>\n",
       "\t<li>'Man United Memorabilia'</li>\n",
       "\t<li>'Twitter for BlackBerry'</li>\n",
       "\t<li>'sportpeda'</li>\n",
       "\t<li>'Instagram'</li>\n",
       "\t<li>'WordPress.com'</li>\n",
       "\t<li>'TaylorNewsHub'</li>\n",
       "\t<li>'Twitter Media Studio'</li>\n",
       "\t<li>'TweetCaster for Android'</li>\n",
       "\t<li>'Sprinklr'</li>\n",
       "\t<li>'News4UDC bot'</li>\n",
       "\t<li>'TweetFromMethode'</li>\n",
       "\t<li>'IFTTT'</li>\n",
       "</ol>\n"
      ],
      "text/latex": [
       "\\begin{enumerate*}\n",
       "\\item 'Twitter for iPhone'\n",
       "\\item 'Twitter Web App'\n",
       "\\item 'Twitter for Android'\n",
       "\\item 'Hootsuite Inc.'\n",
       "\\item 'Twitter Web Client'\n",
       "\\item 'Twitter for iPad'\n",
       "\\item 'Mobile Web (M2)'\n",
       "\\item 'Echobox Social'\n",
       "\\item 'Sprout Social'\n",
       "\\item 'TweetDeck'\n",
       "\\item 'Falcon Social Media Management '\n",
       "\\item 'T7 App'\n",
       "\\item 'Man United Memorabilia'\n",
       "\\item 'Twitter for BlackBerry'\n",
       "\\item 'sportpeda'\n",
       "\\item 'Instagram'\n",
       "\\item 'WordPress.com'\n",
       "\\item 'TaylorNewsHub'\n",
       "\\item 'Twitter Media Studio'\n",
       "\\item 'TweetCaster for Android'\n",
       "\\item 'Sprinklr'\n",
       "\\item 'News4UDC bot'\n",
       "\\item 'TweetFromMethode'\n",
       "\\item 'IFTTT'\n",
       "\\end{enumerate*}\n"
      ],
      "text/markdown": [
       "1. 'Twitter for iPhone'\n",
       "2. 'Twitter Web App'\n",
       "3. 'Twitter for Android'\n",
       "4. 'Hootsuite Inc.'\n",
       "5. 'Twitter Web Client'\n",
       "6. 'Twitter for iPad'\n",
       "7. 'Mobile Web (M2)'\n",
       "8. 'Echobox Social'\n",
       "9. 'Sprout Social'\n",
       "10. 'TweetDeck'\n",
       "11. 'Falcon Social Media Management '\n",
       "12. 'T7 App'\n",
       "13. 'Man United Memorabilia'\n",
       "14. 'Twitter for BlackBerry'\n",
       "15. 'sportpeda'\n",
       "16. 'Instagram'\n",
       "17. 'WordPress.com'\n",
       "18. 'TaylorNewsHub'\n",
       "19. 'Twitter Media Studio'\n",
       "20. 'TweetCaster for Android'\n",
       "21. 'Sprinklr'\n",
       "22. 'News4UDC bot'\n",
       "23. 'TweetFromMethode'\n",
       "24. 'IFTTT'\n",
       "\n",
       "\n"
      ],
      "text/plain": [
       " [1] \"Twitter for iPhone\"              \"Twitter Web App\"                \n",
       " [3] \"Twitter for Android\"             \"Hootsuite Inc.\"                 \n",
       " [5] \"Twitter Web Client\"              \"Twitter for iPad\"               \n",
       " [7] \"Mobile Web (M2)\"                 \"Echobox Social\"                 \n",
       " [9] \"Sprout Social\"                   \"TweetDeck\"                      \n",
       "[11] \"Falcon Social Media Management \" \"T7 App\"                         \n",
       "[13] \"Man United Memorabilia\"          \"Twitter for BlackBerry\"         \n",
       "[15] \"sportpeda\"                       \"Instagram\"                      \n",
       "[17] \"WordPress.com\"                   \"TaylorNewsHub\"                  \n",
       "[19] \"Twitter Media Studio\"            \"TweetCaster for Android\"        \n",
       "[21] \"Sprinklr\"                        \"News4UDC bot\"                   \n",
       "[23] \"TweetFromMethode\"                \"IFTTT\"                          "
      ]
     },
     "metadata": {},
     "output_type": "display_data"
    }
   ],
   "source": [
    "print(length(unique(manu_tweets$statusSource_clean)))\n",
    "\n",
    "unique(manu_tweets$statusSource_clean)\n",
    "\n",
    "print(length(unique(icc_tweets$statusSource_clean)))\n",
    "\n",
    "unique(icc_tweets$statusSource_clean)"
   ]
  },
  {
   "cell_type": "markdown",
   "metadata": {},
   "source": [
    "There are a total of 48 Device types for `manu_tweets`, and 24 Device Types for `icc_tweets`. Let's try visualizing this:"
   ]
  },
  {
   "cell_type": "code",
   "execution_count": 15,
   "metadata": {},
   "outputs": [
    {
     "data": {
      "image/png": "[encoded data removed]",
      "text/plain": [
       "plot without title"
      ]
     },
     "metadata": {},
     "output_type": "display_data"
    }
   ],
   "source": [
    "device_types_manu <- (ggplot(manu_tweets, aes(x= statusSource_clean , fill = isRetweet)) + geom_bar() \n",
    "                 + theme(panel.background=element_rect(fill='white'), \n",
    "                         axis.ticks.x=element_blank(),\n",
    "                         axis.text.x=element_blank())\n",
    "                         +labs(x=\"\"))\n",
    "\n",
    "device_types_manu"
   ]
  },
  {
   "cell_type": "code",
   "execution_count": 16,
   "metadata": {},
   "outputs": [
    {
     "data": {
      "image/png": "[encoded data removed]",
      "text/plain": [
       "plot without title"
      ]
     },
     "metadata": {},
     "output_type": "display_data"
    }
   ],
   "source": [
    "device_types_icc <- (ggplot(icc_tweets, aes(x= statusSource_clean , fill = isRetweet)) + geom_bar() \n",
    "                 + theme(panel.background=element_rect(fill='white'), \n",
    "                         axis.ticks.x=element_blank(),\n",
    "                         axis.text.x=element_blank())\n",
    "                         +labs(x=\"\"))\n",
    "\n",
    "device_types_icc"
   ]
  },
  {
   "cell_type": "markdown",
   "metadata": {},
   "source": [
    "We see above that for both graphs, there are 2 Device Types that dominate the graph, and another 5-7 or so that are used less commonly, while the majority of the 48 or 24 device types are used very little. Let's only look at the 10 most popular Device Types in each dataframe, since these account for well over 95% of the tweets in both cases."
   ]
  },
  {
   "cell_type": "code",
   "execution_count": 24,
   "metadata": {},
   "outputs": [
    {
     "data": {
      "text/html": [
       "<ol class=list-inline>\n",
       "\t<li>'Twitter for Android'</li>\n",
       "\t<li>'Twitter for iPhone'</li>\n",
       "\t<li>'Twitter Web App'</li>\n",
       "\t<li>'Zapier.com'</li>\n",
       "\t<li>'footy90.com - News'</li>\n",
       "\t<li>'Twitter Web Client'</li>\n",
       "\t<li>'TweetDeck'</li>\n",
       "\t<li>'Hootsuite Inc.'</li>\n",
       "\t<li>'Twitter for iPad'</li>\n",
       "\t<li>'Instagram'</li>\n",
       "</ol>\n"
      ],
      "text/latex": [
       "\\begin{enumerate*}\n",
       "\\item 'Twitter for Android'\n",
       "\\item 'Twitter for iPhone'\n",
       "\\item 'Twitter Web App'\n",
       "\\item 'Zapier.com'\n",
       "\\item 'footy90.com - News'\n",
       "\\item 'Twitter Web Client'\n",
       "\\item 'TweetDeck'\n",
       "\\item 'Hootsuite Inc.'\n",
       "\\item 'Twitter for iPad'\n",
       "\\item 'Instagram'\n",
       "\\end{enumerate*}\n"
      ],
      "text/markdown": [
       "1. 'Twitter for Android'\n",
       "2. 'Twitter for iPhone'\n",
       "3. 'Twitter Web App'\n",
       "4. 'Zapier.com'\n",
       "5. 'footy90.com - News'\n",
       "6. 'Twitter Web Client'\n",
       "7. 'TweetDeck'\n",
       "8. 'Hootsuite Inc.'\n",
       "9. 'Twitter for iPad'\n",
       "10. 'Instagram'\n",
       "\n",
       "\n"
      ],
      "text/plain": [
       " [1] \"Twitter for Android\" \"Twitter for iPhone\"  \"Twitter Web App\"    \n",
       " [4] \"Zapier.com\"          \"footy90.com - News\"  \"Twitter Web Client\" \n",
       " [7] \"TweetDeck\"           \"Hootsuite Inc.\"      \"Twitter for iPad\"   \n",
       "[10] \"Instagram\"          "
      ]
     },
     "metadata": {},
     "output_type": "display_data"
    },
    {
     "data": {
      "text/html": [
       "<ol class=list-inline>\n",
       "\t<li>'Twitter for Android'</li>\n",
       "\t<li>'Twitter for iPhone'</li>\n",
       "\t<li>'Twitter Web App'</li>\n",
       "\t<li>'Twitter for iPad'</li>\n",
       "\t<li>'TweetDeck'</li>\n",
       "\t<li>'Twitter Web Client'</li>\n",
       "\t<li>'Hootsuite Inc.'</li>\n",
       "\t<li>'Twitter for BlackBerry'</li>\n",
       "</ol>\n"
      ],
      "text/latex": [
       "\\begin{enumerate*}\n",
       "\\item 'Twitter for Android'\n",
       "\\item 'Twitter for iPhone'\n",
       "\\item 'Twitter Web App'\n",
       "\\item 'Twitter for iPad'\n",
       "\\item 'TweetDeck'\n",
       "\\item 'Twitter Web Client'\n",
       "\\item 'Hootsuite Inc.'\n",
       "\\item 'Twitter for BlackBerry'\n",
       "\\end{enumerate*}\n"
      ],
      "text/markdown": [
       "1. 'Twitter for Android'\n",
       "2. 'Twitter for iPhone'\n",
       "3. 'Twitter Web App'\n",
       "4. 'Twitter for iPad'\n",
       "5. 'TweetDeck'\n",
       "6. 'Twitter Web Client'\n",
       "7. 'Hootsuite Inc.'\n",
       "8. 'Twitter for BlackBerry'\n",
       "\n",
       "\n"
      ],
      "text/plain": [
       "[1] \"Twitter for Android\"    \"Twitter for iPhone\"     \"Twitter Web App\"       \n",
       "[4] \"Twitter for iPad\"       \"TweetDeck\"              \"Twitter Web Client\"    \n",
       "[7] \"Hootsuite Inc.\"         \"Twitter for BlackBerry\""
      ]
     },
     "metadata": {},
     "output_type": "display_data"
    }
   ],
   "source": [
    "# 'manu_tweets' filtering:\n",
    "\n",
    "freq_table <- as.data.frame(table(manu_tweets$statusSource_clean)) \n",
    "\n",
    "freq_table_sorted <- freq_table %>% arrange(desc(Freq))\n",
    "\n",
    "top_10_devices_freq_manu <-  freq_table_sorted[1:10,]\n",
    "\n",
    "# Creating a Vector to store the names of the most common 10 devices\n",
    "\n",
    "top_10_devices_manu <- as.vector(top_10_devices_freq_manu[,1])\n",
    "\n",
    "top_10_devices_manu\n",
    "\n",
    "\n",
    "\n",
    "\n",
    "# 'icc_tweets' filtering:\n",
    "\n",
    "freq_table <- as.data.frame(table(icc_tweets$statusSource_clean)) \n",
    "\n",
    "freq_table_sorted <- freq_table %>% arrange(desc(Freq))\n",
    "\n",
    "top_10_devices_freq_icc <-  freq_table_sorted[1:8,]\n",
    "\n",
    "# Creating a Vector to store the names of the most common 10 devices\n",
    "\n",
    "top_10_devices_icc <- as.vector(top_10_devices_freq_icc[,1])\n",
    "\n",
    "top_10_devices_icc"
   ]
  },
  {
   "cell_type": "code",
   "execution_count": 25,
   "metadata": {},
   "outputs": [
    {
     "data": {
      "text/html": [
       "<table>\n",
       "<thead><tr><th></th><th scope=col>text</th><th scope=col>favorited</th><th scope=col>favoriteCount</th><th scope=col>replyToSN</th><th scope=col>created</th><th scope=col>truncated</th><th scope=col>replyToSID</th><th scope=col>id</th><th scope=col>replyToUID</th><th scope=col>statusSource</th><th scope=col>screenName</th><th scope=col>retweetCount</th><th scope=col>isRetweet</th><th scope=col>retweeted</th><th scope=col>longitude</th><th scope=col>latitude</th><th scope=col>statusSource_clean</th></tr></thead>\n",
       "<tbody>\n",
       "\t<tr><th scope=row>1</th><td>A clear choice! \n",
       "\n",
       "Reports suggest @paulpogba has his heart set on a @realmadrid move for one key reason. \n",
       "\n",
       "#Pogba https://t.co/KGioo2e93M</td><td>FALSE                                                                                                                                        </td><td>0                                                                                                                                            </td><td>NA                                                                                                                                           </td><td>2019-07-20 02:59:44                                                                                                                          </td><td> TRUE                                                                                                                                        </td><td>NA                                                                                                                                           </td><td>1152412747155431424                                                                                                                          </td><td>NA                                                                                                                                           </td><td>&lt;a href=\"https://about.twitter.com/products/tweetdeck\" rel=\"nofollow\"&gt;TweetDeck&lt;/a&gt;                                              </td><td>FOXSportsAsia                                                                                                                                </td><td>0                                                                                                                                            </td><td>FALSE                                                                                                                                        </td><td>FALSE                                                                                                                                        </td><td>NA                                                                                                                                           </td><td>NA                                                                                                                                           </td><td><span style=white-space:pre-wrap>TweetDeck         </span>                                                                                   </td></tr>\n",
       "\t<tr><th scope=row>2</th><td><span style=white-space:pre-wrap>What #Manchester United want from Fred this season\n",
       "#ManUtd  #Premier_League \n",
       "Pls RT\n",
       "https://t.co/TgNfVy0vYO                               </span></td><td>FALSE                                                                                                                                                                                </td><td>0                                                                                                                                                                                    </td><td>NA                                                                                                                                                                                   </td><td>2019-07-20 02:58:41                                                                                                                                                                  </td><td>FALSE                                                                                                                                                                                </td><td>NA                                                                                                                                                                                   </td><td>1152412481475796994                                                                                                                                                                  </td><td>NA                                                                                                                                                                                   </td><td><span style=white-space:pre-wrap>&lt;a href=\"https://footy90.com\" rel=\"nofollow\"&gt;footy90.com - News&lt;/a&gt;                </span>                                              </td><td><span style=white-space:pre-wrap>footy90com   </span>                                                                                                                                </td><td>0                                                                                                                                                                                    </td><td>FALSE                                                                                                                                                                                </td><td>FALSE                                                                                                                                                                                </td><td>NA                                                                                                                                                                                   </td><td>NA                                                                                                                                                                                   </td><td>footy90.com - News                                                                                                                                                                   </td></tr>\n",
       "\t<tr><th scope=row>4</th><td><span style=white-space:pre-wrap>RT @TheAutoKorrect: Nothing more hype than winning an @TheVFL_ @united_ps4 game in extra time at the 93' mark. Well played to @VFLBrighton   </span></td><td>FALSE                                                                                                                                                                                </td><td>0                                                                                                                                                                                    </td><td>NA                                                                                                                                                                                   </td><td>2019-07-20 02:38:20                                                                                                                                                                  </td><td>FALSE                                                                                                                                                                                </td><td>NA                                                                                                                                                                                   </td><td>1152407361690230789                                                                                                                                                                  </td><td>NA                                                                                                                                                                                   </td><td><span style=white-space:pre-wrap>&lt;a href=\"http://twitter.com\" rel=\"nofollow\"&gt;Twitter Web Client&lt;/a&gt;                 </span>                                              </td><td><span style=white-space:pre-wrap>TheVFL_      </span>                                                                                                                                </td><td>1                                                                                                                                                                                    </td><td> TRUE                                                                                                                                                                                </td><td>FALSE                                                                                                                                                                                </td><td>NA                                                                                                                                                                                   </td><td>NA                                                                                                                                                                                   </td><td>Twitter Web Client                                                                                                                                                                   </td></tr>\n",
       "</tbody>\n",
       "</table>\n"
      ],
      "text/latex": [
       "\\begin{tabular}{r|lllllllllllllllll}\n",
       "  & text & favorited & favoriteCount & replyToSN & created & truncated & replyToSID & id & replyToUID & statusSource & screenName & retweetCount & isRetweet & retweeted & longitude & latitude & statusSource\\_clean\\\\\n",
       "\\hline\n",
       "\t1 & A clear choice! \n",
       "\n",
       "Reports suggest @paulpogba has his heart set on a @realmadrid move for one key reason. \n",
       "\n",
       "\\#Pogba https://t.co/KGioo2e93M & FALSE                                                                                                                                           & 0                                                                                                                                               & NA                                                                                                                                              & 2019-07-20 02:59:44                                                                                                                             &  TRUE                                                                                                                                           & NA                                                                                                                                              & 1152412747155431424                                                                                                                             & NA                                                                                                                                              & <a href=\"https://about.twitter.com/products/tweetdeck\" rel=\"nofollow\">TweetDeck</a>                                                             & FOXSportsAsia                                                                                                                                   & 0                                                                                                                                               & FALSE                                                                                                                                           & FALSE                                                                                                                                           & NA                                                                                                                                              & NA                                                                                                                                              & TweetDeck                                                                                                                                      \\\\\n",
       "\t2 & What \\#Manchester United want from Fred this season\n",
       "\\#ManUtd  \\#Premier\\_League \n",
       "Pls RT\n",
       "https://t.co/TgNfVy0vYO                                & FALSE                                                                                                                                                 & 0                                                                                                                                                     & NA                                                                                                                                                    & 2019-07-20 02:58:41                                                                                                                                   & FALSE                                                                                                                                                 & NA                                                                                                                                                    & 1152412481475796994                                                                                                                                   & NA                                                                                                                                                    & <a href=\"https://footy90.com\" rel=\"nofollow\">footy90.com - News</a>                                                                                   & footy90com                                                                                                                                            & 0                                                                                                                                                     & FALSE                                                                                                                                                 & FALSE                                                                                                                                                 & NA                                                                                                                                                    & NA                                                                                                                                                    & footy90.com - News                                                                                                                                   \\\\\n",
       "\t4 & RT @TheAutoKorrect: Nothing more hype than winning an @TheVFL\\_ @united\\_ps4 game in extra time at the 93' mark. Well played to @VFLBrighton    & FALSE                                                                                                                                             & 0                                                                                                                                                 & NA                                                                                                                                                & 2019-07-20 02:38:20                                                                                                                               & FALSE                                                                                                                                             & NA                                                                                                                                                & 1152407361690230789                                                                                                                               & NA                                                                                                                                                & <a href=\"http://twitter.com\" rel=\"nofollow\">Twitter Web Client</a>                                                                                & TheVFL\\_                                                                                                                                         & 1                                                                                                                                                 &  TRUE                                                                                                                                             & FALSE                                                                                                                                             & NA                                                                                                                                                & NA                                                                                                                                                & Twitter Web Client                                                                                                                               \\\\\n",
       "\\end{tabular}\n"
      ],
      "text/markdown": [
       "\n",
       "| <!--/--> | text | favorited | favoriteCount | replyToSN | created | truncated | replyToSID | id | replyToUID | statusSource | screenName | retweetCount | isRetweet | retweeted | longitude | latitude | statusSource_clean |\n",
       "|---|---|---|---|---|---|---|---|---|---|---|---|---|---|---|---|---|---|\n",
       "| 1 | A clear choice! \n",
       "\n",
       "Reports suggest @paulpogba has his heart set on a @realmadrid move for one key reason. \n",
       "\n",
       "#Pogba https://t.co/KGioo2e93M | FALSE                                                                                                                                         | 0                                                                                                                                             | NA                                                                                                                                            | 2019-07-20 02:59:44                                                                                                                           |  TRUE                                                                                                                                         | NA                                                                                                                                            | 1152412747155431424                                                                                                                           | NA                                                                                                                                            | <a href=\"https://about.twitter.com/products/tweetdeck\" rel=\"nofollow\">TweetDeck</a>                                                           | FOXSportsAsia                                                                                                                                 | 0                                                                                                                                             | FALSE                                                                                                                                         | FALSE                                                                                                                                         | NA                                                                                                                                            | NA                                                                                                                                            | TweetDeck                                                                                                                                     |\n",
       "| 2 | What #Manchester United want from Fred this season\n",
       "#ManUtd  #Premier_League \n",
       "Pls RT\n",
       "https://t.co/TgNfVy0vYO                                | FALSE                                                                                                                                         | 0                                                                                                                                             | NA                                                                                                                                            | 2019-07-20 02:58:41                                                                                                                           | FALSE                                                                                                                                         | NA                                                                                                                                            | 1152412481475796994                                                                                                                           | NA                                                                                                                                            | <a href=\"https://footy90.com\" rel=\"nofollow\">footy90.com - News</a>                                                                           | footy90com                                                                                                                                    | 0                                                                                                                                             | FALSE                                                                                                                                         | FALSE                                                                                                                                         | NA                                                                                                                                            | NA                                                                                                                                            | footy90.com - News                                                                                                                            |\n",
       "| 4 | RT @TheAutoKorrect: Nothing more hype than winning an @TheVFL_ @united_ps4 game in extra time at the 93' mark. Well played to @VFLBrighton    | FALSE                                                                                                                                         | 0                                                                                                                                             | NA                                                                                                                                            | 2019-07-20 02:38:20                                                                                                                           | FALSE                                                                                                                                         | NA                                                                                                                                            | 1152407361690230789                                                                                                                           | NA                                                                                                                                            | <a href=\"http://twitter.com\" rel=\"nofollow\">Twitter Web Client</a>                                                                            | TheVFL_                                                                                                                                       | 1                                                                                                                                             |  TRUE                                                                                                                                         | FALSE                                                                                                                                         | NA                                                                                                                                            | NA                                                                                                                                            | Twitter Web Client                                                                                                                            |\n",
       "\n"
      ],
      "text/plain": [
       "  text                                                                                                                                         \n",
       "1 A clear choice! \\n\\nReports suggest @paulpogba has his heart set on a @realmadrid move for one key reason. \\n\\n#Pogba https://t.co/KGioo2e93M\n",
       "2 What #Manchester United want from Fred this season\\n#ManUtd  #Premier_League \\nPls RT\\nhttps://t.co/TgNfVy0vYO                               \n",
       "4 RT @TheAutoKorrect: Nothing more hype than winning an @TheVFL_ @united_ps4 game in extra time at the 93' mark. Well played to @VFLBrighton   \n",
       "  favorited favoriteCount replyToSN created             truncated replyToSID\n",
       "1 FALSE     0             NA        2019-07-20 02:59:44  TRUE     NA        \n",
       "2 FALSE     0             NA        2019-07-20 02:58:41 FALSE     NA        \n",
       "4 FALSE     0             NA        2019-07-20 02:38:20 FALSE     NA        \n",
       "  id                  replyToUID\n",
       "1 1152412747155431424 NA        \n",
       "2 1152412481475796994 NA        \n",
       "4 1152407361690230789 NA        \n",
       "  statusSource                                                                       \n",
       "1 <a href=\"https://about.twitter.com/products/tweetdeck\" rel=\"nofollow\">TweetDeck</a>\n",
       "2 <a href=\"https://footy90.com\" rel=\"nofollow\">footy90.com - News</a>                \n",
       "4 <a href=\"http://twitter.com\" rel=\"nofollow\">Twitter Web Client</a>                 \n",
       "  screenName    retweetCount isRetweet retweeted longitude latitude\n",
       "1 FOXSportsAsia 0            FALSE     FALSE     NA        NA      \n",
       "2 footy90com    0            FALSE     FALSE     NA        NA      \n",
       "4 TheVFL_       1             TRUE     FALSE     NA        NA      \n",
       "  statusSource_clean\n",
       "1 TweetDeck         \n",
       "2 footy90.com - News\n",
       "4 Twitter Web Client"
      ]
     },
     "metadata": {},
     "output_type": "display_data"
    },
    {
     "data": {
      "text/html": [
       "<table>\n",
       "<thead><tr><th scope=col>text</th><th scope=col>favorited</th><th scope=col>favoriteCount</th><th scope=col>replyToSN</th><th scope=col>created</th><th scope=col>truncated</th><th scope=col>replyToSID</th><th scope=col>id</th><th scope=col>replyToUID</th><th scope=col>statusSource</th><th scope=col>screenName</th><th scope=col>retweetCount</th><th scope=col>isRetweet</th><th scope=col>retweeted</th><th scope=col>longitude</th><th scope=col>latitude</th><th scope=col>statusSource_clean</th></tr></thead>\n",
       "<tbody>\n",
       "\t<tr><td><span style=white-space:pre-wrap>RT @SGSportsHub: Coooooool shot, @ManUtd  Welcome to #sgsportshub! \n",
       "\n",
       "#ICCSG #ICC2019 https://t.co/78DbPWAqkA </span></td><td>FALSE                                                                                                                                                  </td><td>0                                                                                                                                                      </td><td>NA                                                                                                                                                     </td><td>2019-07-20 03:03:04                                                                                                                                    </td><td>FALSE                                                                                                                                                  </td><td>NA                                                                                                                                                     </td><td>1152413586167193601                                                                                                                                    </td><td>NA                                                                                                                                                     </td><td>&lt;a href=\"http://twitter.com/download/iphone\" rel=\"nofollow\"&gt;Twitter for iPhone&lt;/a&gt;                                                         </td><td>PremLovesMusic                                                                                                                                         </td><td><span style=white-space:pre-wrap>  1</span>                                                                                                            </td><td> TRUE                                                                                                                                                  </td><td>FALSE                                                                                                                                                  </td><td>NA                                                                                                                                                     </td><td>NA                                                                                                                                                     </td><td>Twitter for iPhone                                                                                                                                     </td></tr>\n",
       "\t<tr><td><span style=white-space:pre-wrap>RT @SpursOfficial: \"You trying to show off your muscles?\" \n",
       " \n",
       "#SpursTour2019  #ICC2019 https://t.co/vJn0ddNH85</span></td><td>FALSE                                                                                                                                                  </td><td>0                                                                                                                                                      </td><td>NA                                                                                                                                                     </td><td>2019-07-20 03:02:59                                                                                                                                    </td><td>FALSE                                                                                                                                                  </td><td>NA                                                                                                                                                     </td><td>1152413566298759169                                                                                                                                    </td><td>NA                                                                                                                                                     </td><td>&lt;a href=\"http://twitter.com/download/iphone\" rel=\"nofollow\"&gt;Twitter for iPhone&lt;/a&gt;                                                         </td><td><span style=white-space:pre-wrap>mzs_mn_11     </span>                                                                                                 </td><td>204                                                                                                                                                    </td><td> TRUE                                                                                                                                                  </td><td>FALSE                                                                                                                                                  </td><td>NA                                                                                                                                                     </td><td>NA                                                                                                                                                     </td><td>Twitter for iPhone                                                                                                                                     </td></tr>\n",
       "\t<tr><td><span style=white-space:pre-wrap>Coooooool shot, @ManUtd  Welcome to #sgsportshub! \n",
       "\n",
       "#ICCSG #ICC2019 https://t.co/78DbPWAqkA                  </span></td><td>FALSE                                                                                                                                                  </td><td>0                                                                                                                                                      </td><td>NA                                                                                                                                                     </td><td>2019-07-20 03:02:54                                                                                                                                    </td><td>FALSE                                                                                                                                                  </td><td>NA                                                                                                                                                     </td><td>1152413544194822144                                                                                                                                    </td><td>NA                                                                                                                                                     </td><td>&lt;a href=\"http://twitter.com/download/iphone\" rel=\"nofollow\"&gt;Twitter for iPhone&lt;/a&gt;                                                         </td><td><span style=white-space:pre-wrap>SGSportsHub   </span>                                                                                                 </td><td><span style=white-space:pre-wrap>  1</span>                                                                                                            </td><td>FALSE                                                                                                                                                  </td><td>FALSE                                                                                                                                                  </td><td>NA                                                                                                                                                     </td><td>NA                                                                                                                                                     </td><td>Twitter for iPhone                                                                                                                                     </td></tr>\n",
       "</tbody>\n",
       "</table>\n"
      ],
      "text/latex": [
       "\\begin{tabular}{r|lllllllllllllllll}\n",
       " text & favorited & favoriteCount & replyToSN & created & truncated & replyToSID & id & replyToUID & statusSource & screenName & retweetCount & isRetweet & retweeted & longitude & latitude & statusSource\\_clean\\\\\n",
       "\\hline\n",
       "\t RT @SGSportsHub: Coooooool shot, @ManUtd  Welcome to \\#sgsportshub! \n",
       "\n",
       "\\#ICCSG \\#ICC2019 https://t.co/78DbPWAqkA  & FALSE                                                                                                                 & 0                                                                                                                     & NA                                                                                                                    & 2019-07-20 03:03:04                                                                                                   & FALSE                                                                                                                 & NA                                                                                                                    & 1152413586167193601                                                                                                   & NA                                                                                                                    & <a href=\"http://twitter.com/download/iphone\" rel=\"nofollow\">Twitter for iPhone</a>                                    & PremLovesMusic                                                                                                        &   1                                                                                                                   &  TRUE                                                                                                                 & FALSE                                                                                                                 & NA                                                                                                                    & NA                                                                                                                    & Twitter for iPhone                                                                                                   \\\\\n",
       "\t RT @SpursOfficial: \"You trying to show off your muscles?\" \n",
       " \n",
       "\\#SpursTour2019  \\#ICC2019 https://t.co/vJn0ddNH85 & FALSE                                                                                                               & 0                                                                                                                   & NA                                                                                                                  & 2019-07-20 03:02:59                                                                                                 & FALSE                                                                                                               & NA                                                                                                                  & 1152413566298759169                                                                                                 & NA                                                                                                                  & <a href=\"http://twitter.com/download/iphone\" rel=\"nofollow\">Twitter for iPhone</a>                                  & mzs\\_mn\\_11                                                                                                       & 204                                                                                                                 &  TRUE                                                                                                               & FALSE                                                                                                               & NA                                                                                                                  & NA                                                                                                                  & Twitter for iPhone                                                                                                 \\\\\n",
       "\t Coooooool shot, @ManUtd  Welcome to \\#sgsportshub! \n",
       "\n",
       "\\#ICCSG \\#ICC2019 https://t.co/78DbPWAqkA                   & FALSE                                                                                                                 & 0                                                                                                                     & NA                                                                                                                    & 2019-07-20 03:02:54                                                                                                   & FALSE                                                                                                                 & NA                                                                                                                    & 1152413544194822144                                                                                                   & NA                                                                                                                    & <a href=\"http://twitter.com/download/iphone\" rel=\"nofollow\">Twitter for iPhone</a>                                    & SGSportsHub                                                                                                           &   1                                                                                                                   & FALSE                                                                                                                 & FALSE                                                                                                                 & NA                                                                                                                    & NA                                                                                                                    & Twitter for iPhone                                                                                                   \\\\\n",
       "\\end{tabular}\n"
      ],
      "text/markdown": [
       "\n",
       "| text | favorited | favoriteCount | replyToSN | created | truncated | replyToSID | id | replyToUID | statusSource | screenName | retweetCount | isRetweet | retweeted | longitude | latitude | statusSource_clean |\n",
       "|---|---|---|---|---|---|---|---|---|---|---|---|---|---|---|---|---|\n",
       "| RT @SGSportsHub: Coooooool shot, @ManUtd  Welcome to #sgsportshub! \n",
       "\n",
       "#ICCSG #ICC2019 https://t.co/78DbPWAqkA  | FALSE                                                                                                           | 0                                                                                                               | NA                                                                                                              | 2019-07-20 03:03:04                                                                                             | FALSE                                                                                                           | NA                                                                                                              | 1152413586167193601                                                                                             | NA                                                                                                              | <a href=\"http://twitter.com/download/iphone\" rel=\"nofollow\">Twitter for iPhone</a>                              | PremLovesMusic                                                                                                  |   1                                                                                                             |  TRUE                                                                                                           | FALSE                                                                                                           | NA                                                                                                              | NA                                                                                                              | Twitter for iPhone                                                                                              |\n",
       "| RT @SpursOfficial: \"You trying to show off your muscles?\" \n",
       " \n",
       "#SpursTour2019  #ICC2019 https://t.co/vJn0ddNH85 | FALSE                                                                                                           | 0                                                                                                               | NA                                                                                                              | 2019-07-20 03:02:59                                                                                             | FALSE                                                                                                           | NA                                                                                                              | 1152413566298759169                                                                                             | NA                                                                                                              | <a href=\"http://twitter.com/download/iphone\" rel=\"nofollow\">Twitter for iPhone</a>                              | mzs_mn_11                                                                                                       | 204                                                                                                             |  TRUE                                                                                                           | FALSE                                                                                                           | NA                                                                                                              | NA                                                                                                              | Twitter for iPhone                                                                                              |\n",
       "| Coooooool shot, @ManUtd  Welcome to #sgsportshub! \n",
       "\n",
       "#ICCSG #ICC2019 https://t.co/78DbPWAqkA                   | FALSE                                                                                                           | 0                                                                                                               | NA                                                                                                              | 2019-07-20 03:02:54                                                                                             | FALSE                                                                                                           | NA                                                                                                              | 1152413544194822144                                                                                             | NA                                                                                                              | <a href=\"http://twitter.com/download/iphone\" rel=\"nofollow\">Twitter for iPhone</a>                              | SGSportsHub                                                                                                     |   1                                                                                                             | FALSE                                                                                                           | FALSE                                                                                                           | NA                                                                                                              | NA                                                                                                              | Twitter for iPhone                                                                                              |\n",
       "\n"
      ],
      "text/plain": [
       "  text                                                                                                           \n",
       "1 RT @SGSportsHub: Coooooool shot, @ManUtd  Welcome to #sgsportshub! \\n\\n#ICCSG #ICC2019 https://t.co/78DbPWAqkA \n",
       "2 RT @SpursOfficial: \"You trying to show off your muscles?\" \\n \\n#SpursTour2019  #ICC2019 https://t.co/vJn0ddNH85\n",
       "3 Coooooool shot, @ManUtd  Welcome to #sgsportshub! \\n\\n#ICCSG #ICC2019 https://t.co/78DbPWAqkA                  \n",
       "  favorited favoriteCount replyToSN created             truncated replyToSID\n",
       "1 FALSE     0             NA        2019-07-20 03:03:04 FALSE     NA        \n",
       "2 FALSE     0             NA        2019-07-20 03:02:59 FALSE     NA        \n",
       "3 FALSE     0             NA        2019-07-20 03:02:54 FALSE     NA        \n",
       "  id                  replyToUID\n",
       "1 1152413586167193601 NA        \n",
       "2 1152413566298759169 NA        \n",
       "3 1152413544194822144 NA        \n",
       "  statusSource                                                                      \n",
       "1 <a href=\"http://twitter.com/download/iphone\" rel=\"nofollow\">Twitter for iPhone</a>\n",
       "2 <a href=\"http://twitter.com/download/iphone\" rel=\"nofollow\">Twitter for iPhone</a>\n",
       "3 <a href=\"http://twitter.com/download/iphone\" rel=\"nofollow\">Twitter for iPhone</a>\n",
       "  screenName     retweetCount isRetweet retweeted longitude latitude\n",
       "1 PremLovesMusic   1           TRUE     FALSE     NA        NA      \n",
       "2 mzs_mn_11      204           TRUE     FALSE     NA        NA      \n",
       "3 SGSportsHub      1          FALSE     FALSE     NA        NA      \n",
       "  statusSource_clean\n",
       "1 Twitter for iPhone\n",
       "2 Twitter for iPhone\n",
       "3 Twitter for iPhone"
      ]
     },
     "metadata": {},
     "output_type": "display_data"
    }
   ],
   "source": [
    "manu_tweets2 <- manu_tweets\n",
    "\n",
    "# Filtering manu_tweets2 to only retain rows where 'statusSource_clean' value matches a value \n",
    "# in the above 'top_10_devices_manu' vector.\n",
    "\n",
    "manu_tweets3 <- manu_tweets2[manu_tweets2$statusSource_clean %in% top_10_devices_manu,]\n",
    "\n",
    "head(manu_tweets3, 3)\n",
    "\n",
    "\n",
    "\n",
    "icc_tweets2 <- icc_tweets\n",
    "\n",
    "# Filtering icc_tweets2 to only retain rows where 'statusSource_clean' value matches a value \n",
    "# in the above 'top_10_devices_icc' vector.\n",
    "\n",
    "icc_tweets3 <- icc_tweets2[icc_tweets2$statusSource_clean %in% top_10_devices_icc,]\n",
    "\n",
    "head(icc_tweets3, 3)"
   ]
  },
  {
   "cell_type": "code",
   "execution_count": 26,
   "metadata": {},
   "outputs": [
    {
     "data": {
      "text/html": [
       "<table>\n",
       "<thead><tr><th scope=col>Var1</th><th scope=col>Freq</th><th scope=col>percentage</th></tr></thead>\n",
       "<tbody>\n",
       "\t<tr><td>Twitter for Android</td><td>797                </td><td>43.268187          </td></tr>\n",
       "\t<tr><td>Twitter for iPhone </td><td>503                </td><td>27.307275          </td></tr>\n",
       "\t<tr><td>Twitter Web App    </td><td>167                </td><td> 9.066232          </td></tr>\n",
       "\t<tr><td>Zapier.com         </td><td>101                </td><td> 5.483170          </td></tr>\n",
       "\t<tr><td>footy90.com - News </td><td> 75                </td><td> 4.071661          </td></tr>\n",
       "\t<tr><td>Twitter Web Client </td><td> 75                </td><td> 4.071661          </td></tr>\n",
       "\t<tr><td>TweetDeck          </td><td> 42                </td><td> 2.280130          </td></tr>\n",
       "\t<tr><td>Hootsuite Inc.     </td><td> 32                </td><td> 1.737242          </td></tr>\n",
       "\t<tr><td>Twitter for iPad   </td><td> 28                </td><td> 1.520087          </td></tr>\n",
       "\t<tr><td>Instagram          </td><td> 22                </td><td> 1.194354          </td></tr>\n",
       "</tbody>\n",
       "</table>\n"
      ],
      "text/latex": [
       "\\begin{tabular}{r|lll}\n",
       " Var1 & Freq & percentage\\\\\n",
       "\\hline\n",
       "\t Twitter for Android & 797                 & 43.268187          \\\\\n",
       "\t Twitter for iPhone  & 503                 & 27.307275          \\\\\n",
       "\t Twitter Web App     & 167                 &  9.066232          \\\\\n",
       "\t Zapier.com          & 101                 &  5.483170          \\\\\n",
       "\t footy90.com - News  &  75                 &  4.071661          \\\\\n",
       "\t Twitter Web Client  &  75                 &  4.071661          \\\\\n",
       "\t TweetDeck           &  42                 &  2.280130          \\\\\n",
       "\t Hootsuite Inc.      &  32                 &  1.737242          \\\\\n",
       "\t Twitter for iPad    &  28                 &  1.520087          \\\\\n",
       "\t Instagram           &  22                 &  1.194354          \\\\\n",
       "\\end{tabular}\n"
      ],
      "text/markdown": [
       "\n",
       "| Var1 | Freq | percentage |\n",
       "|---|---|---|\n",
       "| Twitter for Android | 797                 | 43.268187           |\n",
       "| Twitter for iPhone  | 503                 | 27.307275           |\n",
       "| Twitter Web App     | 167                 |  9.066232           |\n",
       "| Zapier.com          | 101                 |  5.483170           |\n",
       "| footy90.com - News  |  75                 |  4.071661           |\n",
       "| Twitter Web Client  |  75                 |  4.071661           |\n",
       "| TweetDeck           |  42                 |  2.280130           |\n",
       "| Hootsuite Inc.      |  32                 |  1.737242           |\n",
       "| Twitter for iPad    |  28                 |  1.520087           |\n",
       "| Instagram           |  22                 |  1.194354           |\n",
       "\n"
      ],
      "text/plain": [
       "   Var1                Freq percentage\n",
       "1  Twitter for Android 797  43.268187 \n",
       "2  Twitter for iPhone  503  27.307275 \n",
       "3  Twitter Web App     167   9.066232 \n",
       "4  Zapier.com          101   5.483170 \n",
       "5  footy90.com - News   75   4.071661 \n",
       "6  Twitter Web Client   75   4.071661 \n",
       "7  TweetDeck            42   2.280130 \n",
       "8  Hootsuite Inc.       32   1.737242 \n",
       "9  Twitter for iPad     28   1.520087 \n",
       "10 Instagram            22   1.194354 "
      ]
     },
     "metadata": {},
     "output_type": "display_data"
    },
    {
     "data": {
      "text/html": [
       "<table>\n",
       "<thead><tr><th scope=col>Var1</th><th scope=col>Freq</th><th scope=col>percentage</th></tr></thead>\n",
       "<tbody>\n",
       "\t<tr><td>Twitter for Android   </td><td>1063                  </td><td>53.8500507            </td></tr>\n",
       "\t<tr><td>Twitter for iPhone    </td><td> 708                  </td><td>35.8662614            </td></tr>\n",
       "\t<tr><td>Twitter Web App       </td><td> 121                  </td><td> 6.1296859            </td></tr>\n",
       "\t<tr><td>Twitter for iPad      </td><td>  26                  </td><td> 1.3171226            </td></tr>\n",
       "\t<tr><td>TweetDeck             </td><td>  23                  </td><td> 1.1651469            </td></tr>\n",
       "\t<tr><td>Twitter Web Client    </td><td>  21                  </td><td> 1.0638298            </td></tr>\n",
       "\t<tr><td>Hootsuite Inc.        </td><td>   6                  </td><td> 0.3039514            </td></tr>\n",
       "\t<tr><td>Twitter for BlackBerry</td><td>   6                  </td><td> 0.3039514            </td></tr>\n",
       "</tbody>\n",
       "</table>\n"
      ],
      "text/latex": [
       "\\begin{tabular}{r|lll}\n",
       " Var1 & Freq & percentage\\\\\n",
       "\\hline\n",
       "\t Twitter for Android    & 1063                   & 53.8500507            \\\\\n",
       "\t Twitter for iPhone     &  708                   & 35.8662614            \\\\\n",
       "\t Twitter Web App        &  121                   &  6.1296859            \\\\\n",
       "\t Twitter for iPad       &   26                   &  1.3171226            \\\\\n",
       "\t TweetDeck              &   23                   &  1.1651469            \\\\\n",
       "\t Twitter Web Client     &   21                   &  1.0638298            \\\\\n",
       "\t Hootsuite Inc.         &    6                   &  0.3039514            \\\\\n",
       "\t Twitter for BlackBerry &    6                   &  0.3039514            \\\\\n",
       "\\end{tabular}\n"
      ],
      "text/markdown": [
       "\n",
       "| Var1 | Freq | percentage |\n",
       "|---|---|---|\n",
       "| Twitter for Android    | 1063                   | 53.8500507             |\n",
       "| Twitter for iPhone     |  708                   | 35.8662614             |\n",
       "| Twitter Web App        |  121                   |  6.1296859             |\n",
       "| Twitter for iPad       |   26                   |  1.3171226             |\n",
       "| TweetDeck              |   23                   |  1.1651469             |\n",
       "| Twitter Web Client     |   21                   |  1.0638298             |\n",
       "| Hootsuite Inc.         |    6                   |  0.3039514             |\n",
       "| Twitter for BlackBerry |    6                   |  0.3039514             |\n",
       "\n"
      ],
      "text/plain": [
       "  Var1                   Freq percentage\n",
       "1 Twitter for Android    1063 53.8500507\n",
       "2 Twitter for iPhone      708 35.8662614\n",
       "3 Twitter Web App         121  6.1296859\n",
       "4 Twitter for iPad         26  1.3171226\n",
       "5 TweetDeck                23  1.1651469\n",
       "6 Twitter Web Client       21  1.0638298\n",
       "7 Hootsuite Inc.            6  0.3039514\n",
       "8 Twitter for BlackBerry    6  0.3039514"
      ]
     },
     "metadata": {},
     "output_type": "display_data"
    }
   ],
   "source": [
    "# Creating a new table to visualize Device use by percentage\n",
    "\n",
    "top_10_devices_freq_manu <- top_10_devices_freq_manu %>% mutate(percentage = Freq/sum(top_10_devices_freq_manu$Freq)*100)\n",
    "\n",
    "top_10_devices_freq_manu\n",
    "\n",
    "\n",
    "\n",
    "top_10_devices_freq_icc <- top_10_devices_freq_icc %>% mutate(percentage = Freq/sum(top_10_devices_freq_icc$Freq)*100)\n",
    "\n",
    "top_10_devices_freq_icc"
   ]
  },
  {
   "cell_type": "markdown",
   "metadata": {},
   "source": [
    "Let's merge the two frequency tables above with the primary dataframes:"
   ]
  },
  {
   "cell_type": "code",
   "execution_count": 58,
   "metadata": {},
   "outputs": [
    {
     "name": "stderr",
     "output_type": "stream",
     "text": [
      "Warning message:\n",
      "\"Column `statusSource_clean`/`Var1` joining character vector and factor, coercing into character vector\"Warning message:\n",
      "\"Column `statusSource_clean`/`Var1` joining character vector and factor, coercing into character vector\""
     ]
    },
    {
     "data": {
      "text/html": [
       "<table>\n",
       "<thead><tr><th scope=col>text</th><th scope=col>favorited</th><th scope=col>favoriteCount</th><th scope=col>replyToSN</th><th scope=col>created</th><th scope=col>truncated</th><th scope=col>replyToSID</th><th scope=col>id</th><th scope=col>replyToUID</th><th scope=col>statusSource</th><th scope=col>screenName</th><th scope=col>retweetCount</th><th scope=col>isRetweet</th><th scope=col>retweeted</th><th scope=col>longitude</th><th scope=col>latitude</th><th scope=col>statusSource_clean</th><th scope=col>Freq</th><th scope=col>percentage</th></tr></thead>\n",
       "<tbody>\n",
       "\t<tr><td><span style=white-space:pre-wrap>RT @SGSportsHub: Coooooool shot, @ManUtd  Welcome to #sgsportshub! \n",
       "\n",
       "#ICCSG #ICC2019 https://t.co/78DbPWAqkA </span></td><td>FALSE                                                                                                                                                  </td><td>0                                                                                                                                                      </td><td>NA                                                                                                                                                     </td><td>2019-07-20 03:03:04                                                                                                                                    </td><td>FALSE                                                                                                                                                  </td><td>NA                                                                                                                                                     </td><td>1152413586167193601                                                                                                                                    </td><td>NA                                                                                                                                                     </td><td>&lt;a href=\"http://twitter.com/download/iphone\" rel=\"nofollow\"&gt;Twitter for iPhone&lt;/a&gt;                                                         </td><td>PremLovesMusic                                                                                                                                         </td><td><span style=white-space:pre-wrap>  1</span>                                                                                                            </td><td> TRUE                                                                                                                                                  </td><td>FALSE                                                                                                                                                  </td><td>NA                                                                                                                                                     </td><td>NA                                                                                                                                                     </td><td>Twitter for iPhone                                                                                                                                     </td><td>708                                                                                                                                                    </td><td>35.86626                                                                                                                                               </td></tr>\n",
       "\t<tr><td><span style=white-space:pre-wrap>RT @SpursOfficial: \"You trying to show off your muscles?\" \n",
       " \n",
       "#SpursTour2019  #ICC2019 https://t.co/vJn0ddNH85</span></td><td>FALSE                                                                                                                                                  </td><td>0                                                                                                                                                      </td><td>NA                                                                                                                                                     </td><td>2019-07-20 03:02:59                                                                                                                                    </td><td>FALSE                                                                                                                                                  </td><td>NA                                                                                                                                                     </td><td>1152413566298759169                                                                                                                                    </td><td>NA                                                                                                                                                     </td><td>&lt;a href=\"http://twitter.com/download/iphone\" rel=\"nofollow\"&gt;Twitter for iPhone&lt;/a&gt;                                                         </td><td><span style=white-space:pre-wrap>mzs_mn_11     </span>                                                                                                 </td><td>204                                                                                                                                                    </td><td> TRUE                                                                                                                                                  </td><td>FALSE                                                                                                                                                  </td><td>NA                                                                                                                                                     </td><td>NA                                                                                                                                                     </td><td>Twitter for iPhone                                                                                                                                     </td><td>708                                                                                                                                                    </td><td>35.86626                                                                                                                                               </td></tr>\n",
       "\t<tr><td><span style=white-space:pre-wrap>Coooooool shot, @ManUtd  Welcome to #sgsportshub! \n",
       "\n",
       "#ICCSG #ICC2019 https://t.co/78DbPWAqkA                  </span></td><td>FALSE                                                                                                                                                  </td><td>0                                                                                                                                                      </td><td>NA                                                                                                                                                     </td><td>2019-07-20 03:02:54                                                                                                                                    </td><td>FALSE                                                                                                                                                  </td><td>NA                                                                                                                                                     </td><td>1152413544194822144                                                                                                                                    </td><td>NA                                                                                                                                                     </td><td>&lt;a href=\"http://twitter.com/download/iphone\" rel=\"nofollow\"&gt;Twitter for iPhone&lt;/a&gt;                                                         </td><td><span style=white-space:pre-wrap>SGSportsHub   </span>                                                                                                 </td><td><span style=white-space:pre-wrap>  1</span>                                                                                                            </td><td>FALSE                                                                                                                                                  </td><td>FALSE                                                                                                                                                  </td><td>NA                                                                                                                                                     </td><td>NA                                                                                                                                                     </td><td>Twitter for iPhone                                                                                                                                     </td><td>708                                                                                                                                                    </td><td>35.86626                                                                                                                                               </td></tr>\n",
       "</tbody>\n",
       "</table>\n"
      ],
      "text/latex": [
       "\\begin{tabular}{r|lllllllllllllllllll}\n",
       " text & favorited & favoriteCount & replyToSN & created & truncated & replyToSID & id & replyToUID & statusSource & screenName & retweetCount & isRetweet & retweeted & longitude & latitude & statusSource\\_clean & Freq & percentage\\\\\n",
       "\\hline\n",
       "\t RT @SGSportsHub: Coooooool shot, @ManUtd  Welcome to \\#sgsportshub! \n",
       "\n",
       "\\#ICCSG \\#ICC2019 https://t.co/78DbPWAqkA  & FALSE                                                                                                                 & 0                                                                                                                     & NA                                                                                                                    & 2019-07-20 03:03:04                                                                                                   & FALSE                                                                                                                 & NA                                                                                                                    & 1152413586167193601                                                                                                   & NA                                                                                                                    & <a href=\"http://twitter.com/download/iphone\" rel=\"nofollow\">Twitter for iPhone</a>                                    & PremLovesMusic                                                                                                        &   1                                                                                                                   &  TRUE                                                                                                                 & FALSE                                                                                                                 & NA                                                                                                                    & NA                                                                                                                    & Twitter for iPhone                                                                                                    & 708                                                                                                                   & 35.86626                                                                                                             \\\\\n",
       "\t RT @SpursOfficial: \"You trying to show off your muscles?\" \n",
       " \n",
       "\\#SpursTour2019  \\#ICC2019 https://t.co/vJn0ddNH85 & FALSE                                                                                                               & 0                                                                                                                   & NA                                                                                                                  & 2019-07-20 03:02:59                                                                                                 & FALSE                                                                                                               & NA                                                                                                                  & 1152413566298759169                                                                                                 & NA                                                                                                                  & <a href=\"http://twitter.com/download/iphone\" rel=\"nofollow\">Twitter for iPhone</a>                                  & mzs\\_mn\\_11                                                                                                       & 204                                                                                                                 &  TRUE                                                                                                               & FALSE                                                                                                               & NA                                                                                                                  & NA                                                                                                                  & Twitter for iPhone                                                                                                  & 708                                                                                                                 & 35.86626                                                                                                           \\\\\n",
       "\t Coooooool shot, @ManUtd  Welcome to \\#sgsportshub! \n",
       "\n",
       "\\#ICCSG \\#ICC2019 https://t.co/78DbPWAqkA                   & FALSE                                                                                                                 & 0                                                                                                                     & NA                                                                                                                    & 2019-07-20 03:02:54                                                                                                   & FALSE                                                                                                                 & NA                                                                                                                    & 1152413544194822144                                                                                                   & NA                                                                                                                    & <a href=\"http://twitter.com/download/iphone\" rel=\"nofollow\">Twitter for iPhone</a>                                    & SGSportsHub                                                                                                           &   1                                                                                                                   & FALSE                                                                                                                 & FALSE                                                                                                                 & NA                                                                                                                    & NA                                                                                                                    & Twitter for iPhone                                                                                                    & 708                                                                                                                   & 35.86626                                                                                                             \\\\\n",
       "\\end{tabular}\n"
      ],
      "text/markdown": [
       "\n",
       "| text | favorited | favoriteCount | replyToSN | created | truncated | replyToSID | id | replyToUID | statusSource | screenName | retweetCount | isRetweet | retweeted | longitude | latitude | statusSource_clean | Freq | percentage |\n",
       "|---|---|---|---|---|---|---|---|---|---|---|---|---|---|---|---|---|---|---|\n",
       "| RT @SGSportsHub: Coooooool shot, @ManUtd  Welcome to #sgsportshub! \n",
       "\n",
       "#ICCSG #ICC2019 https://t.co/78DbPWAqkA  | FALSE                                                                                                           | 0                                                                                                               | NA                                                                                                              | 2019-07-20 03:03:04                                                                                             | FALSE                                                                                                           | NA                                                                                                              | 1152413586167193601                                                                                             | NA                                                                                                              | <a href=\"http://twitter.com/download/iphone\" rel=\"nofollow\">Twitter for iPhone</a>                              | PremLovesMusic                                                                                                  |   1                                                                                                             |  TRUE                                                                                                           | FALSE                                                                                                           | NA                                                                                                              | NA                                                                                                              | Twitter for iPhone                                                                                              | 708                                                                                                             | 35.86626                                                                                                        |\n",
       "| RT @SpursOfficial: \"You trying to show off your muscles?\" \n",
       " \n",
       "#SpursTour2019  #ICC2019 https://t.co/vJn0ddNH85 | FALSE                                                                                                           | 0                                                                                                               | NA                                                                                                              | 2019-07-20 03:02:59                                                                                             | FALSE                                                                                                           | NA                                                                                                              | 1152413566298759169                                                                                             | NA                                                                                                              | <a href=\"http://twitter.com/download/iphone\" rel=\"nofollow\">Twitter for iPhone</a>                              | mzs_mn_11                                                                                                       | 204                                                                                                             |  TRUE                                                                                                           | FALSE                                                                                                           | NA                                                                                                              | NA                                                                                                              | Twitter for iPhone                                                                                              | 708                                                                                                             | 35.86626                                                                                                        |\n",
       "| Coooooool shot, @ManUtd  Welcome to #sgsportshub! \n",
       "\n",
       "#ICCSG #ICC2019 https://t.co/78DbPWAqkA                   | FALSE                                                                                                           | 0                                                                                                               | NA                                                                                                              | 2019-07-20 03:02:54                                                                                             | FALSE                                                                                                           | NA                                                                                                              | 1152413544194822144                                                                                             | NA                                                                                                              | <a href=\"http://twitter.com/download/iphone\" rel=\"nofollow\">Twitter for iPhone</a>                              | SGSportsHub                                                                                                     |   1                                                                                                             | FALSE                                                                                                           | FALSE                                                                                                           | NA                                                                                                              | NA                                                                                                              | Twitter for iPhone                                                                                              | 708                                                                                                             | 35.86626                                                                                                        |\n",
       "\n"
      ],
      "text/plain": [
       "  text                                                                                                           \n",
       "1 RT @SGSportsHub: Coooooool shot, @ManUtd  Welcome to #sgsportshub! \\n\\n#ICCSG #ICC2019 https://t.co/78DbPWAqkA \n",
       "2 RT @SpursOfficial: \"You trying to show off your muscles?\" \\n \\n#SpursTour2019  #ICC2019 https://t.co/vJn0ddNH85\n",
       "3 Coooooool shot, @ManUtd  Welcome to #sgsportshub! \\n\\n#ICCSG #ICC2019 https://t.co/78DbPWAqkA                  \n",
       "  favorited favoriteCount replyToSN created             truncated replyToSID\n",
       "1 FALSE     0             NA        2019-07-20 03:03:04 FALSE     NA        \n",
       "2 FALSE     0             NA        2019-07-20 03:02:59 FALSE     NA        \n",
       "3 FALSE     0             NA        2019-07-20 03:02:54 FALSE     NA        \n",
       "  id                  replyToUID\n",
       "1 1152413586167193601 NA        \n",
       "2 1152413566298759169 NA        \n",
       "3 1152413544194822144 NA        \n",
       "  statusSource                                                                      \n",
       "1 <a href=\"http://twitter.com/download/iphone\" rel=\"nofollow\">Twitter for iPhone</a>\n",
       "2 <a href=\"http://twitter.com/download/iphone\" rel=\"nofollow\">Twitter for iPhone</a>\n",
       "3 <a href=\"http://twitter.com/download/iphone\" rel=\"nofollow\">Twitter for iPhone</a>\n",
       "  screenName     retweetCount isRetweet retweeted longitude latitude\n",
       "1 PremLovesMusic   1           TRUE     FALSE     NA        NA      \n",
       "2 mzs_mn_11      204           TRUE     FALSE     NA        NA      \n",
       "3 SGSportsHub      1          FALSE     FALSE     NA        NA      \n",
       "  statusSource_clean Freq percentage\n",
       "1 Twitter for iPhone 708  35.86626  \n",
       "2 Twitter for iPhone 708  35.86626  \n",
       "3 Twitter for iPhone 708  35.86626  "
      ]
     },
     "metadata": {},
     "output_type": "display_data"
    },
    {
     "data": {
      "text/html": [
       "<table>\n",
       "<thead><tr><th scope=col>text</th><th scope=col>favorited</th><th scope=col>favoriteCount</th><th scope=col>replyToSN</th><th scope=col>created</th><th scope=col>truncated</th><th scope=col>replyToSID</th><th scope=col>id</th><th scope=col>replyToUID</th><th scope=col>statusSource</th><th scope=col>screenName</th><th scope=col>retweetCount</th><th scope=col>isRetweet</th><th scope=col>retweeted</th><th scope=col>longitude</th><th scope=col>latitude</th><th scope=col>statusSource_clean</th><th scope=col>Freq</th><th scope=col>percentage</th></tr></thead>\n",
       "<tbody>\n",
       "\t<tr><td>A clear choice! \n",
       "\n",
       "Reports suggest @paulpogba has his heart set on a @realmadrid move for one key reason. \n",
       "\n",
       "#Pogba https://t.co/KGioo2e93M</td><td>FALSE                                                                                                                                        </td><td>0                                                                                                                                            </td><td>NA                                                                                                                                           </td><td>2019-07-20 02:59:44                                                                                                                          </td><td> TRUE                                                                                                                                        </td><td>NA                                                                                                                                           </td><td>1152412747155431424                                                                                                                          </td><td>NA                                                                                                                                           </td><td>&lt;a href=\"https://about.twitter.com/products/tweetdeck\" rel=\"nofollow\"&gt;TweetDeck&lt;/a&gt;                                              </td><td>FOXSportsAsia                                                                                                                                </td><td>0                                                                                                                                            </td><td>FALSE                                                                                                                                        </td><td>FALSE                                                                                                                                        </td><td>NA                                                                                                                                           </td><td>NA                                                                                                                                           </td><td><span style=white-space:pre-wrap>TweetDeck         </span>                                                                                   </td><td>42                                                                                                                                           </td><td>2.280130                                                                                                                                     </td></tr>\n",
       "\t<tr><td><span style=white-space:pre-wrap>What #Manchester United want from Fred this season\n",
       "#ManUtd  #Premier_League \n",
       "Pls RT\n",
       "https://t.co/TgNfVy0vYO                               </span></td><td>FALSE                                                                                                                                                                                </td><td>0                                                                                                                                                                                    </td><td>NA                                                                                                                                                                                   </td><td>2019-07-20 02:58:41                                                                                                                                                                  </td><td>FALSE                                                                                                                                                                                </td><td>NA                                                                                                                                                                                   </td><td>1152412481475796994                                                                                                                                                                  </td><td>NA                                                                                                                                                                                   </td><td><span style=white-space:pre-wrap>&lt;a href=\"https://footy90.com\" rel=\"nofollow\"&gt;footy90.com - News&lt;/a&gt;                </span>                                              </td><td><span style=white-space:pre-wrap>footy90com   </span>                                                                                                                                </td><td>0                                                                                                                                                                                    </td><td>FALSE                                                                                                                                                                                </td><td>FALSE                                                                                                                                                                                </td><td>NA                                                                                                                                                                                   </td><td>NA                                                                                                                                                                                   </td><td>footy90.com - News                                                                                                                                                                   </td><td>75                                                                                                                                                                                   </td><td>4.071661                                                                                                                                                                             </td></tr>\n",
       "\t<tr><td><span style=white-space:pre-wrap>RT @TheAutoKorrect: Nothing more hype than winning an @TheVFL_ @united_ps4 game in extra time at the 93' mark. Well played to @VFLBrighton   </span></td><td>FALSE                                                                                                                                                                                </td><td>0                                                                                                                                                                                    </td><td>NA                                                                                                                                                                                   </td><td>2019-07-20 02:38:20                                                                                                                                                                  </td><td>FALSE                                                                                                                                                                                </td><td>NA                                                                                                                                                                                   </td><td>1152407361690230789                                                                                                                                                                  </td><td>NA                                                                                                                                                                                   </td><td><span style=white-space:pre-wrap>&lt;a href=\"http://twitter.com\" rel=\"nofollow\"&gt;Twitter Web Client&lt;/a&gt;                 </span>                                              </td><td><span style=white-space:pre-wrap>TheVFL_      </span>                                                                                                                                </td><td>1                                                                                                                                                                                    </td><td> TRUE                                                                                                                                                                                </td><td>FALSE                                                                                                                                                                                </td><td>NA                                                                                                                                                                                   </td><td>NA                                                                                                                                                                                   </td><td>Twitter Web Client                                                                                                                                                                   </td><td>75                                                                                                                                                                                   </td><td>4.071661                                                                                                                                                                             </td></tr>\n",
       "</tbody>\n",
       "</table>\n"
      ],
      "text/latex": [
       "\\begin{tabular}{r|lllllllllllllllllll}\n",
       " text & favorited & favoriteCount & replyToSN & created & truncated & replyToSID & id & replyToUID & statusSource & screenName & retweetCount & isRetweet & retweeted & longitude & latitude & statusSource\\_clean & Freq & percentage\\\\\n",
       "\\hline\n",
       "\t A clear choice! \n",
       "\n",
       "Reports suggest @paulpogba has his heart set on a @realmadrid move for one key reason. \n",
       "\n",
       "\\#Pogba https://t.co/KGioo2e93M & FALSE                                                                                                                                           & 0                                                                                                                                               & NA                                                                                                                                              & 2019-07-20 02:59:44                                                                                                                             &  TRUE                                                                                                                                           & NA                                                                                                                                              & 1152412747155431424                                                                                                                             & NA                                                                                                                                              & <a href=\"https://about.twitter.com/products/tweetdeck\" rel=\"nofollow\">TweetDeck</a>                                                             & FOXSportsAsia                                                                                                                                   & 0                                                                                                                                               & FALSE                                                                                                                                           & FALSE                                                                                                                                           & NA                                                                                                                                              & NA                                                                                                                                              & TweetDeck                                                                                                                                       & 42                                                                                                                                              & 2.280130                                                                                                                                       \\\\\n",
       "\t What \\#Manchester United want from Fred this season\n",
       "\\#ManUtd  \\#Premier\\_League \n",
       "Pls RT\n",
       "https://t.co/TgNfVy0vYO                                & FALSE                                                                                                                                                 & 0                                                                                                                                                     & NA                                                                                                                                                    & 2019-07-20 02:58:41                                                                                                                                   & FALSE                                                                                                                                                 & NA                                                                                                                                                    & 1152412481475796994                                                                                                                                   & NA                                                                                                                                                    & <a href=\"https://footy90.com\" rel=\"nofollow\">footy90.com - News</a>                                                                                   & footy90com                                                                                                                                            & 0                                                                                                                                                     & FALSE                                                                                                                                                 & FALSE                                                                                                                                                 & NA                                                                                                                                                    & NA                                                                                                                                                    & footy90.com - News                                                                                                                                    & 75                                                                                                                                                    & 4.071661                                                                                                                                             \\\\\n",
       "\t RT @TheAutoKorrect: Nothing more hype than winning an @TheVFL\\_ @united\\_ps4 game in extra time at the 93' mark. Well played to @VFLBrighton    & FALSE                                                                                                                                             & 0                                                                                                                                                 & NA                                                                                                                                                & 2019-07-20 02:38:20                                                                                                                               & FALSE                                                                                                                                             & NA                                                                                                                                                & 1152407361690230789                                                                                                                               & NA                                                                                                                                                & <a href=\"http://twitter.com\" rel=\"nofollow\">Twitter Web Client</a>                                                                                & TheVFL\\_                                                                                                                                         & 1                                                                                                                                                 &  TRUE                                                                                                                                             & FALSE                                                                                                                                             & NA                                                                                                                                                & NA                                                                                                                                                & Twitter Web Client                                                                                                                                & 75                                                                                                                                                & 4.071661                                                                                                                                         \\\\\n",
       "\\end{tabular}\n"
      ],
      "text/markdown": [
       "\n",
       "| text | favorited | favoriteCount | replyToSN | created | truncated | replyToSID | id | replyToUID | statusSource | screenName | retweetCount | isRetweet | retweeted | longitude | latitude | statusSource_clean | Freq | percentage |\n",
       "|---|---|---|---|---|---|---|---|---|---|---|---|---|---|---|---|---|---|---|\n",
       "| A clear choice! \n",
       "\n",
       "Reports suggest @paulpogba has his heart set on a @realmadrid move for one key reason. \n",
       "\n",
       "#Pogba https://t.co/KGioo2e93M | FALSE                                                                                                                                         | 0                                                                                                                                             | NA                                                                                                                                            | 2019-07-20 02:59:44                                                                                                                           |  TRUE                                                                                                                                         | NA                                                                                                                                            | 1152412747155431424                                                                                                                           | NA                                                                                                                                            | <a href=\"https://about.twitter.com/products/tweetdeck\" rel=\"nofollow\">TweetDeck</a>                                                           | FOXSportsAsia                                                                                                                                 | 0                                                                                                                                             | FALSE                                                                                                                                         | FALSE                                                                                                                                         | NA                                                                                                                                            | NA                                                                                                                                            | TweetDeck                                                                                                                                     | 42                                                                                                                                            | 2.280130                                                                                                                                      |\n",
       "| What #Manchester United want from Fred this season\n",
       "#ManUtd  #Premier_League \n",
       "Pls RT\n",
       "https://t.co/TgNfVy0vYO                                | FALSE                                                                                                                                         | 0                                                                                                                                             | NA                                                                                                                                            | 2019-07-20 02:58:41                                                                                                                           | FALSE                                                                                                                                         | NA                                                                                                                                            | 1152412481475796994                                                                                                                           | NA                                                                                                                                            | <a href=\"https://footy90.com\" rel=\"nofollow\">footy90.com - News</a>                                                                           | footy90com                                                                                                                                    | 0                                                                                                                                             | FALSE                                                                                                                                         | FALSE                                                                                                                                         | NA                                                                                                                                            | NA                                                                                                                                            | footy90.com - News                                                                                                                            | 75                                                                                                                                            | 4.071661                                                                                                                                      |\n",
       "| RT @TheAutoKorrect: Nothing more hype than winning an @TheVFL_ @united_ps4 game in extra time at the 93' mark. Well played to @VFLBrighton    | FALSE                                                                                                                                         | 0                                                                                                                                             | NA                                                                                                                                            | 2019-07-20 02:38:20                                                                                                                           | FALSE                                                                                                                                         | NA                                                                                                                                            | 1152407361690230789                                                                                                                           | NA                                                                                                                                            | <a href=\"http://twitter.com\" rel=\"nofollow\">Twitter Web Client</a>                                                                            | TheVFL_                                                                                                                                       | 1                                                                                                                                             |  TRUE                                                                                                                                         | FALSE                                                                                                                                         | NA                                                                                                                                            | NA                                                                                                                                            | Twitter Web Client                                                                                                                            | 75                                                                                                                                            | 4.071661                                                                                                                                      |\n",
       "\n"
      ],
      "text/plain": [
       "  text                                                                                                                                         \n",
       "1 A clear choice! \\n\\nReports suggest @paulpogba has his heart set on a @realmadrid move for one key reason. \\n\\n#Pogba https://t.co/KGioo2e93M\n",
       "2 What #Manchester United want from Fred this season\\n#ManUtd  #Premier_League \\nPls RT\\nhttps://t.co/TgNfVy0vYO                               \n",
       "3 RT @TheAutoKorrect: Nothing more hype than winning an @TheVFL_ @united_ps4 game in extra time at the 93' mark. Well played to @VFLBrighton   \n",
       "  favorited favoriteCount replyToSN created             truncated replyToSID\n",
       "1 FALSE     0             NA        2019-07-20 02:59:44  TRUE     NA        \n",
       "2 FALSE     0             NA        2019-07-20 02:58:41 FALSE     NA        \n",
       "3 FALSE     0             NA        2019-07-20 02:38:20 FALSE     NA        \n",
       "  id                  replyToUID\n",
       "1 1152412747155431424 NA        \n",
       "2 1152412481475796994 NA        \n",
       "3 1152407361690230789 NA        \n",
       "  statusSource                                                                       \n",
       "1 <a href=\"https://about.twitter.com/products/tweetdeck\" rel=\"nofollow\">TweetDeck</a>\n",
       "2 <a href=\"https://footy90.com\" rel=\"nofollow\">footy90.com - News</a>                \n",
       "3 <a href=\"http://twitter.com\" rel=\"nofollow\">Twitter Web Client</a>                 \n",
       "  screenName    retweetCount isRetweet retweeted longitude latitude\n",
       "1 FOXSportsAsia 0            FALSE     FALSE     NA        NA      \n",
       "2 footy90com    0            FALSE     FALSE     NA        NA      \n",
       "3 TheVFL_       1             TRUE     FALSE     NA        NA      \n",
       "  statusSource_clean Freq percentage\n",
       "1 TweetDeck          42   2.280130  \n",
       "2 footy90.com - News 75   4.071661  \n",
       "3 Twitter Web Client 75   4.071661  "
      ]
     },
     "metadata": {},
     "output_type": "display_data"
    }
   ],
   "source": [
    "icc_merged <- left_join(icc_tweets3, top_10_devices_freq_icc, by = c(\"statusSource_clean\"=\"Var1\"))\n",
    "\n",
    "manu_merged <- left_join(manu_tweets3, top_10_devices_freq_manu, by = c(\"statusSource_clean\"=\"Var1\"))\n",
    "\n",
    "head(icc_merged, 3)\n",
    "\n",
    "head(manu_merged, 3)"
   ]
  },
  {
   "cell_type": "code",
   "execution_count": 60,
   "metadata": {},
   "outputs": [
    {
     "data": {
      "image/png": "[encoded data removed]",
      "text/plain": [
       "plot without title"
      ]
     },
     "metadata": {},
     "output_type": "display_data"
    }
   ],
   "source": [
    "device_types_condensed_manu <- (ggplot(manu_merged, aes(x= statusSource_clean , fill = isRetweet)) + geom_bar() \n",
    "                 + theme(panel.background=element_rect(fill='white'), \n",
    "                         axis.ticks.x=element_blank(),\n",
    "                         axis.text.x=element_blank())\n",
    "                         + theme(axis.ticks.x=element_blank(), axis.text.x = element_text(angle = 25),\n",
    "                         axis.text=element_text(size=8)) \n",
    "                         + labs(x=\"\", title = \"Device Popularity for Tweet or Retweet Usage for manu_tweets\", y =\"No. of Tweets on Device\")\n",
    "                         + geom_text(aes(statusSource_clean, Freq + 20, label = paste0(round(percentage,2), \"%\") , fill = NULL))\n",
    "                               )\n",
    "device_types_condensed_manu"
   ]
  },
  {
   "cell_type": "markdown",
   "metadata": {},
   "source": [
    "We see above that in the `manu_tweets` dataframe, the Twitter apps for Android and iPhone account for the most tweets. **What's interesting to note is that most of the time a tweet occurs on a mobile app, it is a retweet much more often than not.** On web clients, users are more likely to post original tweets, rather than re-tweet.\n",
    "\n",
    "Let's visualize device types for the `icc_tweets` dataframe:"
   ]
  },
  {
   "cell_type": "code",
   "execution_count": 57,
   "metadata": {},
   "outputs": [
    {
     "data": {
      "image/png": "[encoded data removed]",
      "text/plain": [
       "plot without title"
      ]
     },
     "metadata": {},
     "output_type": "display_data"
    }
   ],
   "source": [
    "device_types_condensed_icc <- (ggplot(icc_merged, aes(x= statusSource_clean , fill = isRetweet)) + geom_bar() \n",
    "                 + theme(panel.background=element_rect(fill='white'), \n",
    "                         axis.ticks.x=element_blank(),\n",
    "                         axis.text.x=element_blank())\n",
    "                         + theme(axis.ticks.x=element_blank(), axis.text.x = element_text(angle = 25),\n",
    "                         axis.text=element_text(size=8)) \n",
    "                         + labs(x=\"\", title = \"Device Popularity for Tweet or Retweet Usage for icc_tweets\", y =\"No. of Tweets on Device\")\n",
    "                         + geom_text(aes(statusSource_clean, Freq + 30, label = paste0(round(percentage,2), \"%\") , fill = NULL)))\n",
    "\n",
    "device_types_condensed_icc"
   ]
  },
  {
   "cell_type": "markdown",
   "metadata": {},
   "source": [
    "The biggest thing that stands out is that compared to the #ManUTD hashtag, the #ICC2019 hashtag has a significantly higher proportion of re-tweets than original tweets. \n",
    "\n",
    "This could be because fans might be more likely to re-tweet about an event, rather than make an original tweet about it, but when it comes to football teams they have emotional investments in, they're more likely to make original tweets."
   ]
  },
  {
   "cell_type": "markdown",
   "metadata": {},
   "source": [
    "### Building a Word-cloud\n",
    "\n",
    "We'll first build a corpus of words from the `texts` columns in `manu_tweets` and `icc_tweets` which we cleaned a bit earlier. We'll clean this column even further to remove all white space, punctuation, any remaining special characters, stop words (\"a\", \"the\", \"of\", etc), and make all letters lower case so there is no distinction between words based on letter casing.\n",
    "\n",
    "Afterwards, we'll derive 2 wordclouds from the corpus.\n",
    "\n",
    "We'll begin by writing a function that takes the `texts` column in a table as a corpus, converts it to a word corpus, and does all the necessary processing outlined above using the ['tm_map'](https://www.rdocumentation.org/packages/tm/versions/0.7-6/topics/tm_map) function."
   ]
  },
  {
   "cell_type": "code",
   "execution_count": 184,
   "metadata": {},
   "outputs": [
    {
     "name": "stderr",
     "output_type": "stream",
     "text": [
      "Warning message in tm_map.SimpleCorpus(corpus, removePunctuation):\n",
      "\"transformation drops documents\"Warning message in tm_map.SimpleCorpus(corpus, content_transformer(tolower)):\n",
      "\"transformation drops documents\"Warning message in tm_map.SimpleCorpus(corpus, removeWords, stopwords(\"english\")):\n",
      "\"transformation drops documents\"Warning message in tm_map.SimpleCorpus(corpus, stripWhitespace):\n",
      "\"transformation drops documents\"Warning message in tm_map.SimpleCorpus(corpus, stemDocument):\n",
      "\"transformation drops documents\"Warning message in tm_map.SimpleCorpus(corpus, removePunctuation):\n",
      "\"transformation drops documents\"Warning message in tm_map.SimpleCorpus(corpus, content_transformer(tolower)):\n",
      "\"transformation drops documents\"Warning message in tm_map.SimpleCorpus(corpus, removeWords, stopwords(\"english\")):\n",
      "\"transformation drops documents\"Warning message in tm_map.SimpleCorpus(corpus, stripWhitespace):\n",
      "\"transformation drops documents\"Warning message in tm_map.SimpleCorpus(corpus, stemDocument):\n",
      "\"transformation drops documents\""
     ]
    }
   ],
   "source": [
    "word_corpus_manu <- Corpus(VectorSource(manu_tweets$text))\n",
    "word_corpus_icc <- Corpus(VectorSource(icc_tweets$text))\n",
    "\n",
    "corpus_cleaner <- function(corpus){\n",
    "corpus <- tm_map(corpus, removePunctuation)\n",
    "corpus <- tm_map(corpus, content_transformer(tolower))\n",
    "corpus <- tm_map(corpus, removeWords, stopwords(\"english\"))\n",
    "corpus <- tm_map(corpus, stripWhitespace)\n",
    "corpus <- tm_map(corpus, stemDocument)\n",
    "corpus <- corpus[-grep(\"http\", sapply(corpus, `[`, 1))]\n",
    "}\n",
    "\n",
    "manu_corpus_final <- corpus_cleaner(word_corpus_manu)\n",
    "icc_corpus_final <- corpus_cleaner(word_corpus_icc)"
   ]
  },
  {
   "cell_type": "code",
   "execution_count": 185,
   "metadata": {},
   "outputs": [
    {
     "data": {
      "image/png": "[encoded data removed]",
      "text/plain": [
       "plot without title"
      ]
     },
     "metadata": {},
     "output_type": "display_data"
    },
    {
     "data": {
      "image/png": "[encoded data removed]",
      "text/plain": [
       "plot without title"
      ]
     },
     "metadata": {},
     "output_type": "display_data"
    }
   ],
   "source": [
    "color_scheme <- brewer.pal(9,\"YlGnBu\")\n",
    "color_scheme <- color_scheme[-(1:4)]\n",
    "set.seed(103)\n",
    "wordcloud(words = manu_corpus_final, max.words=200, random.order=FALSE, \n",
    "          rot.per=0.35, use.r.layout=FALSE, colors=color_scheme)\n",
    "\n",
    "color_scheme <- brewer.pal(9,\"YlGnBu\")\n",
    "color_scheme <- color_scheme[-(1:4)]\n",
    "set.seed(103)\n",
    "wordcloud(words = icc_corpus_final, max.words=100, random.order=FALSE, \n",
    "          rot.per=0.25, use.r.layout=FALSE, colors=color_scheme)"
   ]
  },
  {
   "cell_type": "markdown",
   "metadata": {},
   "source": [
    "## Sentiment Analysis\n",
    "\n",
    "The [get_nrc_sentiment()](https://www.rdocumentation.org/packages/syuzhet/versions/1.0.4/topics/get_nrc_sentiment) function from the `syuzhet` library will be used to designate an emotional attribute to our tweets in each dataframe. As outlined in the documentation, this function will call the [NRC sentiment dictionary](http://saifmohammad.com/WebPages/NRC-Emotion-Lexicon.htm) to calculate the presence of eight different emotions, as well as the overall positive or negative attribute.\n",
    "\n",
    "The resulting output will then be something that we'll be able to graphically represent.\n",
    "\n",
    "Let's first test the sentiment analysis from the `get_nrc_sentiment` on one of our tweets:"
   ]
  },
  {
   "cell_type": "code",
   "execution_count": 78,
   "metadata": {},
   "outputs": [
    {
     "data": {
      "text/html": [
       "<span style=white-space:pre-wrap>'RT @red_cafe:  DAILY MAIL: Dean Henderson close to agreeing new Manchester United deal before going back on loan to Sheffield United. Manc'</span>"
      ],
      "text/latex": [
       "'RT @red\\_cafe:  DAILY MAIL: Dean Henderson close to agreeing new Manchester United deal before going back on loan to Sheffield United. Manc'"
      ],
      "text/markdown": [
       "<span style=white-space:pre-wrap>'RT @red_cafe:  DAILY MAIL: Dean Henderson close to agreeing new Manchester United deal before going back on loan to Sheffield United. Manc'</span>"
      ],
      "text/plain": [
       "[1] \"RT @red_cafe:  DAILY MAIL: Dean Henderson close to agreeing new Manchester United deal before going back on loan to Sheffield United. Manc\""
      ]
     },
     "metadata": {},
     "output_type": "display_data"
    },
    {
     "data": {
      "text/html": [
       "<table>\n",
       "<thead><tr><th scope=col>anger</th><th scope=col>anticipation</th><th scope=col>disgust</th><th scope=col>fear</th><th scope=col>joy</th><th scope=col>sadness</th><th scope=col>surprise</th><th scope=col>trust</th><th scope=col>negative</th><th scope=col>positive</th></tr></thead>\n",
       "<tbody>\n",
       "\t<tr><td>0</td><td>3</td><td>0</td><td>0</td><td>1</td><td>0</td><td>1</td><td>3</td><td>0</td><td>4</td></tr>\n",
       "</tbody>\n",
       "</table>\n"
      ],
      "text/latex": [
       "\\begin{tabular}{r|llllllllll}\n",
       " anger & anticipation & disgust & fear & joy & sadness & surprise & trust & negative & positive\\\\\n",
       "\\hline\n",
       "\t 0 & 3 & 0 & 0 & 1 & 0 & 1 & 3 & 0 & 4\\\\\n",
       "\\end{tabular}\n"
      ],
      "text/markdown": [
       "\n",
       "| anger | anticipation | disgust | fear | joy | sadness | surprise | trust | negative | positive |\n",
       "|---|---|---|---|---|---|---|---|---|---|\n",
       "| 0 | 3 | 0 | 0 | 1 | 0 | 1 | 3 | 0 | 4 |\n",
       "\n"
      ],
      "text/plain": [
       "  anger anticipation disgust fear joy sadness surprise trust negative positive\n",
       "1 0     3            0       0    1   0       1        3     0        4       "
      ]
     },
     "metadata": {},
     "output_type": "display_data"
    },
    {
     "data": {
      "text/html": [
       "'RT @ManUtd: 6 goals, 6 seconds \\n\\nHere\\'s hoping for more #MUTOUR strikes tomorrow! \\n\\n#MUFC #ICC2019 https://t.co/zsx9jV3Ksq'"
      ],
      "text/latex": [
       "'RT @ManUtd: 6 goals, 6 seconds \\textbackslash{}n\\textbackslash{}nHere\\textbackslash{}'s hoping for more \\#MUTOUR strikes tomorrow! \\textbackslash{}n\\textbackslash{}n\\#MUFC \\#ICC2019 https://t.co/zsx9jV3Ksq'"
      ],
      "text/markdown": [
       "'RT @ManUtd: 6 goals, 6 seconds \\n\\nHere\\'s hoping for more #MUTOUR strikes tomorrow! \\n\\n#MUFC #ICC2019 https://t.co/zsx9jV3Ksq'"
      ],
      "text/plain": [
       "[1] \"RT @ManUtd: 6 goals, 6 seconds \\n\\nHere's hoping for more #MUTOUR strikes tomorrow! \\n\\n#MUFC #ICC2019 https://t.co/zsx9jV3Ksq\""
      ]
     },
     "metadata": {},
     "output_type": "display_data"
    },
    {
     "data": {
      "text/html": [
       "<table>\n",
       "<thead><tr><th scope=col>anger</th><th scope=col>anticipation</th><th scope=col>disgust</th><th scope=col>fear</th><th scope=col>joy</th><th scope=col>sadness</th><th scope=col>surprise</th><th scope=col>trust</th><th scope=col>negative</th><th scope=col>positive</th></tr></thead>\n",
       "<tbody>\n",
       "\t<tr><td>0</td><td>1</td><td>0</td><td>0</td><td>0</td><td>0</td><td>0</td><td>0</td><td>0</td><td>0</td></tr>\n",
       "</tbody>\n",
       "</table>\n"
      ],
      "text/latex": [
       "\\begin{tabular}{r|llllllllll}\n",
       " anger & anticipation & disgust & fear & joy & sadness & surprise & trust & negative & positive\\\\\n",
       "\\hline\n",
       "\t 0 & 1 & 0 & 0 & 0 & 0 & 0 & 0 & 0 & 0\\\\\n",
       "\\end{tabular}\n"
      ],
      "text/markdown": [
       "\n",
       "| anger | anticipation | disgust | fear | joy | sadness | surprise | trust | negative | positive |\n",
       "|---|---|---|---|---|---|---|---|---|---|\n",
       "| 0 | 1 | 0 | 0 | 0 | 0 | 0 | 0 | 0 | 0 |\n",
       "\n"
      ],
      "text/plain": [
       "  anger anticipation disgust fear joy sadness surprise trust negative positive\n",
       "1 0     1            0       0    0   0       0        0     0        0       "
      ]
     },
     "metadata": {},
     "output_type": "display_data"
    }
   ],
   "source": [
    "manu_tweets[101,\"text\"]\n",
    "\n",
    "get_nrc_sentiment(manu_tweets[101,\"text\"])\n",
    "\n",
    "icc_tweets[101,\"text\"]\n",
    "\n",
    "get_nrc_sentiment(icc_tweets[101,\"text\"])"
   ]
  },
  {
   "cell_type": "markdown",
   "metadata": {},
   "source": [
    "We see that the `get_nrc_sentiment` function managed to gather the overall negative gist of their tweet, particularly where there was anticipation.\n",
    "\n",
    "Let's proceed to get the sentiment analysis of every tweet, and then add the results of each column to see the overall sentiment."
   ]
  },
  {
   "cell_type": "code",
   "execution_count": 79,
   "metadata": {},
   "outputs": [
    {
     "data": {
      "text/html": [
       "<table>\n",
       "<thead><tr><th></th><th scope=col>colSums.manu_sentiments.</th></tr></thead>\n",
       "<tbody>\n",
       "\t<tr><th scope=row>anger</th><td> 591</td></tr>\n",
       "\t<tr><th scope=row>anticipation</th><td>1604</td></tr>\n",
       "\t<tr><th scope=row>disgust</th><td>  86</td></tr>\n",
       "\t<tr><th scope=row>fear</th><td> 657</td></tr>\n",
       "\t<tr><th scope=row>joy</th><td> 850</td></tr>\n",
       "\t<tr><th scope=row>sadness</th><td> 298</td></tr>\n",
       "\t<tr><th scope=row>surprise</th><td> 199</td></tr>\n",
       "\t<tr><th scope=row>trust</th><td>1433</td></tr>\n",
       "\t<tr><th scope=row>negative</th><td> 887</td></tr>\n",
       "\t<tr><th scope=row>positive</th><td>2116</td></tr>\n",
       "</tbody>\n",
       "</table>\n"
      ],
      "text/latex": [
       "\\begin{tabular}{r|l}\n",
       "  & colSums.manu\\_sentiments.\\\\\n",
       "\\hline\n",
       "\tanger &  591\\\\\n",
       "\tanticipation & 1604\\\\\n",
       "\tdisgust &   86\\\\\n",
       "\tfear &  657\\\\\n",
       "\tjoy &  850\\\\\n",
       "\tsadness &  298\\\\\n",
       "\tsurprise &  199\\\\\n",
       "\ttrust & 1433\\\\\n",
       "\tnegative &  887\\\\\n",
       "\tpositive & 2116\\\\\n",
       "\\end{tabular}\n"
      ],
      "text/markdown": [
       "\n",
       "| <!--/--> | colSums.manu_sentiments. |\n",
       "|---|---|\n",
       "| anger |  591 |\n",
       "| anticipation | 1604 |\n",
       "| disgust |   86 |\n",
       "| fear |  657 |\n",
       "| joy |  850 |\n",
       "| sadness |  298 |\n",
       "| surprise |  199 |\n",
       "| trust | 1433 |\n",
       "| negative |  887 |\n",
       "| positive | 2116 |\n",
       "\n"
      ],
      "text/plain": [
       "             colSums.manu_sentiments.\n",
       "anger         591                    \n",
       "anticipation 1604                    \n",
       "disgust        86                    \n",
       "fear          657                    \n",
       "joy           850                    \n",
       "sadness       298                    \n",
       "surprise      199                    \n",
       "trust        1433                    \n",
       "negative      887                    \n",
       "positive     2116                    "
      ]
     },
     "metadata": {},
     "output_type": "display_data"
    },
    {
     "data": {
      "text/html": [
       "<table>\n",
       "<thead><tr><th></th><th scope=col>colSums.icc_sentiments.</th></tr></thead>\n",
       "<tbody>\n",
       "\t<tr><th scope=row>anger</th><td>163</td></tr>\n",
       "\t<tr><th scope=row>anticipation</th><td>591</td></tr>\n",
       "\t<tr><th scope=row>disgust</th><td>127</td></tr>\n",
       "\t<tr><th scope=row>fear</th><td>207</td></tr>\n",
       "\t<tr><th scope=row>joy</th><td>356</td></tr>\n",
       "\t<tr><th scope=row>sadness</th><td>231</td></tr>\n",
       "\t<tr><th scope=row>surprise</th><td>233</td></tr>\n",
       "\t<tr><th scope=row>trust</th><td>546</td></tr>\n",
       "\t<tr><th scope=row>negative</th><td>283</td></tr>\n",
       "\t<tr><th scope=row>positive</th><td>602</td></tr>\n",
       "</tbody>\n",
       "</table>\n"
      ],
      "text/latex": [
       "\\begin{tabular}{r|l}\n",
       "  & colSums.icc\\_sentiments.\\\\\n",
       "\\hline\n",
       "\tanger & 163\\\\\n",
       "\tanticipation & 591\\\\\n",
       "\tdisgust & 127\\\\\n",
       "\tfear & 207\\\\\n",
       "\tjoy & 356\\\\\n",
       "\tsadness & 231\\\\\n",
       "\tsurprise & 233\\\\\n",
       "\ttrust & 546\\\\\n",
       "\tnegative & 283\\\\\n",
       "\tpositive & 602\\\\\n",
       "\\end{tabular}\n"
      ],
      "text/markdown": [
       "\n",
       "| <!--/--> | colSums.icc_sentiments. |\n",
       "|---|---|\n",
       "| anger | 163 |\n",
       "| anticipation | 591 |\n",
       "| disgust | 127 |\n",
       "| fear | 207 |\n",
       "| joy | 356 |\n",
       "| sadness | 231 |\n",
       "| surprise | 233 |\n",
       "| trust | 546 |\n",
       "| negative | 283 |\n",
       "| positive | 602 |\n",
       "\n"
      ],
      "text/plain": [
       "             colSums.icc_sentiments.\n",
       "anger        163                    \n",
       "anticipation 591                    \n",
       "disgust      127                    \n",
       "fear         207                    \n",
       "joy          356                    \n",
       "sadness      231                    \n",
       "surprise     233                    \n",
       "trust        546                    \n",
       "negative     283                    \n",
       "positive     602                    "
      ]
     },
     "metadata": {},
     "output_type": "display_data"
    }
   ],
   "source": [
    "manu_sentiments <- get_nrc_sentiment(manu_tweets$text)\n",
    "\n",
    "overall_manu_sentiment <- data.frame(colSums(manu_sentiments))\n",
    "\n",
    "overall_manu_sentiment\n",
    "\n",
    "\n",
    "icc_sentiments <- get_nrc_sentiment(icc_tweets$text)\n",
    "\n",
    "overall_icc_sentiment <- data.frame(colSums(icc_sentiments))\n",
    "\n",
    "overall_icc_sentiment"
   ]
  },
  {
   "cell_type": "markdown",
   "metadata": {},
   "source": [
    "Let's assign the table above different row and column names, then graphically represent it. RIght now the sentiments are listed as the row names, but we want them as column variables for out purposes."
   ]
  },
  {
   "cell_type": "code",
   "execution_count": 80,
   "metadata": {},
   "outputs": [
    {
     "data": {
      "text/html": [
       "<table>\n",
       "<thead><tr><th></th><th scope=col>sentiment</th><th scope=col>overall_emotion</th></tr></thead>\n",
       "<tbody>\n",
       "\t<tr><th scope=row>anger</th><td>anger       </td><td> 591        </td></tr>\n",
       "\t<tr><th scope=row>anticipation</th><td>anticipation</td><td>1604        </td></tr>\n",
       "\t<tr><th scope=row>disgust</th><td>disgust     </td><td>  86        </td></tr>\n",
       "\t<tr><th scope=row>fear</th><td>fear        </td><td> 657        </td></tr>\n",
       "\t<tr><th scope=row>joy</th><td>joy         </td><td> 850        </td></tr>\n",
       "\t<tr><th scope=row>sadness</th><td>sadness     </td><td> 298        </td></tr>\n",
       "\t<tr><th scope=row>surprise</th><td>surprise    </td><td> 199        </td></tr>\n",
       "\t<tr><th scope=row>trust</th><td>trust       </td><td>1433        </td></tr>\n",
       "\t<tr><th scope=row>negative</th><td>negative    </td><td> 887        </td></tr>\n",
       "\t<tr><th scope=row>positive</th><td>positive    </td><td>2116        </td></tr>\n",
       "</tbody>\n",
       "</table>\n"
      ],
      "text/latex": [
       "\\begin{tabular}{r|ll}\n",
       "  & sentiment & overall\\_emotion\\\\\n",
       "\\hline\n",
       "\tanger & anger        &  591        \\\\\n",
       "\tanticipation & anticipation & 1604        \\\\\n",
       "\tdisgust & disgust      &   86        \\\\\n",
       "\tfear & fear         &  657        \\\\\n",
       "\tjoy & joy          &  850        \\\\\n",
       "\tsadness & sadness      &  298        \\\\\n",
       "\tsurprise & surprise     &  199        \\\\\n",
       "\ttrust & trust        & 1433        \\\\\n",
       "\tnegative & negative     &  887        \\\\\n",
       "\tpositive & positive     & 2116        \\\\\n",
       "\\end{tabular}\n"
      ],
      "text/markdown": [
       "\n",
       "| <!--/--> | sentiment | overall_emotion |\n",
       "|---|---|---|\n",
       "| anger | anger        |  591         |\n",
       "| anticipation | anticipation | 1604         |\n",
       "| disgust | disgust      |   86         |\n",
       "| fear | fear         |  657         |\n",
       "| joy | joy          |  850         |\n",
       "| sadness | sadness      |  298         |\n",
       "| surprise | surprise     |  199         |\n",
       "| trust | trust        | 1433         |\n",
       "| negative | negative     |  887         |\n",
       "| positive | positive     | 2116         |\n",
       "\n"
      ],
      "text/plain": [
       "             sentiment    overall_emotion\n",
       "anger        anger         591           \n",
       "anticipation anticipation 1604           \n",
       "disgust      disgust        86           \n",
       "fear         fear          657           \n",
       "joy          joy           850           \n",
       "sadness      sadness       298           \n",
       "surprise     surprise      199           \n",
       "trust        trust        1433           \n",
       "negative     negative      887           \n",
       "positive     positive     2116           "
      ]
     },
     "metadata": {},
     "output_type": "display_data"
    },
    {
     "data": {
      "text/html": [
       "<table>\n",
       "<thead><tr><th></th><th scope=col>sentiment</th><th scope=col>overall_emotion</th></tr></thead>\n",
       "<tbody>\n",
       "\t<tr><th scope=row>anger</th><td>anger       </td><td>163         </td></tr>\n",
       "\t<tr><th scope=row>anticipation</th><td>anticipation</td><td>591         </td></tr>\n",
       "\t<tr><th scope=row>disgust</th><td>disgust     </td><td>127         </td></tr>\n",
       "\t<tr><th scope=row>fear</th><td>fear        </td><td>207         </td></tr>\n",
       "\t<tr><th scope=row>joy</th><td>joy         </td><td>356         </td></tr>\n",
       "\t<tr><th scope=row>sadness</th><td>sadness     </td><td>231         </td></tr>\n",
       "\t<tr><th scope=row>surprise</th><td>surprise    </td><td>233         </td></tr>\n",
       "\t<tr><th scope=row>trust</th><td>trust       </td><td>546         </td></tr>\n",
       "\t<tr><th scope=row>negative</th><td>negative    </td><td>283         </td></tr>\n",
       "\t<tr><th scope=row>positive</th><td>positive    </td><td>602         </td></tr>\n",
       "</tbody>\n",
       "</table>\n"
      ],
      "text/latex": [
       "\\begin{tabular}{r|ll}\n",
       "  & sentiment & overall\\_emotion\\\\\n",
       "\\hline\n",
       "\tanger & anger        & 163         \\\\\n",
       "\tanticipation & anticipation & 591         \\\\\n",
       "\tdisgust & disgust      & 127         \\\\\n",
       "\tfear & fear         & 207         \\\\\n",
       "\tjoy & joy          & 356         \\\\\n",
       "\tsadness & sadness      & 231         \\\\\n",
       "\tsurprise & surprise     & 233         \\\\\n",
       "\ttrust & trust        & 546         \\\\\n",
       "\tnegative & negative     & 283         \\\\\n",
       "\tpositive & positive     & 602         \\\\\n",
       "\\end{tabular}\n"
      ],
      "text/markdown": [
       "\n",
       "| <!--/--> | sentiment | overall_emotion |\n",
       "|---|---|---|\n",
       "| anger | anger        | 163          |\n",
       "| anticipation | anticipation | 591          |\n",
       "| disgust | disgust      | 127          |\n",
       "| fear | fear         | 207          |\n",
       "| joy | joy          | 356          |\n",
       "| sadness | sadness      | 231          |\n",
       "| surprise | surprise     | 233          |\n",
       "| trust | trust        | 546          |\n",
       "| negative | negative     | 283          |\n",
       "| positive | positive     | 602          |\n",
       "\n"
      ],
      "text/plain": [
       "             sentiment    overall_emotion\n",
       "anger        anger        163            \n",
       "anticipation anticipation 591            \n",
       "disgust      disgust      127            \n",
       "fear         fear         207            \n",
       "joy          joy          356            \n",
       "sadness      sadness      231            \n",
       "surprise     surprise     233            \n",
       "trust        trust        546            \n",
       "negative     negative     283            \n",
       "positive     positive     602            "
      ]
     },
     "metadata": {},
     "output_type": "display_data"
    }
   ],
   "source": [
    "colnames(overall_manu_sentiment) <- \"overall_emotion\"\n",
    "\n",
    "overall_manu_sentiment <- cbind(\"sentiment\" = rownames(overall_manu_sentiment), overall_manu_sentiment)\n",
    "\n",
    "overall_manu_sentiment\n",
    "\n",
    "\n",
    "\n",
    "colnames(overall_icc_sentiment) <- \"overall_emotion\"\n",
    "\n",
    "overall_icc_sentiment <- cbind(\"sentiment\" = rownames(overall_icc_sentiment), overall_icc_sentiment)\n",
    "\n",
    "overall_icc_sentiment"
   ]
  },
  {
   "cell_type": "markdown",
   "metadata": {},
   "source": [
    "Let's also re-order the emotions in the following order:\n",
    "\n",
    "`\"joy\", \"anticipation\", \"trust\", \"surprise\", \"disgust\", \"fear\", \"anger\", \"sadness\", \"negative\", \"positive\"`"
   ]
  },
  {
   "cell_type": "code",
   "execution_count": 82,
   "metadata": {},
   "outputs": [],
   "source": [
    "overall_manu_sentiment <- overall_manu_sentiment %>%\n",
    "  mutate(sentiment = factor(sentiment, levels = c(\"positive\", \"joy\", \"anticipation\", \"trust\", \"surprise\", \"disgust\", \"fear\", \"anger\", \"sadness\", \"negative\")))\n",
    "  \n",
    "overall_icc_sentiment <- overall_icc_sentiment %>%\n",
    "  mutate(sentiment = factor(sentiment, levels = c(\"positive\", \"joy\", \"anticipation\", \"trust\", \"surprise\", \"disgust\", \"fear\", \"anger\", \"sadness\", \"negative\")))\n",
    "  "
   ]
  },
  {
   "cell_type": "code",
   "execution_count": 83,
   "metadata": {},
   "outputs": [
    {
     "data": {
      "image/png": "[encoded data removed]",
      "text/plain": [
       "plot without title"
      ]
     },
     "metadata": {},
     "output_type": "display_data"
    }
   ],
   "source": [
    "manu_sentiment_graph <- ggplot(data = overall_manu_sentiment, aes(x = sentiment, y = overall_emotion)) +\n",
    "  geom_bar(aes(fill = sentiment, alpha = 0.8), stat = \"identity\") +\n",
    "  labs(x=\"\", y=\"Overall Sentiment Score\", title = \"Aggregated Sentiment Score for all #ManUTD Tweets\") +\n",
    "  theme(legend.position = \"none\", panel.background=element_rect(fill='white')) + \n",
    "  geom_text(aes(sentiment, overall_emotion + 35, label = overall_emotion , fill = NULL))\n",
    "  \n",
    "  \n",
    "manu_sentiment_graph"
   ]
  },
  {
   "cell_type": "code",
   "execution_count": 88,
   "metadata": {},
   "outputs": [
    {
     "data": {
      "image/png": "[encoded data removed]",
      "text/plain": [
       "plot without title"
      ]
     },
     "metadata": {},
     "output_type": "display_data"
    }
   ],
   "source": [
    "icc_sentiment_graph <- ggplot(data = overall_icc_sentiment, aes(x = sentiment, y = overall_emotion)) +\n",
    "  geom_bar(aes(fill = sentiment, alpha = 0.8), stat = \"identity\") +\n",
    "  labs(x=\"\", y=\"Overall Sentiment Score\", title = \"Aggregated Sentiment Score for all #ICC2019 Tweets\") +\n",
    "  theme(legend.position = \"none\", panel.background=element_rect(fill='white')) + \n",
    "  geom_text(aes(sentiment, overall_emotion + 10, label = overall_emotion , fill = NULL))\n",
    "  \n",
    "  \n",
    "icc_sentiment_graph"
   ]
  },
  {
   "cell_type": "markdown",
   "metadata": {},
   "source": [
    "Both graphs follow very similar trends, with positively associated emotions - particularly `joy` and `anticipation`, scoring very highly."
   ]
  },
  {
   "cell_type": "markdown",
   "metadata": {},
   "source": [
    "## Naieve Bayes Predictive Modelling\n",
    "\n",
    "### Adding Column to measure Overall Sentiment\n",
    "\n",
    "Let's add 3 columns to the `manu_tweets` and `icc_tweets` dataframes. We want a column for:\n",
    "1. positive sentiment score, \n",
    "2. negative sentiment score,\n",
    "3. for which sentiment (i.e. positive or negative) is greater.\n",
    "\n",
    "This essentially assigns an overall sentiment, i.e. positive or negative, to each tweet.\n",
    "\n",
    "We'll start by adding the first two columns for only positive and negative sentiment scores:"
   ]
  },
  {
   "cell_type": "code",
   "execution_count": 110,
   "metadata": {},
   "outputs": [
    {
     "data": {
      "text/html": [
       "<table>\n",
       "<thead><tr><th scope=col>text</th><th scope=col>favorited</th><th scope=col>favoriteCount</th><th scope=col>replyToSN</th><th scope=col>created</th><th scope=col>truncated</th><th scope=col>replyToSID</th><th scope=col>id</th><th scope=col>replyToUID</th><th scope=col>statusSource</th><th scope=col>screenName</th><th scope=col>retweetCount</th><th scope=col>isRetweet</th><th scope=col>retweeted</th><th scope=col>longitude</th><th scope=col>latitude</th><th scope=col>statusSource_clean</th><th scope=col>positive</th><th scope=col>negative</th></tr></thead>\n",
       "<tbody>\n",
       "\t<tr><td>A clear choice! \n",
       "\n",
       "Reports suggest @paulpogba has his heart set on a @realmadrid move for one key reason. \n",
       "\n",
       "#Pogba https://t.co/KGioo2e93M</td><td>FALSE                                                                                                                                        </td><td>0                                                                                                                                            </td><td>NA                                                                                                                                           </td><td>2019-07-20 02:59:44                                                                                                                          </td><td> TRUE                                                                                                                                        </td><td>NA                                                                                                                                           </td><td>1152412747155431424                                                                                                                          </td><td>NA                                                                                                                                           </td><td>&lt;a href=\"https://about.twitter.com/products/tweetdeck\" rel=\"nofollow\"&gt;TweetDeck&lt;/a&gt;                                              </td><td>FOXSportsAsia                                                                                                                                </td><td>0                                                                                                                                            </td><td>FALSE                                                                                                                                        </td><td>FALSE                                                                                                                                        </td><td>NA                                                                                                                                           </td><td>NA                                                                                                                                           </td><td><span style=white-space:pre-wrap>TweetDeck         </span>                                                                                   </td><td>2                                                                                                                                            </td><td>0                                                                                                                                            </td></tr>\n",
       "\t<tr><td><span style=white-space:pre-wrap>What #Manchester United want from Fred this season\n",
       "#ManUtd  #Premier_League \n",
       "Pls RT\n",
       "https://t.co/TgNfVy0vYO                               </span></td><td>FALSE                                                                                                                                                                                </td><td>0                                                                                                                                                                                    </td><td>NA                                                                                                                                                                                   </td><td>2019-07-20 02:58:41                                                                                                                                                                  </td><td>FALSE                                                                                                                                                                                </td><td>NA                                                                                                                                                                                   </td><td>1152412481475796994                                                                                                                                                                  </td><td>NA                                                                                                                                                                                   </td><td><span style=white-space:pre-wrap>&lt;a href=\"https://footy90.com\" rel=\"nofollow\"&gt;footy90.com - News&lt;/a&gt;                </span>                                              </td><td><span style=white-space:pre-wrap>footy90com   </span>                                                                                                                                </td><td>0                                                                                                                                                                                    </td><td>FALSE                                                                                                                                                                                </td><td>FALSE                                                                                                                                                                                </td><td>NA                                                                                                                                                                                   </td><td>NA                                                                                                                                                                                   </td><td>footy90.com - News                                                                                                                                                                   </td><td>3                                                                                                                                                                                    </td><td>0                                                                                                                                                                                    </td></tr>\n",
       "\t<tr><td><span style=white-space:pre-wrap>Betting Odds #football #ChampionsLeague\n",
       "#EuropaLeague #LeedsUnited #ManUtd #freebets\n",
       "#Betfair #Bet365 #Golf\n",
       "100 https://t.co/WmtIPcfdDn   </span></td><td>FALSE                                                                                                                                                                                </td><td>0                                                                                                                                                                                    </td><td>NA                                                                                                                                                                                   </td><td>2019-07-20 02:42:05                                                                                                                                                                  </td><td> TRUE                                                                                                                                                                                </td><td>NA                                                                                                                                                                                   </td><td>1152408304368439296                                                                                                                                                                  </td><td>NA                                                                                                                                                                                   </td><td><span style=white-space:pre-wrap>&lt;a href=\"https://postcron.com\" rel=\"nofollow\"&gt;Postcron App&lt;/a&gt;                     </span>                                              </td><td>SuperLeague77                                                                                                                                                                        </td><td>0                                                                                                                                                                                    </td><td>FALSE                                                                                                                                                                                </td><td>FALSE                                                                                                                                                                                </td><td>NA                                                                                                                                                                                   </td><td>NA                                                                                                                                                                                   </td><td><span style=white-space:pre-wrap>Postcron App      </span>                                                                                                                           </td><td>1                                                                                                                                                                                    </td><td>0                                                                                                                                                                                    </td></tr>\n",
       "</tbody>\n",
       "</table>\n"
      ],
      "text/latex": [
       "\\begin{tabular}{r|lllllllllllllllllll}\n",
       " text & favorited & favoriteCount & replyToSN & created & truncated & replyToSID & id & replyToUID & statusSource & screenName & retweetCount & isRetweet & retweeted & longitude & latitude & statusSource\\_clean & positive & negative\\\\\n",
       "\\hline\n",
       "\t A clear choice! \n",
       "\n",
       "Reports suggest @paulpogba has his heart set on a @realmadrid move for one key reason. \n",
       "\n",
       "\\#Pogba https://t.co/KGioo2e93M & FALSE                                                                                                                                           & 0                                                                                                                                               & NA                                                                                                                                              & 2019-07-20 02:59:44                                                                                                                             &  TRUE                                                                                                                                           & NA                                                                                                                                              & 1152412747155431424                                                                                                                             & NA                                                                                                                                              & <a href=\"https://about.twitter.com/products/tweetdeck\" rel=\"nofollow\">TweetDeck</a>                                                             & FOXSportsAsia                                                                                                                                   & 0                                                                                                                                               & FALSE                                                                                                                                           & FALSE                                                                                                                                           & NA                                                                                                                                              & NA                                                                                                                                              & TweetDeck                                                                                                                                       & 2                                                                                                                                               & 0                                                                                                                                              \\\\\n",
       "\t What \\#Manchester United want from Fred this season\n",
       "\\#ManUtd  \\#Premier\\_League \n",
       "Pls RT\n",
       "https://t.co/TgNfVy0vYO                                & FALSE                                                                                                                                                 & 0                                                                                                                                                     & NA                                                                                                                                                    & 2019-07-20 02:58:41                                                                                                                                   & FALSE                                                                                                                                                 & NA                                                                                                                                                    & 1152412481475796994                                                                                                                                   & NA                                                                                                                                                    & <a href=\"https://footy90.com\" rel=\"nofollow\">footy90.com - News</a>                                                                                   & footy90com                                                                                                                                            & 0                                                                                                                                                     & FALSE                                                                                                                                                 & FALSE                                                                                                                                                 & NA                                                                                                                                                    & NA                                                                                                                                                    & footy90.com - News                                                                                                                                    & 3                                                                                                                                                     & 0                                                                                                                                                    \\\\\n",
       "\t Betting Odds \\#football \\#ChampionsLeague\n",
       "\\#EuropaLeague \\#LeedsUnited \\#ManUtd \\#freebets\n",
       "\\#Betfair \\#Bet365 \\#Golf\n",
       "100 https://t.co/WmtIPcfdDn    & FALSE                                                                                                                                                           & 0                                                                                                                                                               & NA                                                                                                                                                              & 2019-07-20 02:42:05                                                                                                                                             &  TRUE                                                                                                                                                           & NA                                                                                                                                                              & 1152408304368439296                                                                                                                                             & NA                                                                                                                                                              & <a href=\"https://postcron.com\" rel=\"nofollow\">Postcron App</a>                                                                                                  & SuperLeague77                                                                                                                                                   & 0                                                                                                                                                               & FALSE                                                                                                                                                           & FALSE                                                                                                                                                           & NA                                                                                                                                                              & NA                                                                                                                                                              & Postcron App                                                                                                                                                    & 1                                                                                                                                                               & 0                                                                                                                                                              \\\\\n",
       "\\end{tabular}\n"
      ],
      "text/markdown": [
       "\n",
       "| text | favorited | favoriteCount | replyToSN | created | truncated | replyToSID | id | replyToUID | statusSource | screenName | retweetCount | isRetweet | retweeted | longitude | latitude | statusSource_clean | positive | negative |\n",
       "|---|---|---|---|---|---|---|---|---|---|---|---|---|---|---|---|---|---|---|\n",
       "| A clear choice! \n",
       "\n",
       "Reports suggest @paulpogba has his heart set on a @realmadrid move for one key reason. \n",
       "\n",
       "#Pogba https://t.co/KGioo2e93M | FALSE                                                                                                                                         | 0                                                                                                                                             | NA                                                                                                                                            | 2019-07-20 02:59:44                                                                                                                           |  TRUE                                                                                                                                         | NA                                                                                                                                            | 1152412747155431424                                                                                                                           | NA                                                                                                                                            | <a href=\"https://about.twitter.com/products/tweetdeck\" rel=\"nofollow\">TweetDeck</a>                                                           | FOXSportsAsia                                                                                                                                 | 0                                                                                                                                             | FALSE                                                                                                                                         | FALSE                                                                                                                                         | NA                                                                                                                                            | NA                                                                                                                                            | TweetDeck                                                                                                                                     | 2                                                                                                                                             | 0                                                                                                                                             |\n",
       "| What #Manchester United want from Fred this season\n",
       "#ManUtd  #Premier_League \n",
       "Pls RT\n",
       "https://t.co/TgNfVy0vYO                                | FALSE                                                                                                                                         | 0                                                                                                                                             | NA                                                                                                                                            | 2019-07-20 02:58:41                                                                                                                           | FALSE                                                                                                                                         | NA                                                                                                                                            | 1152412481475796994                                                                                                                           | NA                                                                                                                                            | <a href=\"https://footy90.com\" rel=\"nofollow\">footy90.com - News</a>                                                                           | footy90com                                                                                                                                    | 0                                                                                                                                             | FALSE                                                                                                                                         | FALSE                                                                                                                                         | NA                                                                                                                                            | NA                                                                                                                                            | footy90.com - News                                                                                                                            | 3                                                                                                                                             | 0                                                                                                                                             |\n",
       "| Betting Odds #football #ChampionsLeague\n",
       "#EuropaLeague #LeedsUnited #ManUtd #freebets\n",
       "#Betfair #Bet365 #Golf\n",
       "100 https://t.co/WmtIPcfdDn    | FALSE                                                                                                                                         | 0                                                                                                                                             | NA                                                                                                                                            | 2019-07-20 02:42:05                                                                                                                           |  TRUE                                                                                                                                         | NA                                                                                                                                            | 1152408304368439296                                                                                                                           | NA                                                                                                                                            | <a href=\"https://postcron.com\" rel=\"nofollow\">Postcron App</a>                                                                                | SuperLeague77                                                                                                                                 | 0                                                                                                                                             | FALSE                                                                                                                                         | FALSE                                                                                                                                         | NA                                                                                                                                            | NA                                                                                                                                            | Postcron App                                                                                                                                  | 1                                                                                                                                             | 0                                                                                                                                             |\n",
       "\n"
      ],
      "text/plain": [
       "  text                                                                                                                                         \n",
       "1 A clear choice! \\n\\nReports suggest @paulpogba has his heart set on a @realmadrid move for one key reason. \\n\\n#Pogba https://t.co/KGioo2e93M\n",
       "2 What #Manchester United want from Fred this season\\n#ManUtd  #Premier_League \\nPls RT\\nhttps://t.co/TgNfVy0vYO                               \n",
       "3 Betting Odds #football #ChampionsLeague\\n#EuropaLeague #LeedsUnited #ManUtd #freebets\\n#Betfair #Bet365 #Golf\\n100 https://t.co/WmtIPcfdDn   \n",
       "  favorited favoriteCount replyToSN created             truncated replyToSID\n",
       "1 FALSE     0             NA        2019-07-20 02:59:44  TRUE     NA        \n",
       "2 FALSE     0             NA        2019-07-20 02:58:41 FALSE     NA        \n",
       "3 FALSE     0             NA        2019-07-20 02:42:05  TRUE     NA        \n",
       "  id                  replyToUID\n",
       "1 1152412747155431424 NA        \n",
       "2 1152412481475796994 NA        \n",
       "3 1152408304368439296 NA        \n",
       "  statusSource                                                                       \n",
       "1 <a href=\"https://about.twitter.com/products/tweetdeck\" rel=\"nofollow\">TweetDeck</a>\n",
       "2 <a href=\"https://footy90.com\" rel=\"nofollow\">footy90.com - News</a>                \n",
       "3 <a href=\"https://postcron.com\" rel=\"nofollow\">Postcron App</a>                     \n",
       "  screenName    retweetCount isRetweet retweeted longitude latitude\n",
       "1 FOXSportsAsia 0            FALSE     FALSE     NA        NA      \n",
       "2 footy90com    0            FALSE     FALSE     NA        NA      \n",
       "3 SuperLeague77 0            FALSE     FALSE     NA        NA      \n",
       "  statusSource_clean positive negative\n",
       "1 TweetDeck          2        0       \n",
       "2 footy90.com - News 3        0       \n",
       "3 Postcron App       1        0       "
      ]
     },
     "metadata": {},
     "output_type": "display_data"
    },
    {
     "data": {
      "text/html": [
       "<table>\n",
       "<thead><tr><th scope=col>text</th><th scope=col>favorited</th><th scope=col>favoriteCount</th><th scope=col>replyToSN</th><th scope=col>created</th><th scope=col>truncated</th><th scope=col>replyToSID</th><th scope=col>id</th><th scope=col>replyToUID</th><th scope=col>statusSource</th><th scope=col>screenName</th><th scope=col>retweetCount</th><th scope=col>isRetweet</th><th scope=col>retweeted</th><th scope=col>longitude</th><th scope=col>latitude</th><th scope=col>statusSource_clean</th><th scope=col>positive</th><th scope=col>negative</th></tr></thead>\n",
       "<tbody>\n",
       "\t<tr><td><span style=white-space:pre-wrap>RT @SGSportsHub: Coooooool shot, @ManUtd  Welcome to #sgsportshub! \n",
       "\n",
       "#ICCSG #ICC2019 https://t.co/78DbPWAqkA </span></td><td>FALSE                                                                                                                                                  </td><td>0                                                                                                                                                      </td><td>NA                                                                                                                                                     </td><td>2019-07-20 03:03:04                                                                                                                                    </td><td>FALSE                                                                                                                                                  </td><td>NA                                                                                                                                                     </td><td>1152413586167193601                                                                                                                                    </td><td>NA                                                                                                                                                     </td><td>&lt;a href=\"http://twitter.com/download/iphone\" rel=\"nofollow\"&gt;Twitter for iPhone&lt;/a&gt;                                                         </td><td>PremLovesMusic                                                                                                                                         </td><td><span style=white-space:pre-wrap>  1</span>                                                                                                            </td><td> TRUE                                                                                                                                                  </td><td>FALSE                                                                                                                                                  </td><td>NA                                                                                                                                                     </td><td>NA                                                                                                                                                     </td><td>Twitter for iPhone                                                                                                                                     </td><td>0                                                                                                                                                      </td><td>1                                                                                                                                                      </td></tr>\n",
       "\t<tr><td><span style=white-space:pre-wrap>RT @SpursOfficial: \"You trying to show off your muscles?\" \n",
       " \n",
       "#SpursTour2019  #ICC2019 https://t.co/vJn0ddNH85</span></td><td>FALSE                                                                                                                                                  </td><td>0                                                                                                                                                      </td><td>NA                                                                                                                                                     </td><td>2019-07-20 03:02:59                                                                                                                                    </td><td>FALSE                                                                                                                                                  </td><td>NA                                                                                                                                                     </td><td>1152413566298759169                                                                                                                                    </td><td>NA                                                                                                                                                     </td><td>&lt;a href=\"http://twitter.com/download/iphone\" rel=\"nofollow\"&gt;Twitter for iPhone&lt;/a&gt;                                                         </td><td><span style=white-space:pre-wrap>mzs_mn_11     </span>                                                                                                 </td><td>204                                                                                                                                                    </td><td> TRUE                                                                                                                                                  </td><td>FALSE                                                                                                                                                  </td><td>NA                                                                                                                                                     </td><td>NA                                                                                                                                                     </td><td>Twitter for iPhone                                                                                                                                     </td><td>0                                                                                                                                                      </td><td>0                                                                                                                                                      </td></tr>\n",
       "\t<tr><td><span style=white-space:pre-wrap>Coooooool shot, @ManUtd  Welcome to #sgsportshub! \n",
       "\n",
       "#ICCSG #ICC2019 https://t.co/78DbPWAqkA                  </span></td><td>FALSE                                                                                                                                                  </td><td>0                                                                                                                                                      </td><td>NA                                                                                                                                                     </td><td>2019-07-20 03:02:54                                                                                                                                    </td><td>FALSE                                                                                                                                                  </td><td>NA                                                                                                                                                     </td><td>1152413544194822144                                                                                                                                    </td><td>NA                                                                                                                                                     </td><td>&lt;a href=\"http://twitter.com/download/iphone\" rel=\"nofollow\"&gt;Twitter for iPhone&lt;/a&gt;                                                         </td><td><span style=white-space:pre-wrap>SGSportsHub   </span>                                                                                                 </td><td><span style=white-space:pre-wrap>  1</span>                                                                                                            </td><td>FALSE                                                                                                                                                  </td><td>FALSE                                                                                                                                                  </td><td>NA                                                                                                                                                     </td><td>NA                                                                                                                                                     </td><td>Twitter for iPhone                                                                                                                                     </td><td>0                                                                                                                                                      </td><td>1                                                                                                                                                      </td></tr>\n",
       "</tbody>\n",
       "</table>\n"
      ],
      "text/latex": [
       "\\begin{tabular}{r|lllllllllllllllllll}\n",
       " text & favorited & favoriteCount & replyToSN & created & truncated & replyToSID & id & replyToUID & statusSource & screenName & retweetCount & isRetweet & retweeted & longitude & latitude & statusSource\\_clean & positive & negative\\\\\n",
       "\\hline\n",
       "\t RT @SGSportsHub: Coooooool shot, @ManUtd  Welcome to \\#sgsportshub! \n",
       "\n",
       "\\#ICCSG \\#ICC2019 https://t.co/78DbPWAqkA  & FALSE                                                                                                                 & 0                                                                                                                     & NA                                                                                                                    & 2019-07-20 03:03:04                                                                                                   & FALSE                                                                                                                 & NA                                                                                                                    & 1152413586167193601                                                                                                   & NA                                                                                                                    & <a href=\"http://twitter.com/download/iphone\" rel=\"nofollow\">Twitter for iPhone</a>                                    & PremLovesMusic                                                                                                        &   1                                                                                                                   &  TRUE                                                                                                                 & FALSE                                                                                                                 & NA                                                                                                                    & NA                                                                                                                    & Twitter for iPhone                                                                                                    & 0                                                                                                                     & 1                                                                                                                    \\\\\n",
       "\t RT @SpursOfficial: \"You trying to show off your muscles?\" \n",
       " \n",
       "\\#SpursTour2019  \\#ICC2019 https://t.co/vJn0ddNH85 & FALSE                                                                                                               & 0                                                                                                                   & NA                                                                                                                  & 2019-07-20 03:02:59                                                                                                 & FALSE                                                                                                               & NA                                                                                                                  & 1152413566298759169                                                                                                 & NA                                                                                                                  & <a href=\"http://twitter.com/download/iphone\" rel=\"nofollow\">Twitter for iPhone</a>                                  & mzs\\_mn\\_11                                                                                                       & 204                                                                                                                 &  TRUE                                                                                                               & FALSE                                                                                                               & NA                                                                                                                  & NA                                                                                                                  & Twitter for iPhone                                                                                                  & 0                                                                                                                   & 0                                                                                                                  \\\\\n",
       "\t Coooooool shot, @ManUtd  Welcome to \\#sgsportshub! \n",
       "\n",
       "\\#ICCSG \\#ICC2019 https://t.co/78DbPWAqkA                   & FALSE                                                                                                                 & 0                                                                                                                     & NA                                                                                                                    & 2019-07-20 03:02:54                                                                                                   & FALSE                                                                                                                 & NA                                                                                                                    & 1152413544194822144                                                                                                   & NA                                                                                                                    & <a href=\"http://twitter.com/download/iphone\" rel=\"nofollow\">Twitter for iPhone</a>                                    & SGSportsHub                                                                                                           &   1                                                                                                                   & FALSE                                                                                                                 & FALSE                                                                                                                 & NA                                                                                                                    & NA                                                                                                                    & Twitter for iPhone                                                                                                    & 0                                                                                                                     & 1                                                                                                                    \\\\\n",
       "\\end{tabular}\n"
      ],
      "text/markdown": [
       "\n",
       "| text | favorited | favoriteCount | replyToSN | created | truncated | replyToSID | id | replyToUID | statusSource | screenName | retweetCount | isRetweet | retweeted | longitude | latitude | statusSource_clean | positive | negative |\n",
       "|---|---|---|---|---|---|---|---|---|---|---|---|---|---|---|---|---|---|---|\n",
       "| RT @SGSportsHub: Coooooool shot, @ManUtd  Welcome to #sgsportshub! \n",
       "\n",
       "#ICCSG #ICC2019 https://t.co/78DbPWAqkA  | FALSE                                                                                                           | 0                                                                                                               | NA                                                                                                              | 2019-07-20 03:03:04                                                                                             | FALSE                                                                                                           | NA                                                                                                              | 1152413586167193601                                                                                             | NA                                                                                                              | <a href=\"http://twitter.com/download/iphone\" rel=\"nofollow\">Twitter for iPhone</a>                              | PremLovesMusic                                                                                                  |   1                                                                                                             |  TRUE                                                                                                           | FALSE                                                                                                           | NA                                                                                                              | NA                                                                                                              | Twitter for iPhone                                                                                              | 0                                                                                                               | 1                                                                                                               |\n",
       "| RT @SpursOfficial: \"You trying to show off your muscles?\" \n",
       " \n",
       "#SpursTour2019  #ICC2019 https://t.co/vJn0ddNH85 | FALSE                                                                                                           | 0                                                                                                               | NA                                                                                                              | 2019-07-20 03:02:59                                                                                             | FALSE                                                                                                           | NA                                                                                                              | 1152413566298759169                                                                                             | NA                                                                                                              | <a href=\"http://twitter.com/download/iphone\" rel=\"nofollow\">Twitter for iPhone</a>                              | mzs_mn_11                                                                                                       | 204                                                                                                             |  TRUE                                                                                                           | FALSE                                                                                                           | NA                                                                                                              | NA                                                                                                              | Twitter for iPhone                                                                                              | 0                                                                                                               | 0                                                                                                               |\n",
       "| Coooooool shot, @ManUtd  Welcome to #sgsportshub! \n",
       "\n",
       "#ICCSG #ICC2019 https://t.co/78DbPWAqkA                   | FALSE                                                                                                           | 0                                                                                                               | NA                                                                                                              | 2019-07-20 03:02:54                                                                                             | FALSE                                                                                                           | NA                                                                                                              | 1152413544194822144                                                                                             | NA                                                                                                              | <a href=\"http://twitter.com/download/iphone\" rel=\"nofollow\">Twitter for iPhone</a>                              | SGSportsHub                                                                                                     |   1                                                                                                             | FALSE                                                                                                           | FALSE                                                                                                           | NA                                                                                                              | NA                                                                                                              | Twitter for iPhone                                                                                              | 0                                                                                                               | 1                                                                                                               |\n",
       "\n"
      ],
      "text/plain": [
       "  text                                                                                                           \n",
       "1 RT @SGSportsHub: Coooooool shot, @ManUtd  Welcome to #sgsportshub! \\n\\n#ICCSG #ICC2019 https://t.co/78DbPWAqkA \n",
       "2 RT @SpursOfficial: \"You trying to show off your muscles?\" \\n \\n#SpursTour2019  #ICC2019 https://t.co/vJn0ddNH85\n",
       "3 Coooooool shot, @ManUtd  Welcome to #sgsportshub! \\n\\n#ICCSG #ICC2019 https://t.co/78DbPWAqkA                  \n",
       "  favorited favoriteCount replyToSN created             truncated replyToSID\n",
       "1 FALSE     0             NA        2019-07-20 03:03:04 FALSE     NA        \n",
       "2 FALSE     0             NA        2019-07-20 03:02:59 FALSE     NA        \n",
       "3 FALSE     0             NA        2019-07-20 03:02:54 FALSE     NA        \n",
       "  id                  replyToUID\n",
       "1 1152413586167193601 NA        \n",
       "2 1152413566298759169 NA        \n",
       "3 1152413544194822144 NA        \n",
       "  statusSource                                                                      \n",
       "1 <a href=\"http://twitter.com/download/iphone\" rel=\"nofollow\">Twitter for iPhone</a>\n",
       "2 <a href=\"http://twitter.com/download/iphone\" rel=\"nofollow\">Twitter for iPhone</a>\n",
       "3 <a href=\"http://twitter.com/download/iphone\" rel=\"nofollow\">Twitter for iPhone</a>\n",
       "  screenName     retweetCount isRetweet retweeted longitude latitude\n",
       "1 PremLovesMusic   1           TRUE     FALSE     NA        NA      \n",
       "2 mzs_mn_11      204           TRUE     FALSE     NA        NA      \n",
       "3 SGSportsHub      1          FALSE     FALSE     NA        NA      \n",
       "  statusSource_clean positive negative\n",
       "1 Twitter for iPhone 0        1       \n",
       "2 Twitter for iPhone 0        0       \n",
       "3 Twitter for iPhone 0        1       "
      ]
     },
     "metadata": {},
     "output_type": "display_data"
    }
   ],
   "source": [
    "manu_tweets$positive <- manu_sentiments$positive\n",
    "manu_tweets$negative <- manu_sentiments$negative\n",
    "\n",
    "icc_tweets$positive <- icc_sentiments$positive\n",
    "icc_tweets$negative <- icc_sentiments$negative\n",
    "\n",
    "head(manu_tweets, 3)\n",
    "head(icc_tweets, 3)"
   ]
  },
  {
   "cell_type": "markdown",
   "metadata": {},
   "source": [
    "Now, we add the 3rd column for overall sentiment.\n",
    "\n",
    "If the negative score is more than the positive score, the tweet is `negative`. Otherwise, the tweet is `positive`. \n",
    "\n",
    "Tweets with an equal positive and negative sentiment are assigned to positive, because of the overall dominance of positive sentiments."
   ]
  },
  {
   "cell_type": "code",
   "execution_count": 116,
   "metadata": {},
   "outputs": [
    {
     "data": {
      "text/html": [
       "<table>\n",
       "<thead><tr><th scope=col>text</th><th scope=col>favorited</th><th scope=col>favoriteCount</th><th scope=col>replyToSN</th><th scope=col>created</th><th scope=col>truncated</th><th scope=col>replyToSID</th><th scope=col>id</th><th scope=col>replyToUID</th><th scope=col>statusSource</th><th scope=col>screenName</th><th scope=col>retweetCount</th><th scope=col>isRetweet</th><th scope=col>retweeted</th><th scope=col>longitude</th><th scope=col>latitude</th><th scope=col>statusSource_clean</th><th scope=col>positive</th><th scope=col>negative</th><th scope=col>sentiment</th></tr></thead>\n",
       "<tbody>\n",
       "\t<tr><td>A clear choice! \n",
       "\n",
       "Reports suggest @paulpogba has his heart set on a @realmadrid move for one key reason. \n",
       "\n",
       "#Pogba https://t.co/KGioo2e93M</td><td>FALSE                                                                                                                                        </td><td>0                                                                                                                                            </td><td>NA                                                                                                                                           </td><td>2019-07-20 02:59:44                                                                                                                          </td><td> TRUE                                                                                                                                        </td><td>NA                                                                                                                                           </td><td>1152412747155431424                                                                                                                          </td><td>NA                                                                                                                                           </td><td>&lt;a href=\"https://about.twitter.com/products/tweetdeck\" rel=\"nofollow\"&gt;TweetDeck&lt;/a&gt;                                              </td><td>FOXSportsAsia                                                                                                                                </td><td>0                                                                                                                                            </td><td>FALSE                                                                                                                                        </td><td>FALSE                                                                                                                                        </td><td>NA                                                                                                                                           </td><td>NA                                                                                                                                           </td><td><span style=white-space:pre-wrap>TweetDeck         </span>                                                                                   </td><td>2                                                                                                                                            </td><td>0                                                                                                                                            </td><td>positive                                                                                                                                     </td></tr>\n",
       "\t<tr><td><span style=white-space:pre-wrap>What #Manchester United want from Fred this season\n",
       "#ManUtd  #Premier_League \n",
       "Pls RT\n",
       "https://t.co/TgNfVy0vYO                               </span></td><td>FALSE                                                                                                                                                                                </td><td>0                                                                                                                                                                                    </td><td>NA                                                                                                                                                                                   </td><td>2019-07-20 02:58:41                                                                                                                                                                  </td><td>FALSE                                                                                                                                                                                </td><td>NA                                                                                                                                                                                   </td><td>1152412481475796994                                                                                                                                                                  </td><td>NA                                                                                                                                                                                   </td><td><span style=white-space:pre-wrap>&lt;a href=\"https://footy90.com\" rel=\"nofollow\"&gt;footy90.com - News&lt;/a&gt;                </span>                                              </td><td><span style=white-space:pre-wrap>footy90com   </span>                                                                                                                                </td><td>0                                                                                                                                                                                    </td><td>FALSE                                                                                                                                                                                </td><td>FALSE                                                                                                                                                                                </td><td>NA                                                                                                                                                                                   </td><td>NA                                                                                                                                                                                   </td><td>footy90.com - News                                                                                                                                                                   </td><td>3                                                                                                                                                                                    </td><td>0                                                                                                                                                                                    </td><td>positive                                                                                                                                                                             </td></tr>\n",
       "\t<tr><td><span style=white-space:pre-wrap>Betting Odds #football #ChampionsLeague\n",
       "#EuropaLeague #LeedsUnited #ManUtd #freebets\n",
       "#Betfair #Bet365 #Golf\n",
       "100 https://t.co/WmtIPcfdDn   </span></td><td>FALSE                                                                                                                                                                                </td><td>0                                                                                                                                                                                    </td><td>NA                                                                                                                                                                                   </td><td>2019-07-20 02:42:05                                                                                                                                                                  </td><td> TRUE                                                                                                                                                                                </td><td>NA                                                                                                                                                                                   </td><td>1152408304368439296                                                                                                                                                                  </td><td>NA                                                                                                                                                                                   </td><td><span style=white-space:pre-wrap>&lt;a href=\"https://postcron.com\" rel=\"nofollow\"&gt;Postcron App&lt;/a&gt;                     </span>                                              </td><td>SuperLeague77                                                                                                                                                                        </td><td>0                                                                                                                                                                                    </td><td>FALSE                                                                                                                                                                                </td><td>FALSE                                                                                                                                                                                </td><td>NA                                                                                                                                                                                   </td><td>NA                                                                                                                                                                                   </td><td><span style=white-space:pre-wrap>Postcron App      </span>                                                                                                                           </td><td>1                                                                                                                                                                                    </td><td>0                                                                                                                                                                                    </td><td>positive                                                                                                                                                                             </td></tr>\n",
       "\t<tr><td><span style=white-space:pre-wrap>RT @TheAutoKorrect: Nothing more hype than winning an @TheVFL_ @united_ps4 game in extra time at the 93' mark. Well played to @VFLBrighton   </span></td><td>FALSE                                                                                                                                                                                </td><td>0                                                                                                                                                                                    </td><td>NA                                                                                                                                                                                   </td><td>2019-07-20 02:38:20                                                                                                                                                                  </td><td>FALSE                                                                                                                                                                                </td><td>NA                                                                                                                                                                                   </td><td>1152407361690230789                                                                                                                                                                  </td><td>NA                                                                                                                                                                                   </td><td><span style=white-space:pre-wrap>&lt;a href=\"http://twitter.com\" rel=\"nofollow\"&gt;Twitter Web Client&lt;/a&gt;                 </span>                                              </td><td><span style=white-space:pre-wrap>TheVFL_      </span>                                                                                                                                </td><td>1                                                                                                                                                                                    </td><td> TRUE                                                                                                                                                                                </td><td>FALSE                                                                                                                                                                                </td><td>NA                                                                                                                                                                                   </td><td>NA                                                                                                                                                                                   </td><td>Twitter Web Client                                                                                                                                                                   </td><td>3                                                                                                                                                                                    </td><td>1                                                                                                                                                                                    </td><td>positive                                                                                                                                                                             </td></tr>\n",
       "\t<tr><td><span style=white-space:pre-wrap>Gone too early? \n",
       "\n",
       "Stats indicate @ManUtd might end up making a BIG mistake if they let go of Romelu Lukaku. https://t.co/eV8ug1jGId        </span></td><td>FALSE                                                                                                                                                                                </td><td>3                                                                                                                                                                                    </td><td>NA                                                                                                                                                                                   </td><td>2019-07-20 02:29:32                                                                                                                                                                  </td><td> TRUE                                                                                                                                                                                </td><td>NA                                                                                                                                                                                   </td><td>1152405148586483713                                                                                                                                                                  </td><td>NA                                                                                                                                                                                   </td><td>&lt;a href=\"https://about.twitter.com/products/tweetdeck\" rel=\"nofollow\"&gt;TweetDeck&lt;/a&gt;                                                                                      </td><td>FOXSportsAsia                                                                                                                                                                        </td><td>0                                                                                                                                                                                    </td><td>FALSE                                                                                                                                                                                </td><td>FALSE                                                                                                                                                                                </td><td>NA                                                                                                                                                                                   </td><td>NA                                                                                                                                                                                   </td><td><span style=white-space:pre-wrap>TweetDeck         </span>                                                                                                                           </td><td>0                                                                                                                                                                                    </td><td>1                                                                                                                                                                                    </td><td>negative                                                                                                                                                                             </td></tr>\n",
       "</tbody>\n",
       "</table>\n"
      ],
      "text/latex": [
       "\\begin{tabular}{r|llllllllllllllllllll}\n",
       " text & favorited & favoriteCount & replyToSN & created & truncated & replyToSID & id & replyToUID & statusSource & screenName & retweetCount & isRetweet & retweeted & longitude & latitude & statusSource\\_clean & positive & negative & sentiment\\\\\n",
       "\\hline\n",
       "\t A clear choice! \n",
       "\n",
       "Reports suggest @paulpogba has his heart set on a @realmadrid move for one key reason. \n",
       "\n",
       "\\#Pogba https://t.co/KGioo2e93M & FALSE                                                                                                                                           & 0                                                                                                                                               & NA                                                                                                                                              & 2019-07-20 02:59:44                                                                                                                             &  TRUE                                                                                                                                           & NA                                                                                                                                              & 1152412747155431424                                                                                                                             & NA                                                                                                                                              & <a href=\"https://about.twitter.com/products/tweetdeck\" rel=\"nofollow\">TweetDeck</a>                                                             & FOXSportsAsia                                                                                                                                   & 0                                                                                                                                               & FALSE                                                                                                                                           & FALSE                                                                                                                                           & NA                                                                                                                                              & NA                                                                                                                                              & TweetDeck                                                                                                                                       & 2                                                                                                                                               & 0                                                                                                                                               & positive                                                                                                                                       \\\\\n",
       "\t What \\#Manchester United want from Fred this season\n",
       "\\#ManUtd  \\#Premier\\_League \n",
       "Pls RT\n",
       "https://t.co/TgNfVy0vYO                                & FALSE                                                                                                                                                 & 0                                                                                                                                                     & NA                                                                                                                                                    & 2019-07-20 02:58:41                                                                                                                                   & FALSE                                                                                                                                                 & NA                                                                                                                                                    & 1152412481475796994                                                                                                                                   & NA                                                                                                                                                    & <a href=\"https://footy90.com\" rel=\"nofollow\">footy90.com - News</a>                                                                                   & footy90com                                                                                                                                            & 0                                                                                                                                                     & FALSE                                                                                                                                                 & FALSE                                                                                                                                                 & NA                                                                                                                                                    & NA                                                                                                                                                    & footy90.com - News                                                                                                                                    & 3                                                                                                                                                     & 0                                                                                                                                                     & positive                                                                                                                                             \\\\\n",
       "\t Betting Odds \\#football \\#ChampionsLeague\n",
       "\\#EuropaLeague \\#LeedsUnited \\#ManUtd \\#freebets\n",
       "\\#Betfair \\#Bet365 \\#Golf\n",
       "100 https://t.co/WmtIPcfdDn    & FALSE                                                                                                                                                           & 0                                                                                                                                                               & NA                                                                                                                                                              & 2019-07-20 02:42:05                                                                                                                                             &  TRUE                                                                                                                                                           & NA                                                                                                                                                              & 1152408304368439296                                                                                                                                             & NA                                                                                                                                                              & <a href=\"https://postcron.com\" rel=\"nofollow\">Postcron App</a>                                                                                                  & SuperLeague77                                                                                                                                                   & 0                                                                                                                                                               & FALSE                                                                                                                                                           & FALSE                                                                                                                                                           & NA                                                                                                                                                              & NA                                                                                                                                                              & Postcron App                                                                                                                                                    & 1                                                                                                                                                               & 0                                                                                                                                                               & positive                                                                                                                                                       \\\\\n",
       "\t RT @TheAutoKorrect: Nothing more hype than winning an @TheVFL\\_ @united\\_ps4 game in extra time at the 93' mark. Well played to @VFLBrighton    & FALSE                                                                                                                                             & 0                                                                                                                                                 & NA                                                                                                                                                & 2019-07-20 02:38:20                                                                                                                               & FALSE                                                                                                                                             & NA                                                                                                                                                & 1152407361690230789                                                                                                                               & NA                                                                                                                                                & <a href=\"http://twitter.com\" rel=\"nofollow\">Twitter Web Client</a>                                                                                & TheVFL\\_                                                                                                                                         & 1                                                                                                                                                 &  TRUE                                                                                                                                             & FALSE                                                                                                                                             & NA                                                                                                                                                & NA                                                                                                                                                & Twitter Web Client                                                                                                                                & 3                                                                                                                                                 & 1                                                                                                                                                 & positive                                                                                                                                         \\\\\n",
       "\t Gone too early? \n",
       "\n",
       "Stats indicate @ManUtd might end up making a BIG mistake if they let go of Romelu Lukaku. https://t.co/eV8ug1jGId         & FALSE                                                                                                                                         & 3                                                                                                                                             & NA                                                                                                                                            & 2019-07-20 02:29:32                                                                                                                           &  TRUE                                                                                                                                         & NA                                                                                                                                            & 1152405148586483713                                                                                                                           & NA                                                                                                                                            & <a href=\"https://about.twitter.com/products/tweetdeck\" rel=\"nofollow\">TweetDeck</a>                                                           & FOXSportsAsia                                                                                                                                 & 0                                                                                                                                             & FALSE                                                                                                                                         & FALSE                                                                                                                                         & NA                                                                                                                                            & NA                                                                                                                                            & TweetDeck                                                                                                                                     & 0                                                                                                                                             & 1                                                                                                                                             & negative                                                                                                                                     \\\\\n",
       "\\end{tabular}\n"
      ],
      "text/markdown": [
       "\n",
       "| text | favorited | favoriteCount | replyToSN | created | truncated | replyToSID | id | replyToUID | statusSource | screenName | retweetCount | isRetweet | retweeted | longitude | latitude | statusSource_clean | positive | negative | sentiment |\n",
       "|---|---|---|---|---|---|---|---|---|---|---|---|---|---|---|---|---|---|---|---|\n",
       "| A clear choice! \n",
       "\n",
       "Reports suggest @paulpogba has his heart set on a @realmadrid move for one key reason. \n",
       "\n",
       "#Pogba https://t.co/KGioo2e93M | FALSE                                                                                                                                         | 0                                                                                                                                             | NA                                                                                                                                            | 2019-07-20 02:59:44                                                                                                                           |  TRUE                                                                                                                                         | NA                                                                                                                                            | 1152412747155431424                                                                                                                           | NA                                                                                                                                            | <a href=\"https://about.twitter.com/products/tweetdeck\" rel=\"nofollow\">TweetDeck</a>                                                           | FOXSportsAsia                                                                                                                                 | 0                                                                                                                                             | FALSE                                                                                                                                         | FALSE                                                                                                                                         | NA                                                                                                                                            | NA                                                                                                                                            | TweetDeck                                                                                                                                     | 2                                                                                                                                             | 0                                                                                                                                             | positive                                                                                                                                      |\n",
       "| What #Manchester United want from Fred this season\n",
       "#ManUtd  #Premier_League \n",
       "Pls RT\n",
       "https://t.co/TgNfVy0vYO                                | FALSE                                                                                                                                         | 0                                                                                                                                             | NA                                                                                                                                            | 2019-07-20 02:58:41                                                                                                                           | FALSE                                                                                                                                         | NA                                                                                                                                            | 1152412481475796994                                                                                                                           | NA                                                                                                                                            | <a href=\"https://footy90.com\" rel=\"nofollow\">footy90.com - News</a>                                                                           | footy90com                                                                                                                                    | 0                                                                                                                                             | FALSE                                                                                                                                         | FALSE                                                                                                                                         | NA                                                                                                                                            | NA                                                                                                                                            | footy90.com - News                                                                                                                            | 3                                                                                                                                             | 0                                                                                                                                             | positive                                                                                                                                      |\n",
       "| Betting Odds #football #ChampionsLeague\n",
       "#EuropaLeague #LeedsUnited #ManUtd #freebets\n",
       "#Betfair #Bet365 #Golf\n",
       "100 https://t.co/WmtIPcfdDn    | FALSE                                                                                                                                         | 0                                                                                                                                             | NA                                                                                                                                            | 2019-07-20 02:42:05                                                                                                                           |  TRUE                                                                                                                                         | NA                                                                                                                                            | 1152408304368439296                                                                                                                           | NA                                                                                                                                            | <a href=\"https://postcron.com\" rel=\"nofollow\">Postcron App</a>                                                                                | SuperLeague77                                                                                                                                 | 0                                                                                                                                             | FALSE                                                                                                                                         | FALSE                                                                                                                                         | NA                                                                                                                                            | NA                                                                                                                                            | Postcron App                                                                                                                                  | 1                                                                                                                                             | 0                                                                                                                                             | positive                                                                                                                                      |\n",
       "| RT @TheAutoKorrect: Nothing more hype than winning an @TheVFL_ @united_ps4 game in extra time at the 93' mark. Well played to @VFLBrighton    | FALSE                                                                                                                                         | 0                                                                                                                                             | NA                                                                                                                                            | 2019-07-20 02:38:20                                                                                                                           | FALSE                                                                                                                                         | NA                                                                                                                                            | 1152407361690230789                                                                                                                           | NA                                                                                                                                            | <a href=\"http://twitter.com\" rel=\"nofollow\">Twitter Web Client</a>                                                                            | TheVFL_                                                                                                                                       | 1                                                                                                                                             |  TRUE                                                                                                                                         | FALSE                                                                                                                                         | NA                                                                                                                                            | NA                                                                                                                                            | Twitter Web Client                                                                                                                            | 3                                                                                                                                             | 1                                                                                                                                             | positive                                                                                                                                      |\n",
       "| Gone too early? \n",
       "\n",
       "Stats indicate @ManUtd might end up making a BIG mistake if they let go of Romelu Lukaku. https://t.co/eV8ug1jGId         | FALSE                                                                                                                                         | 3                                                                                                                                             | NA                                                                                                                                            | 2019-07-20 02:29:32                                                                                                                           |  TRUE                                                                                                                                         | NA                                                                                                                                            | 1152405148586483713                                                                                                                           | NA                                                                                                                                            | <a href=\"https://about.twitter.com/products/tweetdeck\" rel=\"nofollow\">TweetDeck</a>                                                           | FOXSportsAsia                                                                                                                                 | 0                                                                                                                                             | FALSE                                                                                                                                         | FALSE                                                                                                                                         | NA                                                                                                                                            | NA                                                                                                                                            | TweetDeck                                                                                                                                     | 0                                                                                                                                             | 1                                                                                                                                             | negative                                                                                                                                      |\n",
       "\n"
      ],
      "text/plain": [
       "  text                                                                                                                                         \n",
       "1 A clear choice! \\n\\nReports suggest @paulpogba has his heart set on a @realmadrid move for one key reason. \\n\\n#Pogba https://t.co/KGioo2e93M\n",
       "2 What #Manchester United want from Fred this season\\n#ManUtd  #Premier_League \\nPls RT\\nhttps://t.co/TgNfVy0vYO                               \n",
       "3 Betting Odds #football #ChampionsLeague\\n#EuropaLeague #LeedsUnited #ManUtd #freebets\\n#Betfair #Bet365 #Golf\\n100 https://t.co/WmtIPcfdDn   \n",
       "4 RT @TheAutoKorrect: Nothing more hype than winning an @TheVFL_ @united_ps4 game in extra time at the 93' mark. Well played to @VFLBrighton   \n",
       "5 Gone too early? \\n\\nStats indicate @ManUtd might end up making a BIG mistake if they let go of Romelu Lukaku. https://t.co/eV8ug1jGId        \n",
       "  favorited favoriteCount replyToSN created             truncated replyToSID\n",
       "1 FALSE     0             NA        2019-07-20 02:59:44  TRUE     NA        \n",
       "2 FALSE     0             NA        2019-07-20 02:58:41 FALSE     NA        \n",
       "3 FALSE     0             NA        2019-07-20 02:42:05  TRUE     NA        \n",
       "4 FALSE     0             NA        2019-07-20 02:38:20 FALSE     NA        \n",
       "5 FALSE     3             NA        2019-07-20 02:29:32  TRUE     NA        \n",
       "  id                  replyToUID\n",
       "1 1152412747155431424 NA        \n",
       "2 1152412481475796994 NA        \n",
       "3 1152408304368439296 NA        \n",
       "4 1152407361690230789 NA        \n",
       "5 1152405148586483713 NA        \n",
       "  statusSource                                                                       \n",
       "1 <a href=\"https://about.twitter.com/products/tweetdeck\" rel=\"nofollow\">TweetDeck</a>\n",
       "2 <a href=\"https://footy90.com\" rel=\"nofollow\">footy90.com - News</a>                \n",
       "3 <a href=\"https://postcron.com\" rel=\"nofollow\">Postcron App</a>                     \n",
       "4 <a href=\"http://twitter.com\" rel=\"nofollow\">Twitter Web Client</a>                 \n",
       "5 <a href=\"https://about.twitter.com/products/tweetdeck\" rel=\"nofollow\">TweetDeck</a>\n",
       "  screenName    retweetCount isRetweet retweeted longitude latitude\n",
       "1 FOXSportsAsia 0            FALSE     FALSE     NA        NA      \n",
       "2 footy90com    0            FALSE     FALSE     NA        NA      \n",
       "3 SuperLeague77 0            FALSE     FALSE     NA        NA      \n",
       "4 TheVFL_       1             TRUE     FALSE     NA        NA      \n",
       "5 FOXSportsAsia 0            FALSE     FALSE     NA        NA      \n",
       "  statusSource_clean positive negative sentiment\n",
       "1 TweetDeck          2        0        positive \n",
       "2 footy90.com - News 3        0        positive \n",
       "3 Postcron App       1        0        positive \n",
       "4 Twitter Web Client 3        1        positive \n",
       "5 TweetDeck          0        1        negative "
      ]
     },
     "metadata": {},
     "output_type": "display_data"
    },
    {
     "data": {
      "text/html": [
       "<table>\n",
       "<thead><tr><th scope=col>text</th><th scope=col>favorited</th><th scope=col>favoriteCount</th><th scope=col>replyToSN</th><th scope=col>created</th><th scope=col>truncated</th><th scope=col>replyToSID</th><th scope=col>id</th><th scope=col>replyToUID</th><th scope=col>statusSource</th><th scope=col>screenName</th><th scope=col>retweetCount</th><th scope=col>isRetweet</th><th scope=col>retweeted</th><th scope=col>longitude</th><th scope=col>latitude</th><th scope=col>statusSource_clean</th><th scope=col>positive</th><th scope=col>negative</th><th scope=col>sentiment</th></tr></thead>\n",
       "<tbody>\n",
       "\t<tr><td><span style=white-space:pre-wrap>RT @SGSportsHub: Coooooool shot, @ManUtd  Welcome to #sgsportshub! \n",
       "\n",
       "#ICCSG #ICC2019 https://t.co/78DbPWAqkA </span></td><td>FALSE                                                                                                                                                  </td><td>0                                                                                                                                                      </td><td>NA                                                                                                                                                     </td><td>2019-07-20 03:03:04                                                                                                                                    </td><td>FALSE                                                                                                                                                  </td><td>NA                                                                                                                                                     </td><td>1152413586167193601                                                                                                                                    </td><td>NA                                                                                                                                                     </td><td>&lt;a href=\"http://twitter.com/download/iphone\" rel=\"nofollow\"&gt;Twitter for iPhone&lt;/a&gt;                                                         </td><td>PremLovesMusic                                                                                                                                         </td><td><span style=white-space:pre-wrap>  1</span>                                                                                                            </td><td> TRUE                                                                                                                                                  </td><td>FALSE                                                                                                                                                  </td><td>NA                                                                                                                                                     </td><td>NA                                                                                                                                                     </td><td>Twitter for iPhone                                                                                                                                     </td><td>0                                                                                                                                                      </td><td>1                                                                                                                                                      </td><td>negative                                                                                                                                               </td></tr>\n",
       "\t<tr><td><span style=white-space:pre-wrap>RT @SpursOfficial: \"You trying to show off your muscles?\" \n",
       " \n",
       "#SpursTour2019  #ICC2019 https://t.co/vJn0ddNH85</span></td><td>FALSE                                                                                                                                                  </td><td>0                                                                                                                                                      </td><td>NA                                                                                                                                                     </td><td>2019-07-20 03:02:59                                                                                                                                    </td><td>FALSE                                                                                                                                                  </td><td>NA                                                                                                                                                     </td><td>1152413566298759169                                                                                                                                    </td><td>NA                                                                                                                                                     </td><td>&lt;a href=\"http://twitter.com/download/iphone\" rel=\"nofollow\"&gt;Twitter for iPhone&lt;/a&gt;                                                         </td><td><span style=white-space:pre-wrap>mzs_mn_11     </span>                                                                                                 </td><td>204                                                                                                                                                    </td><td> TRUE                                                                                                                                                  </td><td>FALSE                                                                                                                                                  </td><td>NA                                                                                                                                                     </td><td>NA                                                                                                                                                     </td><td>Twitter for iPhone                                                                                                                                     </td><td>0                                                                                                                                                      </td><td>0                                                                                                                                                      </td><td>positive                                                                                                                                               </td></tr>\n",
       "\t<tr><td><span style=white-space:pre-wrap>Coooooool shot, @ManUtd  Welcome to #sgsportshub! \n",
       "\n",
       "#ICCSG #ICC2019 https://t.co/78DbPWAqkA                  </span></td><td>FALSE                                                                                                                                                  </td><td>0                                                                                                                                                      </td><td>NA                                                                                                                                                     </td><td>2019-07-20 03:02:54                                                                                                                                    </td><td>FALSE                                                                                                                                                  </td><td>NA                                                                                                                                                     </td><td>1152413544194822144                                                                                                                                    </td><td>NA                                                                                                                                                     </td><td>&lt;a href=\"http://twitter.com/download/iphone\" rel=\"nofollow\"&gt;Twitter for iPhone&lt;/a&gt;                                                         </td><td><span style=white-space:pre-wrap>SGSportsHub   </span>                                                                                                 </td><td><span style=white-space:pre-wrap>  1</span>                                                                                                            </td><td>FALSE                                                                                                                                                  </td><td>FALSE                                                                                                                                                  </td><td>NA                                                                                                                                                     </td><td>NA                                                                                                                                                     </td><td>Twitter for iPhone                                                                                                                                     </td><td>0                                                                                                                                                      </td><td>1                                                                                                                                                      </td><td>negative                                                                                                                                               </td></tr>\n",
       "</tbody>\n",
       "</table>\n"
      ],
      "text/latex": [
       "\\begin{tabular}{r|llllllllllllllllllll}\n",
       " text & favorited & favoriteCount & replyToSN & created & truncated & replyToSID & id & replyToUID & statusSource & screenName & retweetCount & isRetweet & retweeted & longitude & latitude & statusSource\\_clean & positive & negative & sentiment\\\\\n",
       "\\hline\n",
       "\t RT @SGSportsHub: Coooooool shot, @ManUtd  Welcome to \\#sgsportshub! \n",
       "\n",
       "\\#ICCSG \\#ICC2019 https://t.co/78DbPWAqkA  & FALSE                                                                                                                 & 0                                                                                                                     & NA                                                                                                                    & 2019-07-20 03:03:04                                                                                                   & FALSE                                                                                                                 & NA                                                                                                                    & 1152413586167193601                                                                                                   & NA                                                                                                                    & <a href=\"http://twitter.com/download/iphone\" rel=\"nofollow\">Twitter for iPhone</a>                                    & PremLovesMusic                                                                                                        &   1                                                                                                                   &  TRUE                                                                                                                 & FALSE                                                                                                                 & NA                                                                                                                    & NA                                                                                                                    & Twitter for iPhone                                                                                                    & 0                                                                                                                     & 1                                                                                                                     & negative                                                                                                             \\\\\n",
       "\t RT @SpursOfficial: \"You trying to show off your muscles?\" \n",
       " \n",
       "\\#SpursTour2019  \\#ICC2019 https://t.co/vJn0ddNH85 & FALSE                                                                                                               & 0                                                                                                                   & NA                                                                                                                  & 2019-07-20 03:02:59                                                                                                 & FALSE                                                                                                               & NA                                                                                                                  & 1152413566298759169                                                                                                 & NA                                                                                                                  & <a href=\"http://twitter.com/download/iphone\" rel=\"nofollow\">Twitter for iPhone</a>                                  & mzs\\_mn\\_11                                                                                                       & 204                                                                                                                 &  TRUE                                                                                                               & FALSE                                                                                                               & NA                                                                                                                  & NA                                                                                                                  & Twitter for iPhone                                                                                                  & 0                                                                                                                   & 0                                                                                                                   & positive                                                                                                           \\\\\n",
       "\t Coooooool shot, @ManUtd  Welcome to \\#sgsportshub! \n",
       "\n",
       "\\#ICCSG \\#ICC2019 https://t.co/78DbPWAqkA                   & FALSE                                                                                                                 & 0                                                                                                                     & NA                                                                                                                    & 2019-07-20 03:02:54                                                                                                   & FALSE                                                                                                                 & NA                                                                                                                    & 1152413544194822144                                                                                                   & NA                                                                                                                    & <a href=\"http://twitter.com/download/iphone\" rel=\"nofollow\">Twitter for iPhone</a>                                    & SGSportsHub                                                                                                           &   1                                                                                                                   & FALSE                                                                                                                 & FALSE                                                                                                                 & NA                                                                                                                    & NA                                                                                                                    & Twitter for iPhone                                                                                                    & 0                                                                                                                     & 1                                                                                                                     & negative                                                                                                             \\\\\n",
       "\\end{tabular}\n"
      ],
      "text/markdown": [
       "\n",
       "| text | favorited | favoriteCount | replyToSN | created | truncated | replyToSID | id | replyToUID | statusSource | screenName | retweetCount | isRetweet | retweeted | longitude | latitude | statusSource_clean | positive | negative | sentiment |\n",
       "|---|---|---|---|---|---|---|---|---|---|---|---|---|---|---|---|---|---|---|---|\n",
       "| RT @SGSportsHub: Coooooool shot, @ManUtd  Welcome to #sgsportshub! \n",
       "\n",
       "#ICCSG #ICC2019 https://t.co/78DbPWAqkA  | FALSE                                                                                                           | 0                                                                                                               | NA                                                                                                              | 2019-07-20 03:03:04                                                                                             | FALSE                                                                                                           | NA                                                                                                              | 1152413586167193601                                                                                             | NA                                                                                                              | <a href=\"http://twitter.com/download/iphone\" rel=\"nofollow\">Twitter for iPhone</a>                              | PremLovesMusic                                                                                                  |   1                                                                                                             |  TRUE                                                                                                           | FALSE                                                                                                           | NA                                                                                                              | NA                                                                                                              | Twitter for iPhone                                                                                              | 0                                                                                                               | 1                                                                                                               | negative                                                                                                        |\n",
       "| RT @SpursOfficial: \"You trying to show off your muscles?\" \n",
       " \n",
       "#SpursTour2019  #ICC2019 https://t.co/vJn0ddNH85 | FALSE                                                                                                           | 0                                                                                                               | NA                                                                                                              | 2019-07-20 03:02:59                                                                                             | FALSE                                                                                                           | NA                                                                                                              | 1152413566298759169                                                                                             | NA                                                                                                              | <a href=\"http://twitter.com/download/iphone\" rel=\"nofollow\">Twitter for iPhone</a>                              | mzs_mn_11                                                                                                       | 204                                                                                                             |  TRUE                                                                                                           | FALSE                                                                                                           | NA                                                                                                              | NA                                                                                                              | Twitter for iPhone                                                                                              | 0                                                                                                               | 0                                                                                                               | positive                                                                                                        |\n",
       "| Coooooool shot, @ManUtd  Welcome to #sgsportshub! \n",
       "\n",
       "#ICCSG #ICC2019 https://t.co/78DbPWAqkA                   | FALSE                                                                                                           | 0                                                                                                               | NA                                                                                                              | 2019-07-20 03:02:54                                                                                             | FALSE                                                                                                           | NA                                                                                                              | 1152413544194822144                                                                                             | NA                                                                                                              | <a href=\"http://twitter.com/download/iphone\" rel=\"nofollow\">Twitter for iPhone</a>                              | SGSportsHub                                                                                                     |   1                                                                                                             | FALSE                                                                                                           | FALSE                                                                                                           | NA                                                                                                              | NA                                                                                                              | Twitter for iPhone                                                                                              | 0                                                                                                               | 1                                                                                                               | negative                                                                                                        |\n",
       "\n"
      ],
      "text/plain": [
       "  text                                                                                                           \n",
       "1 RT @SGSportsHub: Coooooool shot, @ManUtd  Welcome to #sgsportshub! \\n\\n#ICCSG #ICC2019 https://t.co/78DbPWAqkA \n",
       "2 RT @SpursOfficial: \"You trying to show off your muscles?\" \\n \\n#SpursTour2019  #ICC2019 https://t.co/vJn0ddNH85\n",
       "3 Coooooool shot, @ManUtd  Welcome to #sgsportshub! \\n\\n#ICCSG #ICC2019 https://t.co/78DbPWAqkA                  \n",
       "  favorited favoriteCount replyToSN created             truncated replyToSID\n",
       "1 FALSE     0             NA        2019-07-20 03:03:04 FALSE     NA        \n",
       "2 FALSE     0             NA        2019-07-20 03:02:59 FALSE     NA        \n",
       "3 FALSE     0             NA        2019-07-20 03:02:54 FALSE     NA        \n",
       "  id                  replyToUID\n",
       "1 1152413586167193601 NA        \n",
       "2 1152413566298759169 NA        \n",
       "3 1152413544194822144 NA        \n",
       "  statusSource                                                                      \n",
       "1 <a href=\"http://twitter.com/download/iphone\" rel=\"nofollow\">Twitter for iPhone</a>\n",
       "2 <a href=\"http://twitter.com/download/iphone\" rel=\"nofollow\">Twitter for iPhone</a>\n",
       "3 <a href=\"http://twitter.com/download/iphone\" rel=\"nofollow\">Twitter for iPhone</a>\n",
       "  screenName     retweetCount isRetweet retweeted longitude latitude\n",
       "1 PremLovesMusic   1           TRUE     FALSE     NA        NA      \n",
       "2 mzs_mn_11      204           TRUE     FALSE     NA        NA      \n",
       "3 SGSportsHub      1          FALSE     FALSE     NA        NA      \n",
       "  statusSource_clean positive negative sentiment\n",
       "1 Twitter for iPhone 0        1        negative \n",
       "2 Twitter for iPhone 0        0        positive \n",
       "3 Twitter for iPhone 0        1        negative "
      ]
     },
     "metadata": {},
     "output_type": "display_data"
    }
   ],
   "source": [
    "manu_tweets <- manu_tweets %>% mutate(sentiment = ifelse(positive >= negative, \"positive\", \"negative\"))\n",
    "icc_tweets <- icc_tweets %>% mutate(sentiment = ifelse(positive >= negative, \"positive\", \"negative\"))\n",
    "\n",
    "head(manu_tweets,5)\n",
    "head(icc_tweets,3)"
   ]
  },
  {
   "cell_type": "markdown",
   "metadata": {},
   "source": [
    "Additionally, we'll also convert the newly added`sentiment` variable from character to factor:"
   ]
  },
  {
   "cell_type": "code",
   "execution_count": 117,
   "metadata": {},
   "outputs": [],
   "source": [
    "manu_tweets$sentiment <- as.factor(manu_tweets$sentiment)\n",
    "icc_tweets$sentiment <- as.factor(icc_tweets$sentiment)"
   ]
  },
  {
   "cell_type": "markdown",
   "metadata": {},
   "source": [
    "### Creating Document Term Matrix for representation of Words\n",
    "\n",
    "Then, we'll construct a corpus for each dataframe. \n",
    "\n",
    "We'll also use a variant of the `corpus_cleaner` function from before to clean the corpus. This new function will also remove the numbers."
   ]
  },
  {
   "cell_type": "code",
   "execution_count": 121,
   "metadata": {},
   "outputs": [
    {
     "name": "stderr",
     "output_type": "stream",
     "text": [
      "Warning message in tm_map.SimpleCorpus(corpus, removePunctuation):\n",
      "\"transformation drops documents\"Warning message in tm_map.SimpleCorpus(corpus, content_transformer(tolower)):\n",
      "\"transformation drops documents\"Warning message in tm_map.SimpleCorpus(corpus, removeWords, stopwords(\"english\")):\n",
      "\"transformation drops documents\"Warning message in tm_map.SimpleCorpus(corpus, removeNumbers):\n",
      "\"transformation drops documents\"Warning message in tm_map.SimpleCorpus(corpus, stripWhitespace):\n",
      "\"transformation drops documents\"Warning message in tm_map.SimpleCorpus(corpus, stemDocument):\n",
      "\"transformation drops documents\"Warning message in tm_map.SimpleCorpus(corpus, removePunctuation):\n",
      "\"transformation drops documents\"Warning message in tm_map.SimpleCorpus(corpus, content_transformer(tolower)):\n",
      "\"transformation drops documents\"Warning message in tm_map.SimpleCorpus(corpus, removeWords, stopwords(\"english\")):\n",
      "\"transformation drops documents\"Warning message in tm_map.SimpleCorpus(corpus, removeNumbers):\n",
      "\"transformation drops documents\"Warning message in tm_map.SimpleCorpus(corpus, stripWhitespace):\n",
      "\"transformation drops documents\"Warning message in tm_map.SimpleCorpus(corpus, stemDocument):\n",
      "\"transformation drops documents\""
     ]
    }
   ],
   "source": [
    "manu_corpus <- Corpus(VectorSource(manu_tweets$text))\n",
    "icc_corpus <- Corpus(VectorSource(icc_tweets$text))\n",
    "\n",
    "corpus_cleaner2 <- function(corpus){\n",
    "corpus <- tm_map(corpus, removePunctuation)\n",
    "corpus <- tm_map(corpus, content_transformer(tolower))\n",
    "corpus <- tm_map(corpus, removeWords, stopwords(\"english\"))\n",
    "corpus <- tm_map(corpus, removeNumbers)\n",
    "corpus <- tm_map(corpus, stripWhitespace)\n",
    "corpus <- tm_map(corpus, stemDocument)\n",
    "}\n",
    "\n",
    "manu_corp_clean <- corpus_cleaner2(manu_corpus)\n",
    "icc_corp_clean <- corpus_cleaner2(icc_corpus)\n"
   ]
  },
  {
   "cell_type": "markdown",
   "metadata": {},
   "source": [
    "We'll represent the words in each corpus with a document term matrix (DTM). The rows of the document term matrix correspond to documents in the collection, the columns correspond to terms, and its elements are the term frequencies."
   ]
  },
  {
   "cell_type": "code",
   "execution_count": 127,
   "metadata": {},
   "outputs": [
    {
     "name": "stdout",
     "output_type": "stream",
     "text": [
      "<<DocumentTermMatrix (documents: 11, terms: 6)>>\n",
      "Non-/sparse entries: 12/54\n",
      "Sparsity           : 82%\n",
      "Maximal term length: 17\n",
      "Weighting          : term frequency (tf)\n",
      "Sample             :\n",
      "    Terms\n",
      "Docs fred httpstcotgnfvyvyo manchest manutd pls premierleagu\n",
      "  30    0                 0        0      1   0            0\n",
      "  31    0                 0        0      1   0            0\n",
      "  32    0                 0        0      0   0            0\n",
      "  33    0                 0        0      1   0            0\n",
      "  34    0                 0        0      1   0            0\n",
      "  35    0                 0        0      1   0            0\n",
      "  36    0                 0        0      1   0            0\n",
      "  37    0                 0        1      1   0            0\n",
      "  39    0                 0        1      1   0            0\n",
      "  40    0                 0        1      1   0            0\n",
      "<<DocumentTermMatrix (documents: 11, terms: 6)>>\n",
      "Non-/sparse entries: 4/62\n",
      "Sparsity           : 94%\n",
      "Maximal term length: 11\n",
      "Weighting          : term frequency (tf)\n",
      "Sample             :\n",
      "    Terms\n",
      "Docs fan muscl show spursoffici spurstour tri\n",
      "  40   0     0    0           0         0   0\n",
      "  41   0     0    0           0         0   0\n",
      "  42   0     0    0           0         0   0\n",
      "  43   0     0    0           1         1   0\n",
      "  44   0     0    0           0         0   0\n",
      "  45   0     0    0           0         0   0\n",
      "  46   0     0    0           0         0   0\n",
      "  47   0     0    0           1         1   0\n",
      "  48   0     0    0           0         0   0\n",
      "  49   0     0    0           0         0   0\n"
     ]
    }
   ],
   "source": [
    "manu_dtm <- DocumentTermMatrix(manu_corp_clean)\n",
    "icc_dtm <- DocumentTermMatrix(icc_corp_clean)\n",
    "\n",
    "inspect(manu_dtm[30:40, 15:20])\n",
    "inspect(icc_dtm[40:50, 10:15])"
   ]
  },
  {
   "cell_type": "markdown",
   "metadata": {},
   "source": [
    "### Data Partitioning for train and test sets\n",
    "\n",
    "Next, we'll create 75:25 partitions of each dataframe, corpus and, document term matrix to create the train and test sets."
   ]
  },
  {
   "cell_type": "code",
   "execution_count": 143,
   "metadata": {},
   "outputs": [],
   "source": [
    "#ManUTD:\n",
    "manu_tweets.train <- manu_tweets[1:1500,]\n",
    "manu_tweets.test <- manu_tweets[1501:2000,]\n",
    "\n",
    "manu_dtm.train <- manu_dtm[1:1500,]\n",
    "manu_dtm.test <- manu_dtm[1501:2000,]\n",
    "\n",
    "manu_corp_clean.train <- manu_corp_clean[1:1500]\n",
    "manu_corp_clean.test <- manu_corp_clean[1501:2000]\n",
    "\n",
    "\n",
    "#ICC2019:\n",
    "icc_tweets.train <- icc_tweets[1:1500,]\n",
    "icc_tweets.test <- icc_tweets[1501:2000,]\n",
    "\n",
    "icc_dtm.train <- icc_dtm[1:1500,]\n",
    "icc_dtm.test <- icc_dtm[1501:2000,]\n",
    "\n",
    "icc_corp_clean.train <- icc_corp_clean[1:1500]\n",
    "icc_corp_clean.test <- icc_corp_clean[1501:2000]"
   ]
  },
  {
   "cell_type": "code",
   "execution_count": 144,
   "metadata": {},
   "outputs": [
    {
     "data": {
      "text/html": [
       "<ol class=list-inline>\n",
       "\t<li>1500</li>\n",
       "\t<li>3971</li>\n",
       "</ol>\n"
      ],
      "text/latex": [
       "\\begin{enumerate*}\n",
       "\\item 1500\n",
       "\\item 3971\n",
       "\\end{enumerate*}\n"
      ],
      "text/markdown": [
       "1. 1500\n",
       "2. 3971\n",
       "\n",
       "\n"
      ],
      "text/plain": [
       "[1] 1500 3971"
      ]
     },
     "metadata": {},
     "output_type": "display_data"
    },
    {
     "data": {
      "text/html": [
       "<ol class=list-inline>\n",
       "\t<li>1500</li>\n",
       "\t<li>1466</li>\n",
       "</ol>\n"
      ],
      "text/latex": [
       "\\begin{enumerate*}\n",
       "\\item 1500\n",
       "\\item 1466\n",
       "\\end{enumerate*}\n"
      ],
      "text/markdown": [
       "1. 1500\n",
       "2. 1466\n",
       "\n",
       "\n"
      ],
      "text/plain": [
       "[1] 1500 1466"
      ]
     },
     "metadata": {},
     "output_type": "display_data"
    }
   ],
   "source": [
    "dim(manu_dtm.train)\n",
    "\n",
    "dim(icc_dtm.train)"
   ]
  },
  {
   "cell_type": "markdown",
   "metadata": {},
   "source": [
    "The DTMs have 3971 and 1466 features respectively. We can reduce the number of features by disregarding words which don't appear in at least 3 unique tweets.\n",
    "\n",
    "We'll use the `findFreqTerms` function to identify which words don't appear frequently, and then restrict the DTM to only use the frequent words."
   ]
  },
  {
   "cell_type": "code",
   "execution_count": 150,
   "metadata": {},
   "outputs": [
    {
     "data": {
      "text/html": [
       "919"
      ],
      "text/latex": [
       "919"
      ],
      "text/markdown": [
       "919"
      ],
      "text/plain": [
       "[1] 919"
      ]
     },
     "metadata": {},
     "output_type": "display_data"
    },
    {
     "data": {
      "text/html": [
       "500"
      ],
      "text/latex": [
       "500"
      ],
      "text/markdown": [
       "500"
      ],
      "text/plain": [
       "[1] 500"
      ]
     },
     "metadata": {},
     "output_type": "display_data"
    },
    {
     "data": {
      "text/html": [
       "<ol class=list-inline>\n",
       "\t<li>1500</li>\n",
       "\t<li>919</li>\n",
       "</ol>\n"
      ],
      "text/latex": [
       "\\begin{enumerate*}\n",
       "\\item 1500\n",
       "\\item 919\n",
       "\\end{enumerate*}\n"
      ],
      "text/markdown": [
       "1. 1500\n",
       "2. 919\n",
       "\n",
       "\n"
      ],
      "text/plain": [
       "[1] 1500  919"
      ]
     },
     "metadata": {},
     "output_type": "display_data"
    },
    {
     "data": {
      "text/html": [
       "<ol class=list-inline>\n",
       "\t<li>1500</li>\n",
       "\t<li>500</li>\n",
       "</ol>\n"
      ],
      "text/latex": [
       "\\begin{enumerate*}\n",
       "\\item 1500\n",
       "\\item 500\n",
       "\\end{enumerate*}\n"
      ],
      "text/markdown": [
       "1. 1500\n",
       "2. 500\n",
       "\n",
       "\n"
      ],
      "text/plain": [
       "[1] 1500  500"
      ]
     },
     "metadata": {},
     "output_type": "display_data"
    },
    {
     "data": {
      "text/html": [
       "<ol class=list-inline>\n",
       "\t<li>500</li>\n",
       "\t<li>919</li>\n",
       "</ol>\n"
      ],
      "text/latex": [
       "\\begin{enumerate*}\n",
       "\\item 500\n",
       "\\item 919\n",
       "\\end{enumerate*}\n"
      ],
      "text/markdown": [
       "1. 500\n",
       "2. 919\n",
       "\n",
       "\n"
      ],
      "text/plain": [
       "[1] 500 919"
      ]
     },
     "metadata": {},
     "output_type": "display_data"
    },
    {
     "data": {
      "text/html": [
       "<ol class=list-inline>\n",
       "\t<li>500</li>\n",
       "\t<li>500</li>\n",
       "</ol>\n"
      ],
      "text/latex": [
       "\\begin{enumerate*}\n",
       "\\item 500\n",
       "\\item 500\n",
       "\\end{enumerate*}\n"
      ],
      "text/markdown": [
       "1. 500\n",
       "2. 500\n",
       "\n",
       "\n"
      ],
      "text/plain": [
       "[1] 500 500"
      ]
     },
     "metadata": {},
     "output_type": "display_data"
    }
   ],
   "source": [
    "manufreq <- findFreqTerms(manu_dtm.train, 3)\n",
    "length((manufreq))\n",
    "\n",
    "iccfreq <- findFreqTerms(icc_dtm.train, 3)\n",
    "length((iccfreq))\n",
    "\n",
    "\n",
    "# Training sets using words that appear at least 3 times:\n",
    "manu_dtm.train.nb <- DocumentTermMatrix(manu_corp_clean.train, control=list(dictionary = manufreq))\n",
    "icc_dtm.train.nb <- DocumentTermMatrix(icc_corp_clean.train, control=list(dictionary = iccfreq))\n",
    "\n",
    "dim(manu_dtm.train.nb)\n",
    "dim(icc_dtm.train.nb)\n",
    "\n",
    "# Testing sets using words that appear at least 3 times:\n",
    "manu_dtm.test.nb <- DocumentTermMatrix(manu_corp_clean.test, control=list(dictionary = manufreq))\n",
    "icc_dtm.test.nb <- DocumentTermMatrix(icc_corp_clean.test, control=list(dictionary = iccfreq))\n",
    "\n",
    "dim(manu_dtm.test.nb)\n",
    "dim(icc_dtm.test.nb)"
   ]
  },
  {
   "cell_type": "markdown",
   "metadata": {},
   "source": [
    "### Binarized Naive Bayes\n",
    "\n",
    "The Binarized Naive Bayes is a variation of the naive bayes algorithm where the frequency of a given term is replaced by a binary value instead, the logic being that when it comes to sentiment analysis, the *occurrence* of a word matters more than the frequency of said occurrence. \n",
    "\n",
    "We'll begin by making a function that converts word presence or absence to a binary value. We'll then apply the function to the existing DTMs to get the final training and testing DTM sets."
   ]
  },
  {
   "cell_type": "code",
   "execution_count": 152,
   "metadata": {},
   "outputs": [],
   "source": [
    "binary_convert <- function(x) {\n",
    "  occurrence <- ifelse(x > 0, 1,0)\n",
    "  occurrence <- factor(occurrence, levels=c(0,1), labels=c(\"No\", \"Yes\"))\n",
    "  occurrence\n",
    "}\n",
    "\n",
    "manu_trainNB <- apply(manu_dtm.train.nb, 2, binary_convert)\n",
    "manu_testNB <- apply(manu_dtm.test.nb, 2, binary_convert)\n",
    "\n",
    "icc_trainNB <- apply(icc_dtm.train.nb, 2, binary_convert)\n",
    "icc_testNB <- apply(icc_dtm.test.nb, 2, binary_convert)"
   ]
  },
  {
   "cell_type": "markdown",
   "metadata": {},
   "source": [
    "### Naive Bayes Model Training\n",
    "\n",
    "We'll use the `naiveBayes` function to train the models. \n",
    "\n",
    "Because Naive Bayes evaluates products of probabilities, we'll use Laplace 1 to assign non-zero probabilities to words which don't occur in the samples.\n",
    "\n",
    "We'll start by training the classifiers:"
   ]
  },
  {
   "cell_type": "code",
   "execution_count": 157,
   "metadata": {},
   "outputs": [
    {
     "data": {
      "text/plain": [
       "   user  system elapsed \n",
       "   0.54    0.05    0.76 "
      ]
     },
     "metadata": {},
     "output_type": "display_data"
    }
   ],
   "source": [
    "system.time(manu_classifier <- naiveBayes(manu_trainNB, manu_tweets.train$sentiment, laplace = 1))"
   ]
  },
  {
   "cell_type": "code",
   "execution_count": 158,
   "metadata": {},
   "outputs": [
    {
     "data": {
      "text/plain": [
       "   user  system elapsed \n",
       "   0.28    0.00    0.30 "
      ]
     },
     "metadata": {},
     "output_type": "display_data"
    }
   ],
   "source": [
    "system.time(icc_classifier <- naiveBayes(icc_trainNB, icc_tweets.train$sentiment, laplace = 1))"
   ]
  },
  {
   "cell_type": "markdown",
   "metadata": {},
   "source": [
    "### Testing the Models\n",
    "\n",
    "We'll test the classifiers trained above on the `manu_testNB` and `icc_testNB` training sets we made above.\n",
    "\n",
    "Afterwards we'll construct confusion matrices and determine what the accuracy of each classifier was."
   ]
  },
  {
   "cell_type": "code",
   "execution_count": 159,
   "metadata": {},
   "outputs": [
    {
     "data": {
      "text/plain": [
       "   user  system elapsed \n",
       "   7.78    0.15    8.96 "
      ]
     },
     "metadata": {},
     "output_type": "display_data"
    }
   ],
   "source": [
    "system.time(manu_prediction <- predict(manu_classifier, newdata=manu_testNB))"
   ]
  },
  {
   "cell_type": "code",
   "execution_count": 160,
   "metadata": {},
   "outputs": [
    {
     "data": {
      "text/plain": [
       "   user  system elapsed \n",
       "   4.12    0.00    4.12 "
      ]
     },
     "metadata": {},
     "output_type": "display_data"
    }
   ],
   "source": [
    "system.time(icc_prediction <- predict(icc_classifier, newdata=icc_testNB))"
   ]
  },
  {
   "cell_type": "markdown",
   "metadata": {},
   "source": [
    "### Creating Truth Table\n",
    "\n",
    "To determine what the prediction accuracy was, we'll create a truth table that tabulates the predicted sentiment label against what the actual sentiment label was."
   ]
  },
  {
   "cell_type": "code",
   "execution_count": 161,
   "metadata": {},
   "outputs": [
    {
     "data": {
      "text/plain": [
       "          Actual\n",
       "Prediction negative positive\n",
       "  negative        8       18\n",
       "  positive       22      452"
      ]
     },
     "metadata": {},
     "output_type": "display_data"
    }
   ],
   "source": [
    "table(\"Prediction\"= manu_prediction,  \"Actual\" = manu_tweets.test$sentiment)"
   ]
  },
  {
   "cell_type": "code",
   "execution_count": 162,
   "metadata": {},
   "outputs": [
    {
     "data": {
      "text/plain": [
       "          Actual\n",
       "Prediction negative positive\n",
       "  negative       20        8\n",
       "  positive        5      467"
      ]
     },
     "metadata": {},
     "output_type": "display_data"
    }
   ],
   "source": [
    "table(\"Prediction\"= icc_prediction,  \"Actual\" = icc_tweets.test$sentiment)"
   ]
  },
  {
   "cell_type": "markdown",
   "metadata": {},
   "source": [
    "### Creating `manu` Confusion Matrices"
   ]
  },
  {
   "cell_type": "code",
   "execution_count": 166,
   "metadata": {},
   "outputs": [
    {
     "data": {
      "text/plain": [
       "Confusion Matrix and Statistics\n",
       "\n",
       "          Reference\n",
       "Prediction negative positive\n",
       "  negative        8       18\n",
       "  positive       22      452\n",
       "                                          \n",
       "               Accuracy : 0.92            \n",
       "                 95% CI : (0.8927, 0.9422)\n",
       "    No Information Rate : 0.94            \n",
       "    P-Value [Acc > NIR] : 0.9719          \n",
       "                                          \n",
       "                  Kappa : 0.2436          \n",
       "                                          \n",
       " Mcnemar's Test P-Value : 0.6353          \n",
       "                                          \n",
       "            Sensitivity : 0.2667          \n",
       "            Specificity : 0.9617          \n",
       "         Pos Pred Value : 0.3077          \n",
       "         Neg Pred Value : 0.9536          \n",
       "             Prevalence : 0.0600          \n",
       "         Detection Rate : 0.0160          \n",
       "   Detection Prevalence : 0.0520          \n",
       "      Balanced Accuracy : 0.6142          \n",
       "                                          \n",
       "       'Positive' Class : negative        \n",
       "                                          "
      ]
     },
     "metadata": {},
     "output_type": "display_data"
    }
   ],
   "source": [
    "manu_confusion_mat <- confusionMatrix(manu_prediction, manu_tweets.test$sentiment)\n",
    "\n",
    "manu_confusion_mat"
   ]
  },
  {
   "cell_type": "code",
   "execution_count": 175,
   "metadata": {},
   "outputs": [
    {
     "data": {
      "text/html": [
       "<dl class=dl-horizontal>\n",
       "\t<dt>Accuracy</dt>\n",
       "\t\t<dd>0.92</dd>\n",
       "\t<dt>Kappa</dt>\n",
       "\t\t<dd>0.243570347957641</dd>\n",
       "\t<dt>AccuracyLower</dt>\n",
       "\t\t<dd>0.892654535643648</dd>\n",
       "\t<dt>AccuracyUpper</dt>\n",
       "\t\t<dd>0.942233880071166</dd>\n",
       "\t<dt>AccuracyNull</dt>\n",
       "\t\t<dd>0.94</dd>\n",
       "\t<dt>AccuracyPValue</dt>\n",
       "\t\t<dd>0.971859575929187</dd>\n",
       "\t<dt>McnemarPValue</dt>\n",
       "\t\t<dd>0.635256295997248</dd>\n",
       "</dl>\n"
      ],
      "text/latex": [
       "\\begin{description*}\n",
       "\\item[Accuracy] 0.92\n",
       "\\item[Kappa] 0.243570347957641\n",
       "\\item[AccuracyLower] 0.892654535643648\n",
       "\\item[AccuracyUpper] 0.942233880071166\n",
       "\\item[AccuracyNull] 0.94\n",
       "\\item[AccuracyPValue] 0.971859575929187\n",
       "\\item[McnemarPValue] 0.635256295997248\n",
       "\\end{description*}\n"
      ],
      "text/markdown": [
       "Accuracy\n",
       ":   0.92Kappa\n",
       ":   0.243570347957641AccuracyLower\n",
       ":   0.892654535643648AccuracyUpper\n",
       ":   0.942233880071166AccuracyNull\n",
       ":   0.94AccuracyPValue\n",
       ":   0.971859575929187McnemarPValue\n",
       ":   0.635256295997248\n",
       "\n"
      ],
      "text/plain": [
       "      Accuracy          Kappa  AccuracyLower  AccuracyUpper   AccuracyNull \n",
       "     0.9200000      0.2435703      0.8926545      0.9422339      0.9400000 \n",
       "AccuracyPValue  McnemarPValue \n",
       "     0.9718596      0.6352563 "
      ]
     },
     "metadata": {},
     "output_type": "display_data"
    },
    {
     "data": {
      "text/html": [
       "<strong>Accuracy:</strong> 0.92"
      ],
      "text/latex": [
       "\\textbf{Accuracy:} 0.92"
      ],
      "text/markdown": [
       "**Accuracy:** 0.92"
      ],
      "text/plain": [
       "Accuracy \n",
       "    0.92 "
      ]
     },
     "metadata": {},
     "output_type": "display_data"
    }
   ],
   "source": [
    "manu_confusion_mat$overall\n",
    "\n",
    "manu_confusion_mat$overall['Accuracy']"
   ]
  },
  {
   "cell_type": "markdown",
   "metadata": {},
   "source": [
    "### Creating `icc` Confusion Matrices"
   ]
  },
  {
   "cell_type": "code",
   "execution_count": 171,
   "metadata": {},
   "outputs": [
    {
     "data": {
      "text/plain": [
       "Confusion Matrix and Statistics\n",
       "\n",
       "          Reference\n",
       "Prediction negative positive\n",
       "  negative       20        8\n",
       "  positive        5      467\n",
       "                                          \n",
       "               Accuracy : 0.974           \n",
       "                 95% CI : (0.9559, 0.9861)\n",
       "    No Information Rate : 0.95            \n",
       "    P-Value [Acc > NIR] : 0.005508        \n",
       "                                          \n",
       "                  Kappa : 0.741           \n",
       "                                          \n",
       " Mcnemar's Test P-Value : 0.579100        \n",
       "                                          \n",
       "            Sensitivity : 0.8000          \n",
       "            Specificity : 0.9832          \n",
       "         Pos Pred Value : 0.7143          \n",
       "         Neg Pred Value : 0.9894          \n",
       "             Prevalence : 0.0500          \n",
       "         Detection Rate : 0.0400          \n",
       "   Detection Prevalence : 0.0560          \n",
       "      Balanced Accuracy : 0.8916          \n",
       "                                          \n",
       "       'Positive' Class : negative        \n",
       "                                          "
      ]
     },
     "metadata": {},
     "output_type": "display_data"
    }
   ],
   "source": [
    "icc_confusion_mat <- confusionMatrix(icc_prediction, icc_tweets.test$sentiment)\n",
    "\n",
    "icc_confusion_mat"
   ]
  },
  {
   "cell_type": "code",
   "execution_count": 176,
   "metadata": {},
   "outputs": [
    {
     "data": {
      "text/html": [
       "<dl class=dl-horizontal>\n",
       "\t<dt>Accuracy</dt>\n",
       "\t\t<dd>0.974</dd>\n",
       "\t<dt>Kappa</dt>\n",
       "\t\t<dd>0.741035856573705</dd>\n",
       "\t<dt>AccuracyLower</dt>\n",
       "\t\t<dd>0.955949563143126</dd>\n",
       "\t<dt>AccuracyUpper</dt>\n",
       "\t\t<dd>0.98608506993714</dd>\n",
       "\t<dt>AccuracyNull</dt>\n",
       "\t\t<dd>0.95</dd>\n",
       "\t<dt>AccuracyPValue</dt>\n",
       "\t\t<dd>0.00550775469173167</dd>\n",
       "\t<dt>McnemarPValue</dt>\n",
       "\t\t<dd>0.579099741953919</dd>\n",
       "</dl>\n"
      ],
      "text/latex": [
       "\\begin{description*}\n",
       "\\item[Accuracy] 0.974\n",
       "\\item[Kappa] 0.741035856573705\n",
       "\\item[AccuracyLower] 0.955949563143126\n",
       "\\item[AccuracyUpper] 0.98608506993714\n",
       "\\item[AccuracyNull] 0.95\n",
       "\\item[AccuracyPValue] 0.00550775469173167\n",
       "\\item[McnemarPValue] 0.579099741953919\n",
       "\\end{description*}\n"
      ],
      "text/markdown": [
       "Accuracy\n",
       ":   0.974Kappa\n",
       ":   0.741035856573705AccuracyLower\n",
       ":   0.955949563143126AccuracyUpper\n",
       ":   0.98608506993714AccuracyNull\n",
       ":   0.95AccuracyPValue\n",
       ":   0.00550775469173167McnemarPValue\n",
       ":   0.579099741953919\n",
       "\n"
      ],
      "text/plain": [
       "      Accuracy          Kappa  AccuracyLower  AccuracyUpper   AccuracyNull \n",
       "   0.974000000    0.741035857    0.955949563    0.986085070    0.950000000 \n",
       "AccuracyPValue  McnemarPValue \n",
       "   0.005507755    0.579099742 "
      ]
     },
     "metadata": {},
     "output_type": "display_data"
    },
    {
     "data": {
      "text/html": [
       "<strong>Accuracy:</strong> 0.974"
      ],
      "text/latex": [
       "\\textbf{Accuracy:} 0.974"
      ],
      "text/markdown": [
       "**Accuracy:** 0.974"
      ],
      "text/plain": [
       "Accuracy \n",
       "   0.974 "
      ]
     },
     "metadata": {},
     "output_type": "display_data"
    }
   ],
   "source": [
    "icc_confusion_mat$overall\n",
    "\n",
    "icc_confusion_mat$overall['Accuracy']"
   ]
  },
  {
   "cell_type": "markdown",
   "metadata": {},
   "source": [
    "### Outcome of Naive Bayes model\n",
    "\n",
    "The accuracy of the `icc_classifier` was 97.4%, and that of the `manu_classifier` was 92%. \n",
    "\n",
    "We see that the Naive Bayes algorithm did a decent job in analyzes the sentiments of the tweets in the test data, despite the assumptions of the Naive Bayes model."
   ]
  },
  {
   "cell_type": "code",
   "execution_count": null,
   "metadata": {},
   "outputs": [],
   "source": []
  }
 ],
 "metadata": {
  "kernelspec": {
   "display_name": "R",
   "language": "R",
   "name": "ir"
  },
  "language_info": {
   "codemirror_mode": "r",
   "file_extension": ".r",
   "mimetype": "text/x-r-source",
   "name": "R",
   "pygments_lexer": "r",
   "version": "3.6.0"
  }
 },
 "nbformat": 4,
 "nbformat_minor": 2
}
